{
  "nbformat": 4,
  "nbformat_minor": 0,
  "metadata": {
    "colab": {
      "provenance": [],
      "authorship_tag": "ABX9TyMr99TNQ3lBgm+iaNfitu2K",
      "include_colab_link": true
    },
    "kernelspec": {
      "name": "python3",
      "display_name": "Python 3"
    },
    "language_info": {
      "name": "python"
    }
  },
  "cells": [
    {
      "cell_type": "markdown",
      "metadata": {
        "id": "view-in-github",
        "colab_type": "text"
      },
      "source": [
        "<a href=\"https://colab.research.google.com/github/InutilemMachina/DataSciRepo/blob/main/Classification_Titanic.ipynb\" target=\"_parent\"><img src=\"https://colab.research.google.com/assets/colab-badge.svg\" alt=\"Open In Colab\"/></a>"
      ]
    },
    {
      "cell_type": "code",
      "execution_count": null,
      "metadata": {
        "id": "lHt1rqXeh1oY"
      },
      "outputs": [],
      "source": [
        "from pathlib import Path\n",
        "import pandas as pd\n",
        "import tarfile\n",
        "import urllib.request\n",
        "\n",
        "def load_titanic_data():\n",
        "    tarball_path = Path(\"datasets/titanic.tgz\")\n",
        "    if not tarball_path.is_file():\n",
        "        Path(\"datasets\").mkdir(parents=True, exist_ok=True)\n",
        "        url = \"https://github.com/ageron/data/raw/main/titanic.tgz\"\n",
        "        urllib.request.urlretrieve(url, tarball_path)\n",
        "        with tarfile.open(tarball_path) as titanic_tarball:\n",
        "            titanic_tarball.extractall(path=\"datasets\")\n",
        "    return [pd.read_csv(Path(\"datasets/titanic\") / filename)\n",
        "            for filename in (\"train.csv\", \"test.csv\")]"
      ]
    },
    {
      "cell_type": "code",
      "source": [
        "train_data, test_data = load_titanic_data()"
      ],
      "metadata": {
        "id": "cg9XfY1Rh87D"
      },
      "execution_count": null,
      "outputs": []
    },
    {
      "cell_type": "code",
      "source": [
        "# test_data.head() # Survived not included due to Kaggle contest"
      ],
      "metadata": {
        "id": "jUMGv1qaiCce"
      },
      "execution_count": null,
      "outputs": []
    },
    {
      "cell_type": "code",
      "source": [
        "train_data.head()"
      ],
      "metadata": {
        "colab": {
          "base_uri": "https://localhost:8080/",
          "height": 424
        },
        "id": "tm53ZfaxiByl",
        "outputId": "b7e6b477-1710-4d21-cadb-399ee9c12b7d"
      },
      "execution_count": null,
      "outputs": [
        {
          "output_type": "execute_result",
          "data": {
            "text/plain": [
              "   PassengerId  Survived  Pclass  \\\n",
              "0            1         0       3   \n",
              "1            2         1       1   \n",
              "2            3         1       3   \n",
              "3            4         1       1   \n",
              "4            5         0       3   \n",
              "\n",
              "                                                Name     Sex   Age  SibSp  \\\n",
              "0                            Braund, Mr. Owen Harris    male  22.0      1   \n",
              "1  Cumings, Mrs. John Bradley (Florence Briggs Th...  female  38.0      1   \n",
              "2                             Heikkinen, Miss. Laina  female  26.0      0   \n",
              "3       Futrelle, Mrs. Jacques Heath (Lily May Peel)  female  35.0      1   \n",
              "4                           Allen, Mr. William Henry    male  35.0      0   \n",
              "\n",
              "   Parch            Ticket     Fare Cabin Embarked  \n",
              "0      0         A/5 21171   7.2500   NaN        S  \n",
              "1      0          PC 17599  71.2833   C85        C  \n",
              "2      0  STON/O2. 3101282   7.9250   NaN        S  \n",
              "3      0            113803  53.1000  C123        S  \n",
              "4      0            373450   8.0500   NaN        S  "
            ],
            "text/html": [
              "\n",
              "\n",
              "  <div id=\"df-c347a1de-66c2-4f10-839f-067af8fd8dfd\">\n",
              "    <div class=\"colab-df-container\">\n",
              "      <div>\n",
              "<style scoped>\n",
              "    .dataframe tbody tr th:only-of-type {\n",
              "        vertical-align: middle;\n",
              "    }\n",
              "\n",
              "    .dataframe tbody tr th {\n",
              "        vertical-align: top;\n",
              "    }\n",
              "\n",
              "    .dataframe thead th {\n",
              "        text-align: right;\n",
              "    }\n",
              "</style>\n",
              "<table border=\"1\" class=\"dataframe\">\n",
              "  <thead>\n",
              "    <tr style=\"text-align: right;\">\n",
              "      <th></th>\n",
              "      <th>PassengerId</th>\n",
              "      <th>Survived</th>\n",
              "      <th>Pclass</th>\n",
              "      <th>Name</th>\n",
              "      <th>Sex</th>\n",
              "      <th>Age</th>\n",
              "      <th>SibSp</th>\n",
              "      <th>Parch</th>\n",
              "      <th>Ticket</th>\n",
              "      <th>Fare</th>\n",
              "      <th>Cabin</th>\n",
              "      <th>Embarked</th>\n",
              "    </tr>\n",
              "  </thead>\n",
              "  <tbody>\n",
              "    <tr>\n",
              "      <th>0</th>\n",
              "      <td>1</td>\n",
              "      <td>0</td>\n",
              "      <td>3</td>\n",
              "      <td>Braund, Mr. Owen Harris</td>\n",
              "      <td>male</td>\n",
              "      <td>22.0</td>\n",
              "      <td>1</td>\n",
              "      <td>0</td>\n",
              "      <td>A/5 21171</td>\n",
              "      <td>7.2500</td>\n",
              "      <td>NaN</td>\n",
              "      <td>S</td>\n",
              "    </tr>\n",
              "    <tr>\n",
              "      <th>1</th>\n",
              "      <td>2</td>\n",
              "      <td>1</td>\n",
              "      <td>1</td>\n",
              "      <td>Cumings, Mrs. John Bradley (Florence Briggs Th...</td>\n",
              "      <td>female</td>\n",
              "      <td>38.0</td>\n",
              "      <td>1</td>\n",
              "      <td>0</td>\n",
              "      <td>PC 17599</td>\n",
              "      <td>71.2833</td>\n",
              "      <td>C85</td>\n",
              "      <td>C</td>\n",
              "    </tr>\n",
              "    <tr>\n",
              "      <th>2</th>\n",
              "      <td>3</td>\n",
              "      <td>1</td>\n",
              "      <td>3</td>\n",
              "      <td>Heikkinen, Miss. Laina</td>\n",
              "      <td>female</td>\n",
              "      <td>26.0</td>\n",
              "      <td>0</td>\n",
              "      <td>0</td>\n",
              "      <td>STON/O2. 3101282</td>\n",
              "      <td>7.9250</td>\n",
              "      <td>NaN</td>\n",
              "      <td>S</td>\n",
              "    </tr>\n",
              "    <tr>\n",
              "      <th>3</th>\n",
              "      <td>4</td>\n",
              "      <td>1</td>\n",
              "      <td>1</td>\n",
              "      <td>Futrelle, Mrs. Jacques Heath (Lily May Peel)</td>\n",
              "      <td>female</td>\n",
              "      <td>35.0</td>\n",
              "      <td>1</td>\n",
              "      <td>0</td>\n",
              "      <td>113803</td>\n",
              "      <td>53.1000</td>\n",
              "      <td>C123</td>\n",
              "      <td>S</td>\n",
              "    </tr>\n",
              "    <tr>\n",
              "      <th>4</th>\n",
              "      <td>5</td>\n",
              "      <td>0</td>\n",
              "      <td>3</td>\n",
              "      <td>Allen, Mr. William Henry</td>\n",
              "      <td>male</td>\n",
              "      <td>35.0</td>\n",
              "      <td>0</td>\n",
              "      <td>0</td>\n",
              "      <td>373450</td>\n",
              "      <td>8.0500</td>\n",
              "      <td>NaN</td>\n",
              "      <td>S</td>\n",
              "    </tr>\n",
              "  </tbody>\n",
              "</table>\n",
              "</div>\n",
              "      <button class=\"colab-df-convert\" onclick=\"convertToInteractive('df-c347a1de-66c2-4f10-839f-067af8fd8dfd')\"\n",
              "              title=\"Convert this dataframe to an interactive table.\"\n",
              "              style=\"display:none;\">\n",
              "\n",
              "  <svg xmlns=\"http://www.w3.org/2000/svg\" height=\"24px\"viewBox=\"0 0 24 24\"\n",
              "       width=\"24px\">\n",
              "    <path d=\"M0 0h24v24H0V0z\" fill=\"none\"/>\n",
              "    <path d=\"M18.56 5.44l.94 2.06.94-2.06 2.06-.94-2.06-.94-.94-2.06-.94 2.06-2.06.94zm-11 1L8.5 8.5l.94-2.06 2.06-.94-2.06-.94L8.5 2.5l-.94 2.06-2.06.94zm10 10l.94 2.06.94-2.06 2.06-.94-2.06-.94-.94-2.06-.94 2.06-2.06.94z\"/><path d=\"M17.41 7.96l-1.37-1.37c-.4-.4-.92-.59-1.43-.59-.52 0-1.04.2-1.43.59L10.3 9.45l-7.72 7.72c-.78.78-.78 2.05 0 2.83L4 21.41c.39.39.9.59 1.41.59.51 0 1.02-.2 1.41-.59l7.78-7.78 2.81-2.81c.8-.78.8-2.07 0-2.86zM5.41 20L4 18.59l7.72-7.72 1.47 1.35L5.41 20z\"/>\n",
              "  </svg>\n",
              "      </button>\n",
              "\n",
              "\n",
              "\n",
              "    <div id=\"df-cc0946d7-67e4-430b-a1b7-c5d14f965e18\">\n",
              "      <button class=\"colab-df-quickchart\" onclick=\"quickchart('df-cc0946d7-67e4-430b-a1b7-c5d14f965e18')\"\n",
              "              title=\"Suggest charts.\"\n",
              "              style=\"display:none;\">\n",
              "\n",
              "<svg xmlns=\"http://www.w3.org/2000/svg\" height=\"24px\"viewBox=\"0 0 24 24\"\n",
              "     width=\"24px\">\n",
              "    <g>\n",
              "        <path d=\"M19 3H5c-1.1 0-2 .9-2 2v14c0 1.1.9 2 2 2h14c1.1 0 2-.9 2-2V5c0-1.1-.9-2-2-2zM9 17H7v-7h2v7zm4 0h-2V7h2v10zm4 0h-2v-4h2v4z\"/>\n",
              "    </g>\n",
              "</svg>\n",
              "      </button>\n",
              "    </div>\n",
              "\n",
              "<style>\n",
              "  .colab-df-quickchart {\n",
              "    background-color: #E8F0FE;\n",
              "    border: none;\n",
              "    border-radius: 50%;\n",
              "    cursor: pointer;\n",
              "    display: none;\n",
              "    fill: #1967D2;\n",
              "    height: 32px;\n",
              "    padding: 0 0 0 0;\n",
              "    width: 32px;\n",
              "  }\n",
              "\n",
              "  .colab-df-quickchart:hover {\n",
              "    background-color: #E2EBFA;\n",
              "    box-shadow: 0px 1px 2px rgba(60, 64, 67, 0.3), 0px 1px 3px 1px rgba(60, 64, 67, 0.15);\n",
              "    fill: #174EA6;\n",
              "  }\n",
              "\n",
              "  [theme=dark] .colab-df-quickchart {\n",
              "    background-color: #3B4455;\n",
              "    fill: #D2E3FC;\n",
              "  }\n",
              "\n",
              "  [theme=dark] .colab-df-quickchart:hover {\n",
              "    background-color: #434B5C;\n",
              "    box-shadow: 0px 1px 3px 1px rgba(0, 0, 0, 0.15);\n",
              "    filter: drop-shadow(0px 1px 2px rgba(0, 0, 0, 0.3));\n",
              "    fill: #FFFFFF;\n",
              "  }\n",
              "</style>\n",
              "\n",
              "    <script>\n",
              "      async function quickchart(key) {\n",
              "        const containerElement = document.querySelector('#' + key);\n",
              "        const charts = await google.colab.kernel.invokeFunction(\n",
              "            'suggestCharts', [key], {});\n",
              "      }\n",
              "    </script>\n",
              "\n",
              "      <script>\n",
              "\n",
              "function displayQuickchartButton(domScope) {\n",
              "  let quickchartButtonEl =\n",
              "    domScope.querySelector('#df-cc0946d7-67e4-430b-a1b7-c5d14f965e18 button.colab-df-quickchart');\n",
              "  quickchartButtonEl.style.display =\n",
              "    google.colab.kernel.accessAllowed ? 'block' : 'none';\n",
              "}\n",
              "\n",
              "        displayQuickchartButton(document);\n",
              "      </script>\n",
              "      <style>\n",
              "    .colab-df-container {\n",
              "      display:flex;\n",
              "      flex-wrap:wrap;\n",
              "      gap: 12px;\n",
              "    }\n",
              "\n",
              "    .colab-df-convert {\n",
              "      background-color: #E8F0FE;\n",
              "      border: none;\n",
              "      border-radius: 50%;\n",
              "      cursor: pointer;\n",
              "      display: none;\n",
              "      fill: #1967D2;\n",
              "      height: 32px;\n",
              "      padding: 0 0 0 0;\n",
              "      width: 32px;\n",
              "    }\n",
              "\n",
              "    .colab-df-convert:hover {\n",
              "      background-color: #E2EBFA;\n",
              "      box-shadow: 0px 1px 2px rgba(60, 64, 67, 0.3), 0px 1px 3px 1px rgba(60, 64, 67, 0.15);\n",
              "      fill: #174EA6;\n",
              "    }\n",
              "\n",
              "    [theme=dark] .colab-df-convert {\n",
              "      background-color: #3B4455;\n",
              "      fill: #D2E3FC;\n",
              "    }\n",
              "\n",
              "    [theme=dark] .colab-df-convert:hover {\n",
              "      background-color: #434B5C;\n",
              "      box-shadow: 0px 1px 3px 1px rgba(0, 0, 0, 0.15);\n",
              "      filter: drop-shadow(0px 1px 2px rgba(0, 0, 0, 0.3));\n",
              "      fill: #FFFFFF;\n",
              "    }\n",
              "  </style>\n",
              "\n",
              "      <script>\n",
              "        const buttonEl =\n",
              "          document.querySelector('#df-c347a1de-66c2-4f10-839f-067af8fd8dfd button.colab-df-convert');\n",
              "        buttonEl.style.display =\n",
              "          google.colab.kernel.accessAllowed ? 'block' : 'none';\n",
              "\n",
              "        async function convertToInteractive(key) {\n",
              "          const element = document.querySelector('#df-c347a1de-66c2-4f10-839f-067af8fd8dfd');\n",
              "          const dataTable =\n",
              "            await google.colab.kernel.invokeFunction('convertToInteractive',\n",
              "                                                     [key], {});\n",
              "          if (!dataTable) return;\n",
              "\n",
              "          const docLinkHtml = 'Like what you see? Visit the ' +\n",
              "            '<a target=\"_blank\" href=https://colab.research.google.com/notebooks/data_table.ipynb>data table notebook</a>'\n",
              "            + ' to learn more about interactive tables.';\n",
              "          element.innerHTML = '';\n",
              "          dataTable['output_type'] = 'display_data';\n",
              "          await google.colab.output.renderOutput(dataTable, element);\n",
              "          const docLink = document.createElement('div');\n",
              "          docLink.innerHTML = docLinkHtml;\n",
              "          element.appendChild(docLink);\n",
              "        }\n",
              "      </script>\n",
              "    </div>\n",
              "  </div>\n"
            ]
          },
          "metadata": {},
          "execution_count": 134
        }
      ]
    },
    {
      "cell_type": "markdown",
      "source": [
        "The attributes have the following meaning:\n",
        "\n",
        "- PassengerId: a unique identifier for each passenger\n",
        "- Survived: that's the target, 0 means the passenger did not survive, while 1 means he/she survived.\n",
        "- Pclass: passenger class.\n",
        "- Name, Sex, Age: self-explanatory\n",
        "- SibSp: how many siblings & spouses of the passenger aboard the Titanic.\n",
        "- Parch: how many children & parents of the passenger aboard the Titanic.\n",
        "- Ticket: ticket id\n",
        "- Fare: price paid (in pounds)\n",
        "- Cabin: passenger's cabin number\n",
        "- Embarked: where the passenger embarked the Titanic\n",
        "\n",
        "The goal is to predict whether or not a passenger survived based on attributes such as their age, sex, passenger class, where they embarked and so on."
      ],
      "metadata": {
        "id": "VWE84zV8ipvs"
      }
    },
    {
      "cell_type": "code",
      "source": [
        "!pip install summarytools\n",
        "from summarytools import dfSummary\n",
        "\n",
        "dfSummary(train_data)"
      ],
      "metadata": {
        "colab": {
          "base_uri": "https://localhost:8080/",
          "height": 1000
        },
        "id": "P8l6xMofiDp-",
        "outputId": "5fad5f3a-cce8-469e-931c-705d69ffdbb9"
      },
      "execution_count": null,
      "outputs": [
        {
          "output_type": "stream",
          "name": "stdout",
          "text": [
            "Requirement already satisfied: summarytools in /usr/local/lib/python3.10/dist-packages (0.2.3)\n",
            "Requirement already satisfied: pandas>=1.4.0 in /usr/local/lib/python3.10/dist-packages (from summarytools) (1.5.3)\n",
            "Requirement already satisfied: ipython>=7.20.0 in /usr/local/lib/python3.10/dist-packages (from summarytools) (7.34.0)\n",
            "Requirement already satisfied: numpy>=1.18.5 in /usr/local/lib/python3.10/dist-packages (from summarytools) (1.22.4)\n",
            "Requirement already satisfied: matplotlib>=3.3.0 in /usr/local/lib/python3.10/dist-packages (from summarytools) (3.7.1)\n",
            "Requirement already satisfied: setuptools>=18.5 in /usr/local/lib/python3.10/dist-packages (from ipython>=7.20.0->summarytools) (67.7.2)\n",
            "Requirement already satisfied: jedi>=0.16 in /usr/local/lib/python3.10/dist-packages (from ipython>=7.20.0->summarytools) (0.19.0)\n",
            "Requirement already satisfied: decorator in /usr/local/lib/python3.10/dist-packages (from ipython>=7.20.0->summarytools) (4.4.2)\n",
            "Requirement already satisfied: pickleshare in /usr/local/lib/python3.10/dist-packages (from ipython>=7.20.0->summarytools) (0.7.5)\n",
            "Requirement already satisfied: traitlets>=4.2 in /usr/local/lib/python3.10/dist-packages (from ipython>=7.20.0->summarytools) (5.7.1)\n",
            "Requirement already satisfied: prompt-toolkit!=3.0.0,!=3.0.1,<3.1.0,>=2.0.0 in /usr/local/lib/python3.10/dist-packages (from ipython>=7.20.0->summarytools) (3.0.39)\n",
            "Requirement already satisfied: pygments in /usr/local/lib/python3.10/dist-packages (from ipython>=7.20.0->summarytools) (2.14.0)\n",
            "Requirement already satisfied: backcall in /usr/local/lib/python3.10/dist-packages (from ipython>=7.20.0->summarytools) (0.2.0)\n",
            "Requirement already satisfied: matplotlib-inline in /usr/local/lib/python3.10/dist-packages (from ipython>=7.20.0->summarytools) (0.1.6)\n",
            "Requirement already satisfied: pexpect>4.3 in /usr/local/lib/python3.10/dist-packages (from ipython>=7.20.0->summarytools) (4.8.0)\n",
            "Requirement already satisfied: contourpy>=1.0.1 in /usr/local/lib/python3.10/dist-packages (from matplotlib>=3.3.0->summarytools) (1.1.0)\n",
            "Requirement already satisfied: cycler>=0.10 in /usr/local/lib/python3.10/dist-packages (from matplotlib>=3.3.0->summarytools) (0.11.0)\n",
            "Requirement already satisfied: fonttools>=4.22.0 in /usr/local/lib/python3.10/dist-packages (from matplotlib>=3.3.0->summarytools) (4.41.1)\n",
            "Requirement already satisfied: kiwisolver>=1.0.1 in /usr/local/lib/python3.10/dist-packages (from matplotlib>=3.3.0->summarytools) (1.4.4)\n",
            "Requirement already satisfied: packaging>=20.0 in /usr/local/lib/python3.10/dist-packages (from matplotlib>=3.3.0->summarytools) (23.1)\n",
            "Requirement already satisfied: pillow>=6.2.0 in /usr/local/lib/python3.10/dist-packages (from matplotlib>=3.3.0->summarytools) (9.4.0)\n",
            "Requirement already satisfied: pyparsing>=2.3.1 in /usr/local/lib/python3.10/dist-packages (from matplotlib>=3.3.0->summarytools) (3.1.0)\n",
            "Requirement already satisfied: python-dateutil>=2.7 in /usr/local/lib/python3.10/dist-packages (from matplotlib>=3.3.0->summarytools) (2.8.2)\n",
            "Requirement already satisfied: pytz>=2020.1 in /usr/local/lib/python3.10/dist-packages (from pandas>=1.4.0->summarytools) (2022.7.1)\n",
            "Requirement already satisfied: parso<0.9.0,>=0.8.3 in /usr/local/lib/python3.10/dist-packages (from jedi>=0.16->ipython>=7.20.0->summarytools) (0.8.3)\n",
            "Requirement already satisfied: ptyprocess>=0.5 in /usr/local/lib/python3.10/dist-packages (from pexpect>4.3->ipython>=7.20.0->summarytools) (0.7.0)\n",
            "Requirement already satisfied: wcwidth in /usr/local/lib/python3.10/dist-packages (from prompt-toolkit!=3.0.0,!=3.0.1,<3.1.0,>=2.0.0->ipython>=7.20.0->summarytools) (0.2.6)\n",
            "Requirement already satisfied: six>=1.5 in /usr/local/lib/python3.10/dist-packages (from python-dateutil>=2.7->matplotlib>=3.3.0->summarytools) (1.16.0)\n"
          ]
        },
        {
          "output_type": "execute_result",
          "data": {
            "text/plain": [
              "<pandas.io.formats.style.Styler at 0x7ab3bf729300>"
            ],
            "text/html": [
              "<style type=\"text/css\">\n",
              "#T_0f29d thead>tr>th {\n",
              "  text-align: left;\n",
              "}\n",
              "#T_0f29d_row0_col0, #T_0f29d_row1_col0, #T_0f29d_row2_col0, #T_0f29d_row3_col0, #T_0f29d_row4_col0, #T_0f29d_row5_col0, #T_0f29d_row6_col0, #T_0f29d_row7_col0, #T_0f29d_row8_col0, #T_0f29d_row9_col0, #T_0f29d_row10_col0, #T_0f29d_row11_col0 {\n",
              "  text-align: left;\n",
              "  font-size: 12px;\n",
              "  vertical-align: middle;\n",
              "  width: 5%;\n",
              "  max-width: 50px;\n",
              "  min-width: 20px;\n",
              "}\n",
              "#T_0f29d_row0_col1, #T_0f29d_row1_col1, #T_0f29d_row2_col1, #T_0f29d_row3_col1, #T_0f29d_row4_col1, #T_0f29d_row5_col1, #T_0f29d_row6_col1, #T_0f29d_row7_col1, #T_0f29d_row8_col1, #T_0f29d_row9_col1, #T_0f29d_row10_col1, #T_0f29d_row11_col1 {\n",
              "  text-align: left;\n",
              "  font-size: 12px;\n",
              "  vertical-align: middle;\n",
              "  width: 15%;\n",
              "  max-width: 200px;\n",
              "  min-width: 100px;\n",
              "  word-break: break-word;\n",
              "}\n",
              "#T_0f29d_row0_col2, #T_0f29d_row1_col2, #T_0f29d_row2_col2, #T_0f29d_row3_col2, #T_0f29d_row4_col2, #T_0f29d_row5_col2, #T_0f29d_row6_col2, #T_0f29d_row7_col2, #T_0f29d_row8_col2, #T_0f29d_row9_col2, #T_0f29d_row10_col2, #T_0f29d_row11_col2 {\n",
              "  text-align: left;\n",
              "  font-size: 12px;\n",
              "  vertical-align: middle;\n",
              "  width: 30%;\n",
              "  min-width: 100px;\n",
              "}\n",
              "#T_0f29d_row0_col3, #T_0f29d_row1_col3, #T_0f29d_row2_col3, #T_0f29d_row3_col3, #T_0f29d_row4_col3, #T_0f29d_row5_col3, #T_0f29d_row6_col3, #T_0f29d_row7_col3, #T_0f29d_row8_col3, #T_0f29d_row9_col3, #T_0f29d_row10_col3, #T_0f29d_row11_col3 {\n",
              "  text-align: left;\n",
              "  font-size: 12px;\n",
              "  vertical-align: middle;\n",
              "  width: 25%;\n",
              "  min-width: 100px;\n",
              "}\n",
              "#T_0f29d_row0_col4, #T_0f29d_row1_col4, #T_0f29d_row2_col4, #T_0f29d_row3_col4, #T_0f29d_row4_col4, #T_0f29d_row5_col4, #T_0f29d_row6_col4, #T_0f29d_row7_col4, #T_0f29d_row8_col4, #T_0f29d_row9_col4, #T_0f29d_row10_col4, #T_0f29d_row11_col4 {\n",
              "  text-align: left;\n",
              "  font-size: 12px;\n",
              "  vertical-align: middle;\n",
              "  width: 20%;\n",
              "  min-width: 150px;\n",
              "}\n",
              "#T_0f29d_row0_col5, #T_0f29d_row1_col5, #T_0f29d_row2_col5, #T_0f29d_row3_col5, #T_0f29d_row4_col5, #T_0f29d_row5_col5, #T_0f29d_row6_col5, #T_0f29d_row7_col5, #T_0f29d_row8_col5, #T_0f29d_row9_col5, #T_0f29d_row10_col5, #T_0f29d_row11_col5 {\n",
              "  text-align: left;\n",
              "  font-size: 12px;\n",
              "  vertical-align: middle;\n",
              "  width: 10%;\n",
              "}\n",
              "</style>\n",
              "<table id=\"T_0f29d\" class=\"dataframe\">\n",
              "  <caption><strong>Data Frame Summary</strong><br>train_data<br>Dimensions: 891 x 12<br>Duplicates: 0</caption>\n",
              "  <thead>\n",
              "    <tr>\n",
              "      <th id=\"T_0f29d_level0_col0\" class=\"col_heading level0 col0\" >No</th>\n",
              "      <th id=\"T_0f29d_level0_col1\" class=\"col_heading level0 col1\" >Variable</th>\n",
              "      <th id=\"T_0f29d_level0_col2\" class=\"col_heading level0 col2\" >Stats / Values</th>\n",
              "      <th id=\"T_0f29d_level0_col3\" class=\"col_heading level0 col3\" >Freqs / (% of Valid)</th>\n",
              "      <th id=\"T_0f29d_level0_col4\" class=\"col_heading level0 col4\" >Graph</th>\n",
              "      <th id=\"T_0f29d_level0_col5\" class=\"col_heading level0 col5\" >Missing</th>\n",
              "    </tr>\n",
              "  </thead>\n",
              "  <tbody>\n",
              "    <tr>\n",
              "      <td id=\"T_0f29d_row0_col0\" class=\"data row0 col0\" >1</td>\n",
              "      <td id=\"T_0f29d_row0_col1\" class=\"data row0 col1\" ><strong>PassengerId</strong><br>[int64]</td>\n",
              "      <td id=\"T_0f29d_row0_col2\" class=\"data row0 col2\" >Mean (sd) : 446.0 (257.4)<br>min < med < max:<br>1.0 < 446.0 < 891.0<br>IQR (CV) : 445.0 (1.7)</td>\n",
              "      <td id=\"T_0f29d_row0_col3\" class=\"data row0 col3\" >891 distinct values</td>\n",
              "      <td id=\"T_0f29d_row0_col4\" class=\"data row0 col4\" ><img src = \"data:image/png;base64, iVBORw0KGgoAAAANSUhEUgAAAKoAAABGCAYAAABc8A97AAAAOXRFWHRTb2Z0d2FyZQBNYXRwbG90bGliIHZlcnNpb24zLjcuMSwgaHR0cHM6Ly9tYXRwbG90bGliLm9yZy/bCgiHAAAACXBIWXMAAA9hAAAPYQGoP6dpAAAB8ElEQVR4nO3Xv27aYBhH4ddWikxAtvhTuICO3ZBYuICOvdheBENnhi6d2JCQZYSbqBZ11yxJMVaTnuo8K/x4v+EMSdK2bUj/uvStHyBd4+6tH6D/R5Ikw4gY3Dj/2bbtw3Mf/jHUnsfTiPh147bvnnqb+u5sOp1+KopidMv4dDqVSZJ8eS7WF0NNkmQ4m80+53k+6Xr4crm8q+v6w3g8/p6mafOae+pt6rsjIpqmySLi43q9/jqfz09dtlVVZdvtdnI8HgcR0T3UiBjkeT7ZbDYPRVE8djm+3+8nu93u/Wq1+rZcLssu27576m3qu5/s77MsaxaLxY+u+4gYvvThVX+jFkXx2PV4WZbDiIjRaNR523dPvU1999P93+J//UIwVCEYqhAMVQiGKgRDFYKhCsFQhWCoQjBUIRiqEAxVCIYqBEMVgqEKwVCFYKhCMFQhGKoQDFUIhioEQxWCoQrBUIVgqEIwVCEYqhAMVQiGKgRDFYKhCsFQhWCoQjBUIRiqEAxVCIYqBEMVgqEKwVCFYKhCMFQhGKoQDFUIhioEQxWCoQrBUIVgqEIwVCEYqhAMVQiGKgRDFYKhCsFQhWCoQjBUIRiqEAxVCIYqBEMVwt01X6qqKuv6w+fzOYuIqOs6OxwO96+5p96mvrvv/pq+fgOe9DS+8Np05AAAAABJRU5ErkJggg==\"></img></td>\n",
              "      <td id=\"T_0f29d_row0_col5\" class=\"data row0 col5\" >0<br>(0.0%)</td>\n",
              "    </tr>\n",
              "    <tr>\n",
              "      <td id=\"T_0f29d_row1_col0\" class=\"data row1 col0\" >2</td>\n",
              "      <td id=\"T_0f29d_row1_col1\" class=\"data row1 col1\" ><strong>Survived</strong><br>[int64]</td>\n",
              "      <td id=\"T_0f29d_row1_col2\" class=\"data row1 col2\" >1. 0<br>2. 1</td>\n",
              "      <td id=\"T_0f29d_row1_col3\" class=\"data row1 col3\" >549 (61.6%)<br>342 (38.4%)</td>\n",
              "      <td id=\"T_0f29d_row1_col4\" class=\"data row1 col4\" ><img src = \"data:image/png;base64, iVBORw0KGgoAAAANSUhEUgAAAJsAAAAuCAYAAAA/ZmtKAAAAOXRFWHRTb2Z0d2FyZQBNYXRwbG90bGliIHZlcnNpb24zLjcuMSwgaHR0cHM6Ly9tYXRwbG90bGliLm9yZy/bCgiHAAAACXBIWXMAAA9hAAAPYQGoP6dpAAABNElEQVR4nO3bQWrDMBRF0a9iQjORMAYvJovoYrsI7cYYa9CETNRB9/Ak+u5ZwU+4GBL8Uu89AIUUEfeIuI0+xNi79/4cfYTCsm3bV855HX2Iq9bamVL6dghuyTmvj8fjWUp5jT7GzXVdn7XW9TiOW0T8/9giIkopr33ff0YfY+o++gCVj9EHwAexQYbYIENskCE2yBAbZIgNMsQGGWKDDLFBhtggQ2yQITbIEBtkiA0yS8TfS3yjD3Hk9r0vrbWz1rqG0Ut8M2mtnRHxHn2HAoOX8WwGL4kpH1Tcnmw2T5EZWU35nGZzM7KZ8rnN5mbkNuXjF/dA/KkLGWKDDLFBhtggQ2yQITbIEBtkiA0yxAYZYoMMsUGG2CBDbJAhNsgQG2RspnwOn3F2VlM+p9ncjBi8QOYXCltq37DnnSoAAAAASUVORK5CYII=\"></img></td>\n",
              "      <td id=\"T_0f29d_row1_col5\" class=\"data row1 col5\" >0<br>(0.0%)</td>\n",
              "    </tr>\n",
              "    <tr>\n",
              "      <td id=\"T_0f29d_row2_col0\" class=\"data row2 col0\" >3</td>\n",
              "      <td id=\"T_0f29d_row2_col1\" class=\"data row2 col1\" ><strong>Pclass</strong><br>[int64]</td>\n",
              "      <td id=\"T_0f29d_row2_col2\" class=\"data row2 col2\" >1. 3<br>2. 1<br>3. 2</td>\n",
              "      <td id=\"T_0f29d_row2_col3\" class=\"data row2 col3\" >491 (55.1%)<br>216 (24.2%)<br>184 (20.7%)</td>\n",
              "      <td id=\"T_0f29d_row2_col4\" class=\"data row2 col4\" ><img src = \"data:image/png;base64, iVBORw0KGgoAAAANSUhEUgAAAJsAAABFCAYAAABdVZTTAAAAOXRFWHRTb2Z0d2FyZQBNYXRwbG90bGliIHZlcnNpb24zLjcuMSwgaHR0cHM6Ly9tYXRwbG90bGliLm9yZy/bCgiHAAAACXBIWXMAAA9hAAAPYQGoP6dpAAABl0lEQVR4nO3bQWrbYBSF0aciQjORMAYvxovoYrsI7cYYa5CETJRBJi20s+T+P9I5K3iYDxsJ32HbtoKEH60P4DiGqnquqqfWh+zM+7Ztr62P6M14Pp9/TdN0an3Inqzreh+G4bfg/jZO03S6Xq+v8zy/tT5mDx6Px89lWU632+2pqsT2h7Gqap7nt8vl8tL6mB15bn1AjzwgECM2YsRGjNiIERsxYiNGbMSIjRixESM2YsRGjNiIERsxYiNmrPr8D1brQ/bCZ/l/47qu92VZTuU/WF9mXdd7Vb23vqM3NgjfwwbhHwZTPlJ6/mbz7bAz3a6rLJT2p8t1lYXSPvW8rvJ0vDNe6hIjNmLERozYiBEbMWIjRmzEiI0YsREjNmLERozYiBEbMWIjpst1VW/38DW6XVdZKO2PDQIx1lXEeEAgpoefUT+XB9F8ymeydxxNp3wme8fSw5Svq1cufB8PCMSIjRixESM2YsRGjNiIERsxYiNGbMSIjRixESM2YsRGjNiIaTrlM9k7luZTPpO947BBIMaUj5gPSryjSkEJaC0AAAAASUVORK5CYII=\"></img></td>\n",
              "      <td id=\"T_0f29d_row2_col5\" class=\"data row2 col5\" >0<br>(0.0%)</td>\n",
              "    </tr>\n",
              "    <tr>\n",
              "      <td id=\"T_0f29d_row3_col0\" class=\"data row3 col0\" >4</td>\n",
              "      <td id=\"T_0f29d_row3_col1\" class=\"data row3 col1\" ><strong>Name</strong><br>[object]</td>\n",
              "      <td id=\"T_0f29d_row3_col2\" class=\"data row3 col2\" >1. Braund, Mr. Owen Harris<br>2. Boulos, Mr. Hanna<br>3. Frolicher-Stehli, Mr. Maxmilli<br>4. Gilinski, Mr. Eliezer<br>5. Murdlin, Mr. Joseph<br>6. Rintamaki, Mr. Matti<br>7. Stephenson, Mrs. Walter Bertra<br>8. Elsbury, Mr. William James<br>9. Bourke, Miss. Mary<br>10. Chapman, Mr. John Henry<br>11. other</td>\n",
              "      <td id=\"T_0f29d_row3_col3\" class=\"data row3 col3\" >1 (0.1%)<br>1 (0.1%)<br>1 (0.1%)<br>1 (0.1%)<br>1 (0.1%)<br>1 (0.1%)<br>1 (0.1%)<br>1 (0.1%)<br>1 (0.1%)<br>1 (0.1%)<br>881 (98.9%)</td>\n",
              "      <td id=\"T_0f29d_row3_col4\" class=\"data row3 col4\" ><img src = \"data:image/png;base64, iVBORw0KGgoAAAANSUhEUgAAAJsAAAD+CAYAAAAtWHdlAAAAOXRFWHRTb2Z0d2FyZQBNYXRwbG90bGliIHZlcnNpb24zLjcuMSwgaHR0cHM6Ly9tYXRwbG90bGliLm9yZy/bCgiHAAAACXBIWXMAAA9hAAAPYQGoP6dpAAADXElEQVR4nO3cwWkbYRRG0TdGOPZGQhhcQtKDi0ixKUJFpAdjPIvY8WaySBYpINwB5ZwK/sWFh2A+Ldu2DRRu9n4A/w+xkREbGbGRERsZsZERGxmxkREbGbGRuVmW5cuyLHd7P4TrdzMzn2fm094P4fo5o2TERkZsZMRGRmxkxEZGbGTERkZsZMRGRmxkxEZGbGTERkZsZMRG5mZmvs/Mz70fwvVb/IsRFWeUjNjIWFeRsa4i44ySERsZsZERGxmxkREbGbGRERsZsZERGxmxkREbGbGRERsZsZExeCFj8ELGGSUjNjIGL2QMXsg4o2TERkZsZMRGRmxkxEZGbGTERkZsZMRGRmxkxEZGbGTERkZsZAxeyBi8kHFGyYiNjNjIWFeRsa4i44ySERsZsZERGxmxkREbGbGRERsZsZERGxmxkREbGbGRERsZsZGxriJjXUXGGSUjNjIGL2QMXsg4o2TERkZsZMRGRmxkxEZGbGTERkZsZMRGRmxkxEZGbGTERkZsZAxeyBi8kHFGyYiNjMELGYMXMs4oGbGRERsZsZERGxmxkREbGbGRERsZsZERGxmxkREbGbGRERsZsZGxriJjXUXGGSUjNjLWVWSsq8g4o2TERkZsZMRGRmxkxEZGbGTERkZsZMRGRmxkxEZGbGTERkZsZAxeyBi8kHFGyYiNjMELGYMXMs4oGbGRERsZsZERGxmxkREbGbGRERsZsZERGxmxkREbGbGRERsZgxcyBi9knFEyYiMjNjLWVWSsq8g4o2TERkZsZMRGRmxkxEZGbGTERkZsZMRGRmxkxEZGbGTERkZsZKyryFhXkXFGyYiNjMELGYMXMs4oGbGRERsZsZERGxmxkREbGbGRERsZsZERGxmxkREbGbGRERsZgxcyBi9knFEyy8zcz8zt3g/hqn1s2/Z2eHh4+Ho8Hs97v4brta7ry7Is3w7H4/H89PT0djqd3vd+FNfn9fX17nK5nJ+fn28PMzOn0+n98fHxx94P42rdz/iBQEhsZMRGRmxkxEZGbGTERkZsZMRGRmxkxEZGbGTERuYw8/szkL0fwnX6u63Duq4vl8vlPH8+A4F/bV3Xl5n58Fk4hY9t296sq8j4gUBGbGTERkZsZMRGRmxkxEZGbGTERuYXwgdpOf758ysAAAAASUVORK5CYII=\"></img></td>\n",
              "      <td id=\"T_0f29d_row3_col5\" class=\"data row3 col5\" >0<br>(0.0%)</td>\n",
              "    </tr>\n",
              "    <tr>\n",
              "      <td id=\"T_0f29d_row4_col0\" class=\"data row4 col0\" >5</td>\n",
              "      <td id=\"T_0f29d_row4_col1\" class=\"data row4 col1\" ><strong>Sex</strong><br>[object]</td>\n",
              "      <td id=\"T_0f29d_row4_col2\" class=\"data row4 col2\" >1. male<br>2. female</td>\n",
              "      <td id=\"T_0f29d_row4_col3\" class=\"data row4 col3\" >577 (64.8%)<br>314 (35.2%)</td>\n",
              "      <td id=\"T_0f29d_row4_col4\" class=\"data row4 col4\" ><img src = \"data:image/png;base64, iVBORw0KGgoAAAANSUhEUgAAAJsAAAAuCAYAAAA/ZmtKAAAAOXRFWHRTb2Z0d2FyZQBNYXRwbG90bGliIHZlcnNpb24zLjcuMSwgaHR0cHM6Ly9tYXRwbG90bGliLm9yZy/bCgiHAAAACXBIWXMAAA9hAAAPYQGoP6dpAAABOUlEQVR4nO3bwWnDQBRF0TdBmGSjQQhUjIpIsSlC3QihWcTGm8nCkA78xvN9TwXf+GJso5dqrQIckqQvSZfWh+DfvdZ6bX3EMwzzPH+P4zi1PgQPpZQjpfQTMbhhHMdpXddrzvnW+ph3d57n57Zt077vF0nxYpOknPNtWZbf1sdA0uNrTUgfrQ/A+yA22BAbbIgNNsQGG2KDDbHBhthgQ2ywITbYEBtsiA02xAYbYoMNscFmkB4P7bU+BPHfh6GUcmzbNinwQ3s9KaUcku6t73gGBi+vJ+zgJTHlg0v0T7awnxI9Cj3lizyL61HYKV/0WVyPok/5+IX9QvhTFzbEBhtigw2xwYbYYENssCE22BAbbIgNNsQGG2KDDbHBhthgQ2ywITbYhJ3yRXxNvQs95Ys8i+sRgxfY/AEKW2rfw3Mb/AAAAABJRU5ErkJggg==\"></img></td>\n",
              "      <td id=\"T_0f29d_row4_col5\" class=\"data row4 col5\" >0<br>(0.0%)</td>\n",
              "    </tr>\n",
              "    <tr>\n",
              "      <td id=\"T_0f29d_row5_col0\" class=\"data row5 col0\" >6</td>\n",
              "      <td id=\"T_0f29d_row5_col1\" class=\"data row5 col1\" ><strong>Age</strong><br>[float64]</td>\n",
              "      <td id=\"T_0f29d_row5_col2\" class=\"data row5 col2\" >Mean (sd) : 29.7 (14.5)<br>min < med < max:<br>0.4 < 28.0 < 80.0<br>IQR (CV) : 17.9 (2.0)</td>\n",
              "      <td id=\"T_0f29d_row5_col3\" class=\"data row5 col3\" >88 distinct values</td>\n",
              "      <td id=\"T_0f29d_row5_col4\" class=\"data row5 col4\" ><img src = \"data:image/png;base64, iVBORw0KGgoAAAANSUhEUgAAAKoAAABGCAYAAABc8A97AAAAOXRFWHRTb2Z0d2FyZQBNYXRwbG90bGliIHZlcnNpb24zLjcuMSwgaHR0cHM6Ly9tYXRwbG90bGliLm9yZy/bCgiHAAAACXBIWXMAAA9hAAAPYQGoP6dpAAACg0lEQVR4nO3dQY7aMBSA4edmQAGkRIgKdlygUhcsOUQP2yMUiRNwA3ZIURRESkQI6abTTWcY4iTFz/2/vYUXvyAxtmzquhbAdZ+ePQHgES/PnsA9xpiRiAwth1/quj53OR88j7OhGmNGs9nsWxRFU5vxx+MxNcZ8J1Y/OBuqiAyjKJqu1+tzHMdFk4FZloXb7XaaJMlQRAjVAy6HKiIicRwX8/n8Z9NxVVVFIhIZY2w/mkcHhzgfqo08zwdlWX5dLpdBEASNvo1f8ejgFi9DvVwuL2EYjlerVbFYLNKm43l0cI+Xob6aTCZWjw2/jTqdDFphHRUqECpUIFSoQKhQgVChAqFCBUKFCoQKFQgVKhAqVCBUqECoUIFQoQKhQgVChQqEChW83jjdRlVVA7E/c8V5q44R6hvanrnivFX3CPUNbc5ccd6qH4R6R4szV5y36hgvU1CBUKECoUIFQoUKhAoVCBUqECpUIFSoQKhQgVChAqFCBUKFCoQKFQgVKrDNrwecDugeoXaM0wH9INSOcTqgH4TaE04HdIuXKahAqFDhw59+riKHC+6GylXkcMVH36hcRQ4nPPTW/6SryKPb7TawGahZyz8LRDx93OpteartwndZlmFVVV+KovghIrYX76rC9e3v6y3UtleR7/f76W63G1+v16CP+bmI69vf1/uCv+3Cd5qm/+3CN9e3/411VKhAqFCBUKECoUIFdk95xtdN24TqEZ83bROqR3zetE2oHvJx0zYvU1CBUKECP/34w+WdW4QKEXF/5xahQkS62bm12WzmSZJ8NsYcbaZwL/CHQs2yLGz6qafTKRQRyfM8PBwO4385XutnuzBvW+fzudc13F+aMrK5pmPjbQAAAABJRU5ErkJggg==\"></img></td>\n",
              "      <td id=\"T_0f29d_row5_col5\" class=\"data row5 col5\" >177<br>(19.9%)</td>\n",
              "    </tr>\n",
              "    <tr>\n",
              "      <td id=\"T_0f29d_row6_col0\" class=\"data row6 col0\" >7</td>\n",
              "      <td id=\"T_0f29d_row6_col1\" class=\"data row6 col1\" ><strong>SibSp</strong><br>[int64]</td>\n",
              "      <td id=\"T_0f29d_row6_col2\" class=\"data row6 col2\" >1. 0<br>2. 1<br>3. 2<br>4. 4<br>5. 3<br>6. 8<br>7. 5</td>\n",
              "      <td id=\"T_0f29d_row6_col3\" class=\"data row6 col3\" >608 (68.2%)<br>209 (23.5%)<br>28 (3.1%)<br>18 (2.0%)<br>16 (1.8%)<br>7 (0.8%)<br>5 (0.6%)</td>\n",
              "      <td id=\"T_0f29d_row6_col4\" class=\"data row6 col4\" ><img src = \"data:image/png;base64, iVBORw0KGgoAAAANSUhEUgAAAJsAAAChCAYAAADQgM1HAAAAOXRFWHRTb2Z0d2FyZQBNYXRwbG90bGliIHZlcnNpb24zLjcuMSwgaHR0cHM6Ly9tYXRwbG90bGliLm9yZy/bCgiHAAAACXBIWXMAAA9hAAAPYQGoP6dpAAAC4ElEQVR4nO3dQW7bVgBF0S9DCJoJBUGAF6NFZLFdhHZjGNagDjJRB3WKtpHTgcsrij1n5tkHfE2KAh+8uVwuAwoPtz4A/x9iIyM2MmIjIzYymzHG5zHGp1sfhH/17XK5vN76EB+xPRwOX6Zp2t/6IPzc+Xx+3mw2v95zcNtpmvbH4/F1t9t9vfVhuO7l5eWX0+m0f3p6+jTGuN/Yxhhjt9t9fXx8/O3Wh+GnPt/6AB/lAYGM2MiIjYzYyIiNjNjIiI2M2MiIjYzYyIiNjNjIiI3Mdow/XmG59UF431p+P9vz+fx8Op32YwWvsKzZ+Xx+HmN8u/U5PsJr4ffj7l8L31jEU1nile3u/4K5bnGDlzUMO7huUYOXtQw7uG6JgxdPxSvlS10yYiMjNjJiIyM2MmIjIzYyYiMjNjJiIyM2MmIjIzYyYiOzqHXVUs7BPBa3rlrDiojrbBDIWFeRee/K5urCf+7qusrCiTn8sK6ycGIu762rFvFkyrr4UpeM2MiIjYzYyIiNjNjIiI2M2MiIjYzYyIiNjNjIiI3MD4MXoxPmcnXwYnTCHLwWTsbghYwHBDL/vI26fTKbv62rrKqY08P3ddXxeHx9i25J63hW5M911dvPVlXMxgMCGbGRERsZsZERGxmxkREbGbGRERsZsZERGxmxkREbmUX9OyHW7a/rKqsqZuW1cDLWVWRc2cgYvJAxeCFj8ELGl7pkxEZGbGTERkZsZMRGRmxkxEZGbGTERkZsZMRGRmxkDF7IGLyQ8Vo4GYMXMh4QyHy/jQ63T+a2PRwOX8YYw6qKuT1M07S3qqLgMxsZsZERGxmxkREbGbGRERsZsZERGxmxkREbGbGRERsZsZERG5nt26JqDKsqZua1cDLWVWRc2cgYvJAxeCHjqw8yYiMjNjJiIyM2MmIjIzYyYiMjNjJiIyM2MmIjIzYyYiMjNjJiI2NdRcYGgYx1FRmf2ciIjYzYyIiNzO+EZiCbrLwo2QAAAABJRU5ErkJggg==\"></img></td>\n",
              "      <td id=\"T_0f29d_row6_col5\" class=\"data row6 col5\" >0<br>(0.0%)</td>\n",
              "    </tr>\n",
              "    <tr>\n",
              "      <td id=\"T_0f29d_row7_col0\" class=\"data row7 col0\" >8</td>\n",
              "      <td id=\"T_0f29d_row7_col1\" class=\"data row7 col1\" ><strong>Parch</strong><br>[int64]</td>\n",
              "      <td id=\"T_0f29d_row7_col2\" class=\"data row7 col2\" >1. 0<br>2. 1<br>3. 2<br>4. 5<br>5. 3<br>6. 4<br>7. 6</td>\n",
              "      <td id=\"T_0f29d_row7_col3\" class=\"data row7 col3\" >678 (76.1%)<br>118 (13.2%)<br>80 (9.0%)<br>5 (0.6%)<br>5 (0.6%)<br>4 (0.4%)<br>1 (0.1%)</td>\n",
              "      <td id=\"T_0f29d_row7_col4\" class=\"data row7 col4\" ><img src = \"data:image/png;base64, iVBORw0KGgoAAAANSUhEUgAAAJsAAAChCAYAAADQgM1HAAAAOXRFWHRTb2Z0d2FyZQBNYXRwbG90bGliIHZlcnNpb24zLjcuMSwgaHR0cHM6Ly9tYXRwbG90bGliLm9yZy/bCgiHAAAACXBIWXMAAA9hAAAPYQGoP6dpAAAC3ElEQVR4nO3dwW0bVxhG0X8EwrE3JAQCKiHpQUW4WBfBItKDIIiL2PGGWdgBjHglmrxDKOdU8ABfcYbE++DldDoNFO7WPgD/H2IjIzYyYiMjNjLLzHyYmXdrH4SL+3o6nT6vfYgfbfb7/cftdnu/9kG4rOPx+Lwsy6dbCm6z3W7vHx8fP+92uy9rH4bLeHl5eX84HO6fnp7ezcztxDYzs9vtvjw8PPy19mG4qA9rH+C/fEEgIzYyYiMjNjJiIyM2MmIjIzYyYiMjNjJiIyM2MmIjs5n5diVl7YNwObf677k5Ho/Ph8Phfm7wSgrnOx6PzzPzde1z/Mi18Lfr5q6FLxbxVK71yXZzf1Ws7yqDl1scW7C+iw9ebnVswfquNXjxzZaf+FGXjNjIiI2M2MiIjYzYyIiNjNjIiI2M2MiIjYzYyIiNjNjIXHxddavLHtZ3lXXVLS57WJ8NAhnrKjK/8snm04tXOXtdZUHFa521rrKg4hy/sq6yoOJV/KhLRmxkxEZGbGTERkZsZMRGRmxkxEZGbGTERkZsZMRG5qzBi1EL5zh78GLUwmu5Fk7G4IWMLwhk/n2Mjkci17bZ7/cfZ2Yspbi2u+12e/99yuf/HOWqvLORERsZsZERGxmxkREbGbGRERsZsZERGxmxkREbGbGRERsZsZHZfF9JzVhKcWWuhZOxriLjk42MwQsZgxcyfvogIzYyYiMjNjJiIyM2MmIjIzYyYiMjNjJiIyM2MmIjIzYyYiNj8ELGtXAyBi9kvLOR8RglY11FxrqKjHc2MmIjIzYyYiMjNjJiIyM2MmIjIzYyYiMjNjJiIyM2MmIjIzYy1lVkXAsnY11FxjsbmbtlWf5YluX92gfh7bubmd9n5re1D8Lb5zFKRmxkxEZGbGTERkZsZMRGRmxkxEZGbGTERkZsZMRGRmxkxEZGbGTuZubPmfl77YPw9hm8kPEYJSM2MmIjIzYyYiPzD2Qx6Vyi72OZAAAAAElFTkSuQmCC\"></img></td>\n",
              "      <td id=\"T_0f29d_row7_col5\" class=\"data row7 col5\" >0<br>(0.0%)</td>\n",
              "    </tr>\n",
              "    <tr>\n",
              "      <td id=\"T_0f29d_row8_col0\" class=\"data row8 col0\" >9</td>\n",
              "      <td id=\"T_0f29d_row8_col1\" class=\"data row8 col1\" ><strong>Ticket</strong><br>[object]</td>\n",
              "      <td id=\"T_0f29d_row8_col2\" class=\"data row8 col2\" >1. 347082<br>2. CA. 2343<br>3. 1601<br>4. 3101295<br>5. CA 2144<br>6. 347088<br>7. S.O.C. 14879<br>8. 382652<br>9. LINE<br>10. PC 17757<br>11. other</td>\n",
              "      <td id=\"T_0f29d_row8_col3\" class=\"data row8 col3\" >7 (0.8%)<br>7 (0.8%)<br>7 (0.8%)<br>6 (0.7%)<br>6 (0.7%)<br>6 (0.7%)<br>5 (0.6%)<br>5 (0.6%)<br>4 (0.4%)<br>4 (0.4%)<br>834 (93.6%)</td>\n",
              "      <td id=\"T_0f29d_row8_col4\" class=\"data row8 col4\" ><img src = \"data:image/png;base64, iVBORw0KGgoAAAANSUhEUgAAAJsAAAD+CAYAAAAtWHdlAAAAOXRFWHRTb2Z0d2FyZQBNYXRwbG90bGliIHZlcnNpb24zLjcuMSwgaHR0cHM6Ly9tYXRwbG90bGliLm9yZy/bCgiHAAAACXBIWXMAAA9hAAAPYQGoP6dpAAADfUlEQVR4nO3cPW4TUQBG0efIikgzlmXJi/EislgW4d1YlqcgUZqhIDQUYP6uhTmnoqCY4mo8PL2P1bIsAwoPt34A/h9iIyM2MmIjIzYyYiMjNjJiIyM2MqsxxtMYYyzL8nLjZ+HOrXe73fMYY6xWq4+C4296mKZpO03TdozxeOuH4b75ZiMjNjJiIyM2MmIjIzYyYiMjNjJiIyM2MmIjIzYyYiMjNjJiIyM2Mut5ns/vf3676ZNw92wQyKz8l1lUvNnIWFeRsa4i4+iDjNjIiI2M2MiIjYzYyIiNjNjIiI2M2MiIjYzYyIiNjNjIiI2MwQsZ18LJGLyQ8WYjY/BCxuCFjKMPMmIjIzYyYiMjNjJiIyM2MmIjIzYyYiMjNjJiIyM2MmIjIzYyBi9kXAsnY/BCxjcbGT+jZKyryFhXkfHNRkZsZMRGRmxkxEZGbGTERkZsZMRGRmxkxEZGbGTERkZsZMRGxrqKjGvhZKyryHizkTF4IWPwQsbRBxmxkREbGbGRERsZsZERGxmxkREbGbGRERsZsZERGxmxkREbGYMXMq6FkzF4IePNRsbghYzBCxlHH2TERkZsZMRGRmxkxEZGbGTERkZsZMRGRmxkxEZGbGTERkZsZMRGxrqKjA0CGesqMt5sZKyryFhXkXH0QUZsZMRGRmxkxEZGbGTERkZsZMRGRmxkxEZGbGTERkZsZMRGxuCFjGvhZAxeyHizkTF4IWPwQsbRBxmxkREbGbGRERsZsZERGxmxkREbGbGRERsZsZERGxmxkREbGYMXMq6FkzF4IeObjYyfUTLWVWSsq8j4ZiMjNjJiIyM2MmIjIzYyYiMjNjJiIyM2MmIjIzYyYiMjNjJiI2NdRca1cDLWVWS82cgYvJAxeCHj6IOM2MiIjYzYyIiNjNjIiI2M2MiIjYzYyIiNjNjIiI2M2MiIjYzBCxnXwskYvJD5+mZzJZzf8XbNL+N6t9s9v28Q4JfM83y+ZjC1nqZpezgcXjabzWv1cNyPy+Xy4Xg8bk+n0+MY4/uxjTHGZrN53e/3n5Kn4x49XfOXnLORERsZsZERGxmxkREbGbGRERsZsZERGxmxkREbGbGRWY/x5ZrIrR+Ef9PPtLOe5/l8PB6348prIvCt99HUDwdTroXzJ1x1LdzghYx/IJARGxmxkREbGbGRERsZsZERGxmxkfkMN8cQJ9LzEfAAAAAASUVORK5CYII=\"></img></td>\n",
              "      <td id=\"T_0f29d_row8_col5\" class=\"data row8 col5\" >0<br>(0.0%)</td>\n",
              "    </tr>\n",
              "    <tr>\n",
              "      <td id=\"T_0f29d_row9_col0\" class=\"data row9 col0\" >10</td>\n",
              "      <td id=\"T_0f29d_row9_col1\" class=\"data row9 col1\" ><strong>Fare</strong><br>[float64]</td>\n",
              "      <td id=\"T_0f29d_row9_col2\" class=\"data row9 col2\" >Mean (sd) : 32.2 (49.7)<br>min < med < max:<br>0.0 < 14.5 < 512.3<br>IQR (CV) : 23.1 (0.6)</td>\n",
              "      <td id=\"T_0f29d_row9_col3\" class=\"data row9 col3\" >248 distinct values</td>\n",
              "      <td id=\"T_0f29d_row9_col4\" class=\"data row9 col4\" ><img src = \"data:image/png;base64, iVBORw0KGgoAAAANSUhEUgAAAKoAAABGCAYAAABc8A97AAAAOXRFWHRTb2Z0d2FyZQBNYXRwbG90bGliIHZlcnNpb24zLjcuMSwgaHR0cHM6Ly9tYXRwbG90bGliLm9yZy/bCgiHAAAACXBIWXMAAA9hAAAPYQGoP6dpAAACKklEQVR4nO3Zu47aUBRG4b25yQzIFiCZjiZ9Ckr6tHnYadP7LfICSBbYwgMBOSdFpDS5MBxA4Z9ZX83eGGkJm4OHEAx4dJ3/fQHAa/TOvcDdh2Y2iNx/DCHsI2eBX/4ZqrsPZ7PZ5zRNJzHL67reuPszseJa575RB2maTlar1T7LssMli6uqSoqimJRlOTAzQsVVzt76zcyyLDvkef4SsX8YMQP8hh9TkECokECokECokECokECokECokECokECokECokECokECokECokECokECokECokECokECokECokECokECokECokECokECokECokECokECokECokECokECokECokECokECokECokECokECokECokECokECokECokECokECokECokECokECokECokECokECokECokECokECokECokECokNC75/K2bftmlrp77IpjCGF/w0uCqLuF2jRN/3Q6fVwsFt1ut3uI2VHX9cbdn4kVdwv1eDz2kiR5Wi6Xh/l8vrl0vqqqpCiKSVmWAzMj1Hfurrd+M7PRaHTI8/wlcnx404uBLH5MQQKhQgKhQsLdn1GvceXxFkdbb8jDhnrt8RZHW2/Lw4Z6zfHWLY623H1oZoOYWfv5SPU9cpY7wR+8KtSqqpJLF+92u8TMrGmaZL1eP8XOx2rbtmfxjw3JdDr9lGXZOOJ9+03TfBiPx187nc7p0vntdrtz9y9mFvUnibBvIYS/fuYfog+acM55WAYAAAAASUVORK5CYII=\"></img></td>\n",
              "      <td id=\"T_0f29d_row9_col5\" class=\"data row9 col5\" >0<br>(0.0%)</td>\n",
              "    </tr>\n",
              "    <tr>\n",
              "      <td id=\"T_0f29d_row10_col0\" class=\"data row10 col0\" >11</td>\n",
              "      <td id=\"T_0f29d_row10_col1\" class=\"data row10 col1\" ><strong>Cabin</strong><br>[object]</td>\n",
              "      <td id=\"T_0f29d_row10_col2\" class=\"data row10 col2\" >1. nan<br>2. C23 C25 C27<br>3. G6<br>4. B96 B98<br>5. C22 C26<br>6. D<br>7. F33<br>8. E101<br>9. F2<br>10. B20<br>11. other</td>\n",
              "      <td id=\"T_0f29d_row10_col3\" class=\"data row10 col3\" >687 (77.1%)<br>4 (0.4%)<br>4 (0.4%)<br>4 (0.4%)<br>3 (0.3%)<br>3 (0.3%)<br>3 (0.3%)<br>3 (0.3%)<br>3 (0.3%)<br>2 (0.2%)<br>175 (19.6%)</td>\n",
              "      <td id=\"T_0f29d_row10_col4\" class=\"data row10 col4\" ><img src = \"data:image/png;base64, iVBORw0KGgoAAAANSUhEUgAAAJsAAAD+CAYAAAAtWHdlAAAAOXRFWHRTb2Z0d2FyZQBNYXRwbG90bGliIHZlcnNpb24zLjcuMSwgaHR0cHM6Ly9tYXRwbG90bGliLm9yZy/bCgiHAAAACXBIWXMAAA9hAAAPYQGoP6dpAAAD+klEQVR4nO3dwU0jaRhF0c/IYmBjy7JECDM5OAiC7SAcxOSAELVoGDbMoiEDuGXBOQn4l/qqXJTqtTdvb28Dhau1D8DPITYyYiMjNjJiIyM2MmIjIzYyYiOzmZnbmble+yB8mde3t7fntQ8xM7M9Ho/3u93usPZB+BrLsjxuNptflxDcdrfbHU6n0/N+v39Z+zB8rqenp5vz+Xx4eHi4npn1Y5uZ2e/3L3d3d7/XPgxf4nbtA3zwBwIZsZERGxmxkREbGbGRERsZsZERGxmxkREbGbGRERsZsZHZzvx572ntg/D5Lu3fdbssy+P5fD7MBb33xOdZluVxZl7XPseMDcJPcDEbhI3/MovKx5VtLqV+vq/t8Xi8n5m5lAUO39fVbrc7vE/53LfxpTxnIyM2MmIjIzYyYiMjNjJiIyM2MmIjIzYyYiMjNjJiIyM2MmIjs30fRMxcyCiC78tr4WQMXsi4spExeCFj8ELGow8yYiMjNjJiIyM2MmIjIzYyYiMjNjJiIyM2MmIjIzYyYiMjNjIGL2S8Fk7G4IWMezYyvkbJWFeRsa4i456NjNjIiI2M2MiIjYzYyIiNjNjIiI2M2MiIjYzYyIiNjNjIiI2MdRUZr4WTsa4i48pGxuCFjMELGY8+yIiNjNjIiI2M2MiIjYzYyIiNjNjIiI2M2MiIjYzYyIiNjNjIGLyQ8Vo4GYMXMq5sZAxeyBi8kPHog4zYyIiNjNjIiI2M2MiIjYzYyIiNjNjIiI2M2MiIjYzYyIiNjNjIWFeRsUEgY11FxpWNjHUVGesqMh59kBEbGbGRERsZsZERGxmxkREbGbGRERsZsZERGxmxkREbGbGRMXgh47VwMgYvZFzZyBi8kDF4IePRBxmxkREbGbGRERsZsZERGxmxkREbGbGRERsZsZERGxmxkREbGYMXMl4LJ2PwQsY9Gxlfo2Ssq8hYV5Fxz0ZGbGTERkZsZMRGRmxkxEZGbGTERkZsZMRGRmxkxEZGbGTERsa6iozXwslYV5Fxz0bmarPZ/LPZbG7WPgjf39XM/D0zf619EL4/X6NkxEZGbGTERkZsZMRGRmxkxEZGbGTERkZsZMRGRmxkxEZGbGSuZubfmflv7YPw/dkgkPE1SuZjyrfGbyC8mg/+LNvj8Xj//qMbqWVZHv2qzM+y3e12h9Pp9Lzf71+qD316ero5n8+Hh4eH65kR2w+xnZnZ7/cvd3d3v+PPvo0/j5X5A4GM2MiIjYzYyIiNjNjIiI2M2MiIjYzYyIiNjNjIiI3MdubPKz/lh9afx2XYLsvyeD6fDxO/8vP+yzJ+VeYH8Vo4GesqMv5AICM2MmIjIzYyYiMjNjJiIyM2MmIj8z92GB/TLz5SvAAAAABJRU5ErkJggg==\"></img></td>\n",
              "      <td id=\"T_0f29d_row10_col5\" class=\"data row10 col5\" >687<br>(77.1%)</td>\n",
              "    </tr>\n",
              "    <tr>\n",
              "      <td id=\"T_0f29d_row11_col0\" class=\"data row11 col0\" >12</td>\n",
              "      <td id=\"T_0f29d_row11_col1\" class=\"data row11 col1\" ><strong>Embarked</strong><br>[object]</td>\n",
              "      <td id=\"T_0f29d_row11_col2\" class=\"data row11 col2\" >1. S<br>2. C<br>3. Q<br>4. nan</td>\n",
              "      <td id=\"T_0f29d_row11_col3\" class=\"data row11 col3\" >644 (72.3%)<br>168 (18.9%)<br>77 (8.6%)<br>2 (0.2%)</td>\n",
              "      <td id=\"T_0f29d_row11_col4\" class=\"data row11 col4\" ><img src = \"data:image/png;base64, iVBORw0KGgoAAAANSUhEUgAAAJsAAABcCAYAAAB5jMeAAAAAOXRFWHRTb2Z0d2FyZQBNYXRwbG90bGliIHZlcnNpb24zLjcuMSwgaHR0cHM6Ly9tYXRwbG90bGliLm9yZy/bCgiHAAAACXBIWXMAAA9hAAAPYQGoP6dpAAAB+ElEQVR4nO3bsW3bYBSF0UdBcOKGhCBAIyQ7aIgMmyE4RHYQBLGIHTdMkSKtSCj3D+1zJniAP0imwNvN81yQsGt9AB+H2Ijpquq5qp5aH8Jqb/M8v7Q+4h774/H4re/7Q+tDWGeapmvXdd+3ENy+7/vD+Xx+GYbhtfUxLHO73T6P43i4XC5PVfX/x1ZVNQzD6+l0+tn6GFZ5bn3AvTwgECM2YsRGjNiIERsxYiNGbMSIjRixESM2YsRGjNiIERsx+6o/r6q0PoTltvZ320/TdB3H8VAbelWFv6ZpulbVW+s77uG18O3bzGvhnSkfKR4QiGn1NbqZj34ep8m6akuLIB4nvq7a2iKIx2m1rvIzywfkAYEYsREjNmLERozYiBEbMWIjRmzEiI0YsREjNmLERozYiBEbMfEp39bmZzxOkynfluZnPI4NAjGmfMSs/WTzycRiq9ZV1lGssXhdZR3FWmvXVdZRLOZHXWLERozYiBEbMWIjRmzEiI0YsREjNmLERozYiBEbMWIjRmzELF5XWUex1qp1lXUUa9ggEGNdRYwHBGJ2Xdd97brOP/38c7uq+lJVn1ofwvvna5QYsREjNmLERozYiBEbMWIjRmzEiI0YsREjNmLERozYiBEbMWIjRmzE7KrqR1X9an0I75/BCzG+RokRGzG/AT4QqKndx64EAAAAAElFTkSuQmCC\"></img></td>\n",
              "      <td id=\"T_0f29d_row11_col5\" class=\"data row11 col5\" >2<br>(0.2%)</td>\n",
              "    </tr>\n",
              "  </tbody>\n",
              "</table>\n"
            ]
          },
          "metadata": {},
          "execution_count": 135
        }
      ]
    },
    {
      "cell_type": "code",
      "source": [
        "# separate X and y from the original train set\n",
        "X = train_data.copy()\n",
        "y = train_data['Survived']\n",
        "X = X.drop('Survived', axis = 1)"
      ],
      "metadata": {
        "id": "TKy5yt7SiUtQ"
      },
      "execution_count": null,
      "outputs": []
    },
    {
      "cell_type": "code",
      "source": [
        "X.columns"
      ],
      "metadata": {
        "id": "31oxuhhJnGNx",
        "colab": {
          "base_uri": "https://localhost:8080/"
        },
        "outputId": "44881d9b-4c61-4e5d-b50f-4440764413e5"
      },
      "execution_count": null,
      "outputs": [
        {
          "output_type": "execute_result",
          "data": {
            "text/plain": [
              "Index(['PassengerId', 'Pclass', 'Name', 'Sex', 'Age', 'SibSp', 'Parch',\n",
              "       'Ticket', 'Fare', 'Cabin', 'Embarked'],\n",
              "      dtype='object')"
            ]
          },
          "metadata": {},
          "execution_count": 137
        }
      ]
    },
    {
      "cell_type": "code",
      "source": [
        "y.name"
      ],
      "metadata": {
        "id": "OwAiNFm0nM4o",
        "colab": {
          "base_uri": "https://localhost:8080/",
          "height": 35
        },
        "outputId": "b877aa95-44ca-4ce5-a99d-8d111b1ba52e"
      },
      "execution_count": null,
      "outputs": [
        {
          "output_type": "execute_result",
          "data": {
            "text/plain": [
              "'Survived'"
            ],
            "application/vnd.google.colaboratory.intrinsic+json": {
              "type": "string"
            }
          },
          "metadata": {},
          "execution_count": 138
        }
      ]
    },
    {
      "cell_type": "code",
      "source": [
        "X = X.drop(['PassengerId', 'Name', 'Ticket'], axis = 1)\n",
        "X.Cabin = X.Cabin.str[0]  # e.g. G6 -> G, or B96 B98 -> P\n",
        "# dfSummary(X)\n",
        "# Still 687 mising values, might be easier to drop"
      ],
      "metadata": {
        "id": "W0JZqhQ7nuOJ"
      },
      "execution_count": null,
      "outputs": []
    },
    {
      "cell_type": "code",
      "source": [
        "# split now and forget test_set until the very end\n",
        "from sklearn.model_selection import train_test_split\n",
        "\n",
        "X_train, X_test, y_train, y_test = train_test_split(X, y, test_size=0.2, random_state=42)"
      ],
      "metadata": {
        "id": "emqto22GzyYv"
      },
      "execution_count": null,
      "outputs": []
    },
    {
      "cell_type": "code",
      "source": [
        "from sklearn.pipeline import Pipeline\n",
        "from sklearn import set_config\n",
        "set_config(display='diagram')"
      ],
      "metadata": {
        "id": "0SNfJu3dzyWb"
      },
      "execution_count": null,
      "outputs": []
    },
    {
      "cell_type": "code",
      "source": [
        "from sklearn.preprocessing import StandardScaler\n",
        "from sklearn.impute import SimpleImputer\n",
        "\n",
        "num_pipeline = Pipeline([\n",
        "    ('imputer', SimpleImputer(strategy = 'median')),\n",
        "    ('scaler',  StandardScaler())\n",
        "])"
      ],
      "metadata": {
        "id": "d-ajxZMe5O7B"
      },
      "execution_count": null,
      "outputs": []
    },
    {
      "cell_type": "code",
      "source": [
        "from sklearn.preprocessing import OneHotEncoder\n",
        "\n",
        "cat_pipeline = Pipeline([\n",
        "    ('imputer', SimpleImputer(strategy = 'most_frequent')),\n",
        "    ('encoder', OneHotEncoder(sparse = False))\n",
        "])"
      ],
      "metadata": {
        "id": "8HqZjgV-54V-"
      },
      "execution_count": null,
      "outputs": []
    },
    {
      "cell_type": "code",
      "source": [
        "X.head()"
      ],
      "metadata": {
        "colab": {
          "base_uri": "https://localhost:8080/",
          "height": 206
        },
        "id": "nVd3t9X18Jwe",
        "outputId": "c8c3054b-0dfa-4da7-d9f1-f8cb8592ab09"
      },
      "execution_count": null,
      "outputs": [
        {
          "output_type": "execute_result",
          "data": {
            "text/plain": [
              "   Pclass     Sex   Age  SibSp  Parch     Fare Cabin Embarked\n",
              "0       3    male  22.0      1      0   7.2500   NaN        S\n",
              "1       1  female  38.0      1      0  71.2833     C        C\n",
              "2       3  female  26.0      0      0   7.9250   NaN        S\n",
              "3       1  female  35.0      1      0  53.1000     C        S\n",
              "4       3    male  35.0      0      0   8.0500   NaN        S"
            ],
            "text/html": [
              "\n",
              "\n",
              "  <div id=\"df-38c8fee7-7f1a-4636-a5db-47661f4802a4\">\n",
              "    <div class=\"colab-df-container\">\n",
              "      <div>\n",
              "<style scoped>\n",
              "    .dataframe tbody tr th:only-of-type {\n",
              "        vertical-align: middle;\n",
              "    }\n",
              "\n",
              "    .dataframe tbody tr th {\n",
              "        vertical-align: top;\n",
              "    }\n",
              "\n",
              "    .dataframe thead th {\n",
              "        text-align: right;\n",
              "    }\n",
              "</style>\n",
              "<table border=\"1\" class=\"dataframe\">\n",
              "  <thead>\n",
              "    <tr style=\"text-align: right;\">\n",
              "      <th></th>\n",
              "      <th>Pclass</th>\n",
              "      <th>Sex</th>\n",
              "      <th>Age</th>\n",
              "      <th>SibSp</th>\n",
              "      <th>Parch</th>\n",
              "      <th>Fare</th>\n",
              "      <th>Cabin</th>\n",
              "      <th>Embarked</th>\n",
              "    </tr>\n",
              "  </thead>\n",
              "  <tbody>\n",
              "    <tr>\n",
              "      <th>0</th>\n",
              "      <td>3</td>\n",
              "      <td>male</td>\n",
              "      <td>22.0</td>\n",
              "      <td>1</td>\n",
              "      <td>0</td>\n",
              "      <td>7.2500</td>\n",
              "      <td>NaN</td>\n",
              "      <td>S</td>\n",
              "    </tr>\n",
              "    <tr>\n",
              "      <th>1</th>\n",
              "      <td>1</td>\n",
              "      <td>female</td>\n",
              "      <td>38.0</td>\n",
              "      <td>1</td>\n",
              "      <td>0</td>\n",
              "      <td>71.2833</td>\n",
              "      <td>C</td>\n",
              "      <td>C</td>\n",
              "    </tr>\n",
              "    <tr>\n",
              "      <th>2</th>\n",
              "      <td>3</td>\n",
              "      <td>female</td>\n",
              "      <td>26.0</td>\n",
              "      <td>0</td>\n",
              "      <td>0</td>\n",
              "      <td>7.9250</td>\n",
              "      <td>NaN</td>\n",
              "      <td>S</td>\n",
              "    </tr>\n",
              "    <tr>\n",
              "      <th>3</th>\n",
              "      <td>1</td>\n",
              "      <td>female</td>\n",
              "      <td>35.0</td>\n",
              "      <td>1</td>\n",
              "      <td>0</td>\n",
              "      <td>53.1000</td>\n",
              "      <td>C</td>\n",
              "      <td>S</td>\n",
              "    </tr>\n",
              "    <tr>\n",
              "      <th>4</th>\n",
              "      <td>3</td>\n",
              "      <td>male</td>\n",
              "      <td>35.0</td>\n",
              "      <td>0</td>\n",
              "      <td>0</td>\n",
              "      <td>8.0500</td>\n",
              "      <td>NaN</td>\n",
              "      <td>S</td>\n",
              "    </tr>\n",
              "  </tbody>\n",
              "</table>\n",
              "</div>\n",
              "      <button class=\"colab-df-convert\" onclick=\"convertToInteractive('df-38c8fee7-7f1a-4636-a5db-47661f4802a4')\"\n",
              "              title=\"Convert this dataframe to an interactive table.\"\n",
              "              style=\"display:none;\">\n",
              "\n",
              "  <svg xmlns=\"http://www.w3.org/2000/svg\" height=\"24px\"viewBox=\"0 0 24 24\"\n",
              "       width=\"24px\">\n",
              "    <path d=\"M0 0h24v24H0V0z\" fill=\"none\"/>\n",
              "    <path d=\"M18.56 5.44l.94 2.06.94-2.06 2.06-.94-2.06-.94-.94-2.06-.94 2.06-2.06.94zm-11 1L8.5 8.5l.94-2.06 2.06-.94-2.06-.94L8.5 2.5l-.94 2.06-2.06.94zm10 10l.94 2.06.94-2.06 2.06-.94-2.06-.94-.94-2.06-.94 2.06-2.06.94z\"/><path d=\"M17.41 7.96l-1.37-1.37c-.4-.4-.92-.59-1.43-.59-.52 0-1.04.2-1.43.59L10.3 9.45l-7.72 7.72c-.78.78-.78 2.05 0 2.83L4 21.41c.39.39.9.59 1.41.59.51 0 1.02-.2 1.41-.59l7.78-7.78 2.81-2.81c.8-.78.8-2.07 0-2.86zM5.41 20L4 18.59l7.72-7.72 1.47 1.35L5.41 20z\"/>\n",
              "  </svg>\n",
              "      </button>\n",
              "\n",
              "\n",
              "\n",
              "    <div id=\"df-9eaff415-b1cc-4b3c-a1ab-0e2944a68dbc\">\n",
              "      <button class=\"colab-df-quickchart\" onclick=\"quickchart('df-9eaff415-b1cc-4b3c-a1ab-0e2944a68dbc')\"\n",
              "              title=\"Suggest charts.\"\n",
              "              style=\"display:none;\">\n",
              "\n",
              "<svg xmlns=\"http://www.w3.org/2000/svg\" height=\"24px\"viewBox=\"0 0 24 24\"\n",
              "     width=\"24px\">\n",
              "    <g>\n",
              "        <path d=\"M19 3H5c-1.1 0-2 .9-2 2v14c0 1.1.9 2 2 2h14c1.1 0 2-.9 2-2V5c0-1.1-.9-2-2-2zM9 17H7v-7h2v7zm4 0h-2V7h2v10zm4 0h-2v-4h2v4z\"/>\n",
              "    </g>\n",
              "</svg>\n",
              "      </button>\n",
              "    </div>\n",
              "\n",
              "<style>\n",
              "  .colab-df-quickchart {\n",
              "    background-color: #E8F0FE;\n",
              "    border: none;\n",
              "    border-radius: 50%;\n",
              "    cursor: pointer;\n",
              "    display: none;\n",
              "    fill: #1967D2;\n",
              "    height: 32px;\n",
              "    padding: 0 0 0 0;\n",
              "    width: 32px;\n",
              "  }\n",
              "\n",
              "  .colab-df-quickchart:hover {\n",
              "    background-color: #E2EBFA;\n",
              "    box-shadow: 0px 1px 2px rgba(60, 64, 67, 0.3), 0px 1px 3px 1px rgba(60, 64, 67, 0.15);\n",
              "    fill: #174EA6;\n",
              "  }\n",
              "\n",
              "  [theme=dark] .colab-df-quickchart {\n",
              "    background-color: #3B4455;\n",
              "    fill: #D2E3FC;\n",
              "  }\n",
              "\n",
              "  [theme=dark] .colab-df-quickchart:hover {\n",
              "    background-color: #434B5C;\n",
              "    box-shadow: 0px 1px 3px 1px rgba(0, 0, 0, 0.15);\n",
              "    filter: drop-shadow(0px 1px 2px rgba(0, 0, 0, 0.3));\n",
              "    fill: #FFFFFF;\n",
              "  }\n",
              "</style>\n",
              "\n",
              "    <script>\n",
              "      async function quickchart(key) {\n",
              "        const containerElement = document.querySelector('#' + key);\n",
              "        const charts = await google.colab.kernel.invokeFunction(\n",
              "            'suggestCharts', [key], {});\n",
              "      }\n",
              "    </script>\n",
              "\n",
              "      <script>\n",
              "\n",
              "function displayQuickchartButton(domScope) {\n",
              "  let quickchartButtonEl =\n",
              "    domScope.querySelector('#df-9eaff415-b1cc-4b3c-a1ab-0e2944a68dbc button.colab-df-quickchart');\n",
              "  quickchartButtonEl.style.display =\n",
              "    google.colab.kernel.accessAllowed ? 'block' : 'none';\n",
              "}\n",
              "\n",
              "        displayQuickchartButton(document);\n",
              "      </script>\n",
              "      <style>\n",
              "    .colab-df-container {\n",
              "      display:flex;\n",
              "      flex-wrap:wrap;\n",
              "      gap: 12px;\n",
              "    }\n",
              "\n",
              "    .colab-df-convert {\n",
              "      background-color: #E8F0FE;\n",
              "      border: none;\n",
              "      border-radius: 50%;\n",
              "      cursor: pointer;\n",
              "      display: none;\n",
              "      fill: #1967D2;\n",
              "      height: 32px;\n",
              "      padding: 0 0 0 0;\n",
              "      width: 32px;\n",
              "    }\n",
              "\n",
              "    .colab-df-convert:hover {\n",
              "      background-color: #E2EBFA;\n",
              "      box-shadow: 0px 1px 2px rgba(60, 64, 67, 0.3), 0px 1px 3px 1px rgba(60, 64, 67, 0.15);\n",
              "      fill: #174EA6;\n",
              "    }\n",
              "\n",
              "    [theme=dark] .colab-df-convert {\n",
              "      background-color: #3B4455;\n",
              "      fill: #D2E3FC;\n",
              "    }\n",
              "\n",
              "    [theme=dark] .colab-df-convert:hover {\n",
              "      background-color: #434B5C;\n",
              "      box-shadow: 0px 1px 3px 1px rgba(0, 0, 0, 0.15);\n",
              "      filter: drop-shadow(0px 1px 2px rgba(0, 0, 0, 0.3));\n",
              "      fill: #FFFFFF;\n",
              "    }\n",
              "  </style>\n",
              "\n",
              "      <script>\n",
              "        const buttonEl =\n",
              "          document.querySelector('#df-38c8fee7-7f1a-4636-a5db-47661f4802a4 button.colab-df-convert');\n",
              "        buttonEl.style.display =\n",
              "          google.colab.kernel.accessAllowed ? 'block' : 'none';\n",
              "\n",
              "        async function convertToInteractive(key) {\n",
              "          const element = document.querySelector('#df-38c8fee7-7f1a-4636-a5db-47661f4802a4');\n",
              "          const dataTable =\n",
              "            await google.colab.kernel.invokeFunction('convertToInteractive',\n",
              "                                                     [key], {});\n",
              "          if (!dataTable) return;\n",
              "\n",
              "          const docLinkHtml = 'Like what you see? Visit the ' +\n",
              "            '<a target=\"_blank\" href=https://colab.research.google.com/notebooks/data_table.ipynb>data table notebook</a>'\n",
              "            + ' to learn more about interactive tables.';\n",
              "          element.innerHTML = '';\n",
              "          dataTable['output_type'] = 'display_data';\n",
              "          await google.colab.output.renderOutput(dataTable, element);\n",
              "          const docLink = document.createElement('div');\n",
              "          docLink.innerHTML = docLinkHtml;\n",
              "          element.appendChild(docLink);\n",
              "        }\n",
              "      </script>\n",
              "    </div>\n",
              "  </div>\n"
            ]
          },
          "metadata": {},
          "execution_count": 144
        }
      ]
    },
    {
      "cell_type": "markdown",
      "source": [
        "## Előklasszifikacio a Cabin értékek extrapolására"
      ],
      "metadata": {
        "id": "NSjAXr-_C2tZ"
      }
    },
    {
      "cell_type": "code",
      "source": [
        "X.info()  # a Cabin kategoria ~ 80%-a hiányzik, azt igen nehéz lenne előre jelezni. De 200 adat mondjuk van. És arra lehetne egy klasszifikcaiot csinálni."
      ],
      "metadata": {
        "colab": {
          "base_uri": "https://localhost:8080/"
        },
        "id": "nbzimp-D9K71",
        "outputId": "9594dd00-e5a8-4302-c05b-650814371028"
      },
      "execution_count": null,
      "outputs": [
        {
          "output_type": "stream",
          "name": "stdout",
          "text": [
            "<class 'pandas.core.frame.DataFrame'>\n",
            "RangeIndex: 891 entries, 0 to 890\n",
            "Data columns (total 8 columns):\n",
            " #   Column    Non-Null Count  Dtype  \n",
            "---  ------    --------------  -----  \n",
            " 0   Pclass    891 non-null    int64  \n",
            " 1   Sex       891 non-null    object \n",
            " 2   Age       714 non-null    float64\n",
            " 3   SibSp     891 non-null    int64  \n",
            " 4   Parch     891 non-null    int64  \n",
            " 5   Fare      891 non-null    float64\n",
            " 6   Cabin     204 non-null    object \n",
            " 7   Embarked  889 non-null    object \n",
            "dtypes: float64(2), int64(3), object(3)\n",
            "memory usage: 55.8+ KB\n"
          ]
        }
      ]
    },
    {
      "cell_type": "code",
      "source": [
        "Cabin = X.dropna(subset = ['Cabin'])\n",
        "Cabin.info()"
      ],
      "metadata": {
        "colab": {
          "base_uri": "https://localhost:8080/"
        },
        "id": "2yGo8879Ca4T",
        "outputId": "7035c90e-fa04-42cd-e9c1-a62371071b96"
      },
      "execution_count": null,
      "outputs": [
        {
          "output_type": "stream",
          "name": "stdout",
          "text": [
            "<class 'pandas.core.frame.DataFrame'>\n",
            "Int64Index: 204 entries, 1 to 889\n",
            "Data columns (total 8 columns):\n",
            " #   Column    Non-Null Count  Dtype  \n",
            "---  ------    --------------  -----  \n",
            " 0   Pclass    204 non-null    int64  \n",
            " 1   Sex       204 non-null    object \n",
            " 2   Age       185 non-null    float64\n",
            " 3   SibSp     204 non-null    int64  \n",
            " 4   Parch     204 non-null    int64  \n",
            " 5   Fare      204 non-null    float64\n",
            " 6   Cabin     204 non-null    object \n",
            " 7   Embarked  202 non-null    object \n",
            "dtypes: float64(2), int64(3), object(3)\n",
            "memory usage: 14.3+ KB\n"
          ]
        }
      ]
    },
    {
      "cell_type": "code",
      "source": [
        "# separate X and y from the Cabin subset\n",
        "Cabin_X = Cabin.copy()\n",
        "Cabin_y = Cabin_X['Cabin']\n",
        "Cabin_X = Cabin_X.drop('Cabin', axis = 1)\n",
        "\n",
        "# train-test-split Cabin subset df\n",
        "Cabin_X_train, Cabin_X_test, Cabin_y_train, Cabin_y_test = train_test_split(Cabin_X, Cabin_y, test_size=0.2, random_state = 42)"
      ],
      "metadata": {
        "id": "173A-BqQKv0t"
      },
      "execution_count": null,
      "outputs": []
    },
    {
      "cell_type": "code",
      "source": [
        "from sklearn.compose import ColumnTransformer\n",
        "\n",
        "num_attribs = ['Age','SibSp','Parch','Fare']\n",
        "cat_attribs = ['Pclass', 'Sex', 'Embarked']\n",
        "\n",
        "preprocessing = ColumnTransformer([\n",
        "    (\"num\", num_pipeline, num_attribs),\n",
        "    (\"cat\", cat_pipeline, cat_attribs),\n",
        "])"
      ],
      "metadata": {
        "id": "0QT6aMCvWLeV"
      },
      "execution_count": null,
      "outputs": []
    },
    {
      "cell_type": "code",
      "source": [
        "# preprocessing\n",
        "Cabin_X_train_prep = preprocessing.fit_transform(Cabin_X_train)"
      ],
      "metadata": {
        "id": "zD-6MMR1dRVU",
        "colab": {
          "base_uri": "https://localhost:8080/"
        },
        "outputId": "2ca95a52-ab1e-4bd3-f505-24767b9495dd"
      },
      "execution_count": null,
      "outputs": [
        {
          "output_type": "stream",
          "name": "stderr",
          "text": [
            "/usr/local/lib/python3.10/dist-packages/sklearn/preprocessing/_encoders.py:868: FutureWarning: `sparse` was renamed to `sparse_output` in version 1.2 and will be removed in 1.4. `sparse_output` is ignored unless you leave `sparse` to its default value.\n",
            "  warnings.warn(\n"
          ]
        }
      ]
    },
    {
      "cell_type": "code",
      "source": [
        "from sklearn.ensemble import RandomForestClassifier\n",
        "from sklearn.model_selection import cross_val_score\n",
        "\n",
        "# RandomForestClassifier(n_estimators=100, *, criterion='gini', max_depth=None, min_samples_split=2, min_samples_leaf=1, min_weight_fraction_leaf=0.0, max_features='sqrt', max_leaf_nodes=None, min_impurity_decrease=0.0, bootstrap=True, oob_score=False, n_jobs=None, random_state=None, verbose=0, warm_start=False, class_weight=None, ccp_alpha=0.0, max_samples=None)\n",
        "Cabin_forest_clf = RandomForestClassifier(n_estimators=100, random_state=7)\n",
        "Cabin_forest_clf.fit(Cabin_X_train_prep, Cabin_y_train)\n",
        "# cross_val_score(Cabin_forest_clf, Cabin_X_train_prep, Cabin_y_train, cv=10).mean().round(2)  # 0.34"
      ],
      "metadata": {
        "colab": {
          "base_uri": "https://localhost:8080/",
          "height": 75
        },
        "outputId": "ca69af93-bffc-4b0a-add6-13e6c06ea9be",
        "id": "5DTuv9KyVJ_J"
      },
      "execution_count": null,
      "outputs": [
        {
          "output_type": "execute_result",
          "data": {
            "text/plain": [
              "RandomForestClassifier(random_state=7)"
            ],
            "text/html": [
              "<style>#sk-container-id-19 {color: black;background-color: white;}#sk-container-id-19 pre{padding: 0;}#sk-container-id-19 div.sk-toggleable {background-color: white;}#sk-container-id-19 label.sk-toggleable__label {cursor: pointer;display: block;width: 100%;margin-bottom: 0;padding: 0.3em;box-sizing: border-box;text-align: center;}#sk-container-id-19 label.sk-toggleable__label-arrow:before {content: \"▸\";float: left;margin-right: 0.25em;color: #696969;}#sk-container-id-19 label.sk-toggleable__label-arrow:hover:before {color: black;}#sk-container-id-19 div.sk-estimator:hover label.sk-toggleable__label-arrow:before {color: black;}#sk-container-id-19 div.sk-toggleable__content {max-height: 0;max-width: 0;overflow: hidden;text-align: left;background-color: #f0f8ff;}#sk-container-id-19 div.sk-toggleable__content pre {margin: 0.2em;color: black;border-radius: 0.25em;background-color: #f0f8ff;}#sk-container-id-19 input.sk-toggleable__control:checked~div.sk-toggleable__content {max-height: 200px;max-width: 100%;overflow: auto;}#sk-container-id-19 input.sk-toggleable__control:checked~label.sk-toggleable__label-arrow:before {content: \"▾\";}#sk-container-id-19 div.sk-estimator input.sk-toggleable__control:checked~label.sk-toggleable__label {background-color: #d4ebff;}#sk-container-id-19 div.sk-label input.sk-toggleable__control:checked~label.sk-toggleable__label {background-color: #d4ebff;}#sk-container-id-19 input.sk-hidden--visually {border: 0;clip: rect(1px 1px 1px 1px);clip: rect(1px, 1px, 1px, 1px);height: 1px;margin: -1px;overflow: hidden;padding: 0;position: absolute;width: 1px;}#sk-container-id-19 div.sk-estimator {font-family: monospace;background-color: #f0f8ff;border: 1px dotted black;border-radius: 0.25em;box-sizing: border-box;margin-bottom: 0.5em;}#sk-container-id-19 div.sk-estimator:hover {background-color: #d4ebff;}#sk-container-id-19 div.sk-parallel-item::after {content: \"\";width: 100%;border-bottom: 1px solid gray;flex-grow: 1;}#sk-container-id-19 div.sk-label:hover label.sk-toggleable__label {background-color: #d4ebff;}#sk-container-id-19 div.sk-serial::before {content: \"\";position: absolute;border-left: 1px solid gray;box-sizing: border-box;top: 0;bottom: 0;left: 50%;z-index: 0;}#sk-container-id-19 div.sk-serial {display: flex;flex-direction: column;align-items: center;background-color: white;padding-right: 0.2em;padding-left: 0.2em;position: relative;}#sk-container-id-19 div.sk-item {position: relative;z-index: 1;}#sk-container-id-19 div.sk-parallel {display: flex;align-items: stretch;justify-content: center;background-color: white;position: relative;}#sk-container-id-19 div.sk-item::before, #sk-container-id-19 div.sk-parallel-item::before {content: \"\";position: absolute;border-left: 1px solid gray;box-sizing: border-box;top: 0;bottom: 0;left: 50%;z-index: -1;}#sk-container-id-19 div.sk-parallel-item {display: flex;flex-direction: column;z-index: 1;position: relative;background-color: white;}#sk-container-id-19 div.sk-parallel-item:first-child::after {align-self: flex-end;width: 50%;}#sk-container-id-19 div.sk-parallel-item:last-child::after {align-self: flex-start;width: 50%;}#sk-container-id-19 div.sk-parallel-item:only-child::after {width: 0;}#sk-container-id-19 div.sk-dashed-wrapped {border: 1px dashed gray;margin: 0 0.4em 0.5em 0.4em;box-sizing: border-box;padding-bottom: 0.4em;background-color: white;}#sk-container-id-19 div.sk-label label {font-family: monospace;font-weight: bold;display: inline-block;line-height: 1.2em;}#sk-container-id-19 div.sk-label-container {text-align: center;}#sk-container-id-19 div.sk-container {/* jupyter's `normalize.less` sets `[hidden] { display: none; }` but bootstrap.min.css set `[hidden] { display: none !important; }` so we also need the `!important` here to be able to override the default hidden behavior on the sphinx rendered scikit-learn.org. See: https://github.com/scikit-learn/scikit-learn/issues/21755 */display: inline-block !important;position: relative;}#sk-container-id-19 div.sk-text-repr-fallback {display: none;}</style><div id=\"sk-container-id-19\" class=\"sk-top-container\"><div class=\"sk-text-repr-fallback\"><pre>RandomForestClassifier(random_state=7)</pre><b>In a Jupyter environment, please rerun this cell to show the HTML representation or trust the notebook. <br />On GitHub, the HTML representation is unable to render, please try loading this page with nbviewer.org.</b></div><div class=\"sk-container\" hidden><div class=\"sk-item\"><div class=\"sk-estimator sk-toggleable\"><input class=\"sk-toggleable__control sk-hidden--visually\" id=\"sk-estimator-id-310\" type=\"checkbox\" checked><label for=\"sk-estimator-id-310\" class=\"sk-toggleable__label sk-toggleable__label-arrow\">RandomForestClassifier</label><div class=\"sk-toggleable__content\"><pre>RandomForestClassifier(random_state=7)</pre></div></div></div></div></div>"
            ]
          },
          "metadata": {},
          "execution_count": 150
        }
      ]
    },
    {
      "cell_type": "code",
      "source": [
        "from sklearn.linear_model import LogisticRegression\n",
        "\n",
        "Cabin_logreg_clf = LogisticRegression(random_state = 0)\n",
        "Cabin_logreg_clf.fit(Cabin_X_train_prep, Cabin_y_train)\n",
        "# cross_val_score(Cabin_logreg_clf, Cabin_X_train_prep, Cabin_y_train, cv=3).mean().round(2)  # 0.31"
      ],
      "metadata": {
        "id": "MbEZZhO_Kvqp",
        "colab": {
          "base_uri": "https://localhost:8080/",
          "height": 75
        },
        "outputId": "2289d988-d0e6-4634-fe42-4cf8d07a313a"
      },
      "execution_count": null,
      "outputs": [
        {
          "output_type": "execute_result",
          "data": {
            "text/plain": [
              "LogisticRegression(random_state=0)"
            ],
            "text/html": [
              "<style>#sk-container-id-20 {color: black;background-color: white;}#sk-container-id-20 pre{padding: 0;}#sk-container-id-20 div.sk-toggleable {background-color: white;}#sk-container-id-20 label.sk-toggleable__label {cursor: pointer;display: block;width: 100%;margin-bottom: 0;padding: 0.3em;box-sizing: border-box;text-align: center;}#sk-container-id-20 label.sk-toggleable__label-arrow:before {content: \"▸\";float: left;margin-right: 0.25em;color: #696969;}#sk-container-id-20 label.sk-toggleable__label-arrow:hover:before {color: black;}#sk-container-id-20 div.sk-estimator:hover label.sk-toggleable__label-arrow:before {color: black;}#sk-container-id-20 div.sk-toggleable__content {max-height: 0;max-width: 0;overflow: hidden;text-align: left;background-color: #f0f8ff;}#sk-container-id-20 div.sk-toggleable__content pre {margin: 0.2em;color: black;border-radius: 0.25em;background-color: #f0f8ff;}#sk-container-id-20 input.sk-toggleable__control:checked~div.sk-toggleable__content {max-height: 200px;max-width: 100%;overflow: auto;}#sk-container-id-20 input.sk-toggleable__control:checked~label.sk-toggleable__label-arrow:before {content: \"▾\";}#sk-container-id-20 div.sk-estimator input.sk-toggleable__control:checked~label.sk-toggleable__label {background-color: #d4ebff;}#sk-container-id-20 div.sk-label input.sk-toggleable__control:checked~label.sk-toggleable__label {background-color: #d4ebff;}#sk-container-id-20 input.sk-hidden--visually {border: 0;clip: rect(1px 1px 1px 1px);clip: rect(1px, 1px, 1px, 1px);height: 1px;margin: -1px;overflow: hidden;padding: 0;position: absolute;width: 1px;}#sk-container-id-20 div.sk-estimator {font-family: monospace;background-color: #f0f8ff;border: 1px dotted black;border-radius: 0.25em;box-sizing: border-box;margin-bottom: 0.5em;}#sk-container-id-20 div.sk-estimator:hover {background-color: #d4ebff;}#sk-container-id-20 div.sk-parallel-item::after {content: \"\";width: 100%;border-bottom: 1px solid gray;flex-grow: 1;}#sk-container-id-20 div.sk-label:hover label.sk-toggleable__label {background-color: #d4ebff;}#sk-container-id-20 div.sk-serial::before {content: \"\";position: absolute;border-left: 1px solid gray;box-sizing: border-box;top: 0;bottom: 0;left: 50%;z-index: 0;}#sk-container-id-20 div.sk-serial {display: flex;flex-direction: column;align-items: center;background-color: white;padding-right: 0.2em;padding-left: 0.2em;position: relative;}#sk-container-id-20 div.sk-item {position: relative;z-index: 1;}#sk-container-id-20 div.sk-parallel {display: flex;align-items: stretch;justify-content: center;background-color: white;position: relative;}#sk-container-id-20 div.sk-item::before, #sk-container-id-20 div.sk-parallel-item::before {content: \"\";position: absolute;border-left: 1px solid gray;box-sizing: border-box;top: 0;bottom: 0;left: 50%;z-index: -1;}#sk-container-id-20 div.sk-parallel-item {display: flex;flex-direction: column;z-index: 1;position: relative;background-color: white;}#sk-container-id-20 div.sk-parallel-item:first-child::after {align-self: flex-end;width: 50%;}#sk-container-id-20 div.sk-parallel-item:last-child::after {align-self: flex-start;width: 50%;}#sk-container-id-20 div.sk-parallel-item:only-child::after {width: 0;}#sk-container-id-20 div.sk-dashed-wrapped {border: 1px dashed gray;margin: 0 0.4em 0.5em 0.4em;box-sizing: border-box;padding-bottom: 0.4em;background-color: white;}#sk-container-id-20 div.sk-label label {font-family: monospace;font-weight: bold;display: inline-block;line-height: 1.2em;}#sk-container-id-20 div.sk-label-container {text-align: center;}#sk-container-id-20 div.sk-container {/* jupyter's `normalize.less` sets `[hidden] { display: none; }` but bootstrap.min.css set `[hidden] { display: none !important; }` so we also need the `!important` here to be able to override the default hidden behavior on the sphinx rendered scikit-learn.org. See: https://github.com/scikit-learn/scikit-learn/issues/21755 */display: inline-block !important;position: relative;}#sk-container-id-20 div.sk-text-repr-fallback {display: none;}</style><div id=\"sk-container-id-20\" class=\"sk-top-container\"><div class=\"sk-text-repr-fallback\"><pre>LogisticRegression(random_state=0)</pre><b>In a Jupyter environment, please rerun this cell to show the HTML representation or trust the notebook. <br />On GitHub, the HTML representation is unable to render, please try loading this page with nbviewer.org.</b></div><div class=\"sk-container\" hidden><div class=\"sk-item\"><div class=\"sk-estimator sk-toggleable\"><input class=\"sk-toggleable__control sk-hidden--visually\" id=\"sk-estimator-id-311\" type=\"checkbox\" checked><label for=\"sk-estimator-id-311\" class=\"sk-toggleable__label sk-toggleable__label-arrow\">LogisticRegression</label><div class=\"sk-toggleable__content\"><pre>LogisticRegression(random_state=0)</pre></div></div></div></div></div>"
            ]
          },
          "metadata": {},
          "execution_count": 151
        }
      ]
    },
    {
      "cell_type": "markdown",
      "source": [
        "nagyon kicsi az accuracy ~30%, ezért ezt most félretesszük. Sőt, ki is dobjuk."
      ],
      "metadata": {
        "id": "o-xEmyhWazBo"
      }
    },
    {
      "cell_type": "code",
      "source": [
        "X = X.drop(['Cabin'], axis = 1)"
      ],
      "metadata": {
        "id": "M_BuqDGpTsDc"
      },
      "execution_count": null,
      "outputs": []
    },
    {
      "cell_type": "code",
      "source": [
        "from sklearn.compose import ColumnTransformer\n",
        "\n",
        "num_attribs = ['Age','SibSp','Parch','Fare']\n",
        "\n",
        "cat_attribs = ['Pclass', 'Sex', 'Embarked']\n",
        "\n",
        "preprocessing = ColumnTransformer([\n",
        "    (\"num\", num_pipeline, num_attribs),\n",
        "    (\"cat\", cat_pipeline, cat_attribs),\n",
        "])\n",
        "\n",
        "preprocessing"
      ],
      "metadata": {
        "colab": {
          "base_uri": "https://localhost:8080/",
          "height": 152
        },
        "id": "Hxqhl1mY6kTM",
        "outputId": "e86fe614-c62a-4056-df88-b4300fa278c0"
      },
      "execution_count": null,
      "outputs": [
        {
          "output_type": "execute_result",
          "data": {
            "text/plain": [
              "ColumnTransformer(transformers=[('num',\n",
              "                                 Pipeline(steps=[('imputer',\n",
              "                                                  SimpleImputer(strategy='median')),\n",
              "                                                 ('scaler', StandardScaler())]),\n",
              "                                 ['Age', 'SibSp', 'Parch', 'Fare']),\n",
              "                                ('cat',\n",
              "                                 Pipeline(steps=[('imputer',\n",
              "                                                  SimpleImputer(strategy='most_frequent')),\n",
              "                                                 ('encoder',\n",
              "                                                  OneHotEncoder(sparse=False))]),\n",
              "                                 ['Pclass', 'Sex', 'Embarked'])])"
            ],
            "text/html": [
              "<style>#sk-container-id-21 {color: black;background-color: white;}#sk-container-id-21 pre{padding: 0;}#sk-container-id-21 div.sk-toggleable {background-color: white;}#sk-container-id-21 label.sk-toggleable__label {cursor: pointer;display: block;width: 100%;margin-bottom: 0;padding: 0.3em;box-sizing: border-box;text-align: center;}#sk-container-id-21 label.sk-toggleable__label-arrow:before {content: \"▸\";float: left;margin-right: 0.25em;color: #696969;}#sk-container-id-21 label.sk-toggleable__label-arrow:hover:before {color: black;}#sk-container-id-21 div.sk-estimator:hover label.sk-toggleable__label-arrow:before {color: black;}#sk-container-id-21 div.sk-toggleable__content {max-height: 0;max-width: 0;overflow: hidden;text-align: left;background-color: #f0f8ff;}#sk-container-id-21 div.sk-toggleable__content pre {margin: 0.2em;color: black;border-radius: 0.25em;background-color: #f0f8ff;}#sk-container-id-21 input.sk-toggleable__control:checked~div.sk-toggleable__content {max-height: 200px;max-width: 100%;overflow: auto;}#sk-container-id-21 input.sk-toggleable__control:checked~label.sk-toggleable__label-arrow:before {content: \"▾\";}#sk-container-id-21 div.sk-estimator input.sk-toggleable__control:checked~label.sk-toggleable__label {background-color: #d4ebff;}#sk-container-id-21 div.sk-label input.sk-toggleable__control:checked~label.sk-toggleable__label {background-color: #d4ebff;}#sk-container-id-21 input.sk-hidden--visually {border: 0;clip: rect(1px 1px 1px 1px);clip: rect(1px, 1px, 1px, 1px);height: 1px;margin: -1px;overflow: hidden;padding: 0;position: absolute;width: 1px;}#sk-container-id-21 div.sk-estimator {font-family: monospace;background-color: #f0f8ff;border: 1px dotted black;border-radius: 0.25em;box-sizing: border-box;margin-bottom: 0.5em;}#sk-container-id-21 div.sk-estimator:hover {background-color: #d4ebff;}#sk-container-id-21 div.sk-parallel-item::after {content: \"\";width: 100%;border-bottom: 1px solid gray;flex-grow: 1;}#sk-container-id-21 div.sk-label:hover label.sk-toggleable__label {background-color: #d4ebff;}#sk-container-id-21 div.sk-serial::before {content: \"\";position: absolute;border-left: 1px solid gray;box-sizing: border-box;top: 0;bottom: 0;left: 50%;z-index: 0;}#sk-container-id-21 div.sk-serial {display: flex;flex-direction: column;align-items: center;background-color: white;padding-right: 0.2em;padding-left: 0.2em;position: relative;}#sk-container-id-21 div.sk-item {position: relative;z-index: 1;}#sk-container-id-21 div.sk-parallel {display: flex;align-items: stretch;justify-content: center;background-color: white;position: relative;}#sk-container-id-21 div.sk-item::before, #sk-container-id-21 div.sk-parallel-item::before {content: \"\";position: absolute;border-left: 1px solid gray;box-sizing: border-box;top: 0;bottom: 0;left: 50%;z-index: -1;}#sk-container-id-21 div.sk-parallel-item {display: flex;flex-direction: column;z-index: 1;position: relative;background-color: white;}#sk-container-id-21 div.sk-parallel-item:first-child::after {align-self: flex-end;width: 50%;}#sk-container-id-21 div.sk-parallel-item:last-child::after {align-self: flex-start;width: 50%;}#sk-container-id-21 div.sk-parallel-item:only-child::after {width: 0;}#sk-container-id-21 div.sk-dashed-wrapped {border: 1px dashed gray;margin: 0 0.4em 0.5em 0.4em;box-sizing: border-box;padding-bottom: 0.4em;background-color: white;}#sk-container-id-21 div.sk-label label {font-family: monospace;font-weight: bold;display: inline-block;line-height: 1.2em;}#sk-container-id-21 div.sk-label-container {text-align: center;}#sk-container-id-21 div.sk-container {/* jupyter's `normalize.less` sets `[hidden] { display: none; }` but bootstrap.min.css set `[hidden] { display: none !important; }` so we also need the `!important` here to be able to override the default hidden behavior on the sphinx rendered scikit-learn.org. See: https://github.com/scikit-learn/scikit-learn/issues/21755 */display: inline-block !important;position: relative;}#sk-container-id-21 div.sk-text-repr-fallback {display: none;}</style><div id=\"sk-container-id-21\" class=\"sk-top-container\"><div class=\"sk-text-repr-fallback\"><pre>ColumnTransformer(transformers=[(&#x27;num&#x27;,\n",
              "                                 Pipeline(steps=[(&#x27;imputer&#x27;,\n",
              "                                                  SimpleImputer(strategy=&#x27;median&#x27;)),\n",
              "                                                 (&#x27;scaler&#x27;, StandardScaler())]),\n",
              "                                 [&#x27;Age&#x27;, &#x27;SibSp&#x27;, &#x27;Parch&#x27;, &#x27;Fare&#x27;]),\n",
              "                                (&#x27;cat&#x27;,\n",
              "                                 Pipeline(steps=[(&#x27;imputer&#x27;,\n",
              "                                                  SimpleImputer(strategy=&#x27;most_frequent&#x27;)),\n",
              "                                                 (&#x27;encoder&#x27;,\n",
              "                                                  OneHotEncoder(sparse=False))]),\n",
              "                                 [&#x27;Pclass&#x27;, &#x27;Sex&#x27;, &#x27;Embarked&#x27;])])</pre><b>In a Jupyter environment, please rerun this cell to show the HTML representation or trust the notebook. <br />On GitHub, the HTML representation is unable to render, please try loading this page with nbviewer.org.</b></div><div class=\"sk-container\" hidden><div class=\"sk-item sk-dashed-wrapped\"><div class=\"sk-label-container\"><div class=\"sk-label sk-toggleable\"><input class=\"sk-toggleable__control sk-hidden--visually\" id=\"sk-estimator-id-312\" type=\"checkbox\" ><label for=\"sk-estimator-id-312\" class=\"sk-toggleable__label sk-toggleable__label-arrow\">ColumnTransformer</label><div class=\"sk-toggleable__content\"><pre>ColumnTransformer(transformers=[(&#x27;num&#x27;,\n",
              "                                 Pipeline(steps=[(&#x27;imputer&#x27;,\n",
              "                                                  SimpleImputer(strategy=&#x27;median&#x27;)),\n",
              "                                                 (&#x27;scaler&#x27;, StandardScaler())]),\n",
              "                                 [&#x27;Age&#x27;, &#x27;SibSp&#x27;, &#x27;Parch&#x27;, &#x27;Fare&#x27;]),\n",
              "                                (&#x27;cat&#x27;,\n",
              "                                 Pipeline(steps=[(&#x27;imputer&#x27;,\n",
              "                                                  SimpleImputer(strategy=&#x27;most_frequent&#x27;)),\n",
              "                                                 (&#x27;encoder&#x27;,\n",
              "                                                  OneHotEncoder(sparse=False))]),\n",
              "                                 [&#x27;Pclass&#x27;, &#x27;Sex&#x27;, &#x27;Embarked&#x27;])])</pre></div></div></div><div class=\"sk-parallel\"><div class=\"sk-parallel-item\"><div class=\"sk-item\"><div class=\"sk-label-container\"><div class=\"sk-label sk-toggleable\"><input class=\"sk-toggleable__control sk-hidden--visually\" id=\"sk-estimator-id-313\" type=\"checkbox\" ><label for=\"sk-estimator-id-313\" class=\"sk-toggleable__label sk-toggleable__label-arrow\">num</label><div class=\"sk-toggleable__content\"><pre>[&#x27;Age&#x27;, &#x27;SibSp&#x27;, &#x27;Parch&#x27;, &#x27;Fare&#x27;]</pre></div></div></div><div class=\"sk-serial\"><div class=\"sk-item\"><div class=\"sk-serial\"><div class=\"sk-item\"><div class=\"sk-estimator sk-toggleable\"><input class=\"sk-toggleable__control sk-hidden--visually\" id=\"sk-estimator-id-314\" type=\"checkbox\" ><label for=\"sk-estimator-id-314\" class=\"sk-toggleable__label sk-toggleable__label-arrow\">SimpleImputer</label><div class=\"sk-toggleable__content\"><pre>SimpleImputer(strategy=&#x27;median&#x27;)</pre></div></div></div><div class=\"sk-item\"><div class=\"sk-estimator sk-toggleable\"><input class=\"sk-toggleable__control sk-hidden--visually\" id=\"sk-estimator-id-315\" type=\"checkbox\" ><label for=\"sk-estimator-id-315\" class=\"sk-toggleable__label sk-toggleable__label-arrow\">StandardScaler</label><div class=\"sk-toggleable__content\"><pre>StandardScaler()</pre></div></div></div></div></div></div></div></div><div class=\"sk-parallel-item\"><div class=\"sk-item\"><div class=\"sk-label-container\"><div class=\"sk-label sk-toggleable\"><input class=\"sk-toggleable__control sk-hidden--visually\" id=\"sk-estimator-id-316\" type=\"checkbox\" ><label for=\"sk-estimator-id-316\" class=\"sk-toggleable__label sk-toggleable__label-arrow\">cat</label><div class=\"sk-toggleable__content\"><pre>[&#x27;Pclass&#x27;, &#x27;Sex&#x27;, &#x27;Embarked&#x27;]</pre></div></div></div><div class=\"sk-serial\"><div class=\"sk-item\"><div class=\"sk-serial\"><div class=\"sk-item\"><div class=\"sk-estimator sk-toggleable\"><input class=\"sk-toggleable__control sk-hidden--visually\" id=\"sk-estimator-id-317\" type=\"checkbox\" ><label for=\"sk-estimator-id-317\" class=\"sk-toggleable__label sk-toggleable__label-arrow\">SimpleImputer</label><div class=\"sk-toggleable__content\"><pre>SimpleImputer(strategy=&#x27;most_frequent&#x27;)</pre></div></div></div><div class=\"sk-item\"><div class=\"sk-estimator sk-toggleable\"><input class=\"sk-toggleable__control sk-hidden--visually\" id=\"sk-estimator-id-318\" type=\"checkbox\" ><label for=\"sk-estimator-id-318\" class=\"sk-toggleable__label sk-toggleable__label-arrow\">OneHotEncoder</label><div class=\"sk-toggleable__content\"><pre>OneHotEncoder(sparse=False)</pre></div></div></div></div></div></div></div></div></div></div></div></div>"
            ]
          },
          "metadata": {},
          "execution_count": 153
        }
      ]
    },
    {
      "cell_type": "code",
      "source": [
        "X_train_prep = preprocessing.fit_transform(X_train)"
      ],
      "metadata": {
        "colab": {
          "base_uri": "https://localhost:8080/"
        },
        "id": "PFyti5Uw6rbI",
        "outputId": "b94b6b8a-3db9-4b71-c22b-1ba598dc6831"
      },
      "execution_count": null,
      "outputs": [
        {
          "output_type": "stream",
          "name": "stderr",
          "text": [
            "/usr/local/lib/python3.10/dist-packages/sklearn/preprocessing/_encoders.py:868: FutureWarning: `sparse` was renamed to `sparse_output` in version 1.2 and will be removed in 1.4. `sparse_output` is ignored unless you leave `sparse` to its default value.\n",
            "  warnings.warn(\n"
          ]
        }
      ]
    },
    {
      "cell_type": "code",
      "source": [
        "X_train_prep"
      ],
      "metadata": {
        "colab": {
          "base_uri": "https://localhost:8080/"
        },
        "id": "x8BTJRog8uV2",
        "outputId": "6bca6dfe-b4a1-4f4b-d3d1-9a0c798a0c6e"
      },
      "execution_count": null,
      "outputs": [
        {
          "output_type": "execute_result",
          "data": {
            "text/plain": [
              "array([[ 1.25363981, -0.47072241, -0.47934164, ...,  0.        ,\n",
              "         0.        ,  1.        ],\n",
              "       [-0.47728209, -0.47072241, -0.47934164, ...,  0.        ,\n",
              "         0.        ,  1.        ],\n",
              "       [ 0.21508667, -0.47072241, -0.47934164, ...,  0.        ,\n",
              "         0.        ,  1.        ],\n",
              "       ...,\n",
              "       [ 0.90745543,  1.23056874, -0.47934164, ...,  0.        ,\n",
              "         0.        ,  1.        ],\n",
              "       [-1.16965085,  0.37992316,  2.04874166, ...,  0.        ,\n",
              "         0.        ,  1.        ],\n",
              "       [-0.63114182, -0.47072241,  0.78470001, ...,  0.        ,\n",
              "         0.        ,  1.        ]])"
            ]
          },
          "metadata": {},
          "execution_count": 155
        }
      ]
    },
    {
      "cell_type": "code",
      "source": [
        "# recover a dataframe:\n",
        "X_train_prep_df = pd.DataFrame(\n",
        "    X_train_prep,\n",
        "    columns = preprocessing.get_feature_names_out(),\n",
        "    index = X_train.index)\n",
        "X_train_prep_df.columns"
      ],
      "metadata": {
        "colab": {
          "base_uri": "https://localhost:8080/"
        },
        "id": "CPxvvICg6rYv",
        "outputId": "f79a3f48-9f51-4a6b-89db-e540924cb0f2"
      },
      "execution_count": null,
      "outputs": [
        {
          "output_type": "execute_result",
          "data": {
            "text/plain": [
              "Index(['num__Age', 'num__SibSp', 'num__Parch', 'num__Fare', 'cat__Pclass_1',\n",
              "       'cat__Pclass_2', 'cat__Pclass_3', 'cat__Sex_female', 'cat__Sex_male',\n",
              "       'cat__Embarked_C', 'cat__Embarked_Q', 'cat__Embarked_S'],\n",
              "      dtype='object')"
            ]
          },
          "metadata": {},
          "execution_count": 156
        }
      ]
    },
    {
      "cell_type": "markdown",
      "source": [
        "**Classification model candidates**\n",
        "\n",
        "https://scikit-learn.org/stable/user_guide.html\n",
        "\n",
        "1.1.2. Ridge regression and classification\n",
        "\n",
        "1.4.1. Support Vector Machines Classification\n",
        "\n",
        "1.5.1. Stochastic Gradient Descent Classification\n",
        "\n",
        "1.6.2. Nearest Neighbors Classification\n",
        "\n",
        "1.6.5. Nearest Centroid Classifier\n",
        "\n",
        "1.7.3. Gaussian Process Classification (GPC)\n",
        "\n",
        "1.10.1. Decision Trees Classification\n",
        "\n",
        "1.11. Ensemble methods\n",
        "\n",
        "? Logistic Regression ?"
      ],
      "metadata": {
        "id": "cqZiEM00zypi"
      }
    },
    {
      "cell_type": "code",
      "source": [
        "from sklearn.model_selection import cross_val_score\n",
        "from sklearn.model_selection import GridSearchCV"
      ],
      "metadata": {
        "id": "ag9uwbfFWBrT"
      },
      "execution_count": null,
      "outputs": []
    },
    {
      "cell_type": "code",
      "source": [
        "from sklearn.linear_model import RidgeClassifierCV\n",
        "ridge_clf = RidgeClassifierCV(alphas=(0.1, 1.0, 10.0), fit_intercept=False, cv = 3)  # RidgeClassifierCV(alphas=(0.1, 1.0, 10.0), *, fit_intercept=True, scoring=None, cv=None, class_weight=None, store_cv_values=False\n",
        "ridge_clf.fit(X_train_prep, y_train)\n",
        "ridge_clf.score(X_train_prep, y_train).round(2)\n",
        "# cross_val_score in RidgeClassifierCV cv = 3"
      ],
      "metadata": {
        "colab": {
          "base_uri": "https://localhost:8080/"
        },
        "id": "j4VS2bBsL8Zs",
        "outputId": "209b90c1-5b66-4c28-b6e6-73b88f501f2e"
      },
      "execution_count": null,
      "outputs": [
        {
          "output_type": "execute_result",
          "data": {
            "text/plain": [
              "0.8"
            ]
          },
          "metadata": {},
          "execution_count": 158
        }
      ]
    },
    {
      "cell_type": "code",
      "source": [
        "param_grid_ridge = {\n",
        "    'alphas': [(0.1, 1.0, 10.0), (0.01, 0.1, 1.0), (1.0, 10.0, 100.0)],\n",
        "    'fit_intercept': [True, False]}\n",
        "\n",
        "grid_search_ridge = GridSearchCV(RidgeClassifierCV(), param_grid_ridge, cv=3, scoring='accuracy')\n",
        "grid_search_ridge.fit(X_train_prep, y_train)\n",
        "best_params_ridge = grid_search_ridge.best_params_\n",
        "best_score_ridge = grid_search_ridge.best_score_"
      ],
      "metadata": {
        "id": "AneLUrqEebKA"
      },
      "execution_count": null,
      "outputs": []
    },
    {
      "cell_type": "code",
      "source": [
        "from sklearn.svm import SVC\n",
        "# SVC(*, C=1.0, kernel='rbf', degree=3, gamma='scale', coef0=0.0, shrinking=True, probability=False, tol=0.001, cache_size=200, class_weight=None, verbose=False, max_iter=-1, decision_function_shape='ovr', break_ties=False, random_state=None\n",
        "svc_clf = SVC(gamma='auto', random_state=7)\n",
        "svc_clf.fit(X_train_prep, y_train)\n",
        "# svc_clf.score(X_train_prep, y_train).round(2)\n",
        "cross_val_score(svc_clf, X_train_prep, y_train, cv=3, scoring=\"accuracy\").mean().round(2)"
      ],
      "metadata": {
        "colab": {
          "base_uri": "https://localhost:8080/"
        },
        "id": "YhE3hts9Mvx2",
        "outputId": "278ebc2c-24b9-42a7-d5a5-5f98adc81181"
      },
      "execution_count": null,
      "outputs": [
        {
          "output_type": "execute_result",
          "data": {
            "text/plain": [
              "0.82"
            ]
          },
          "metadata": {},
          "execution_count": 160
        }
      ]
    },
    {
      "cell_type": "code",
      "source": [
        "param_grid_svc = {\n",
        "    'C': [0.1, 1, 10],\n",
        "    'kernel': ['linear', 'rbf'],\n",
        "    'gamma': ['scale', 'auto']\n",
        "}\n",
        "grid_search_svc = GridSearchCV(SVC(), param_grid_svc, cv=3, scoring='accuracy')\n",
        "grid_search_svc.fit(X_train_prep, y_train)\n",
        "best_params_svc = grid_search_svc.best_params_\n",
        "best_score_svc =  grid_search_svc.best_score_"
      ],
      "metadata": {
        "id": "h8J77pA0ek4O"
      },
      "execution_count": null,
      "outputs": []
    },
    {
      "cell_type": "code",
      "source": [
        "from sklearn.svm import LinearSVC\n",
        "# LinearSVC(penalty='l2', loss='squared_hinge', *, dual='warn', tol=0.0001, C=1.0, multi_class='ovr', fit_intercept=True, intercept_scaling=1, class_weight=None, verbose=0, random_state=None, max_iter=1000)\n",
        "linsvc_clf = LinearSVC(random_state=7)\n",
        "linsvc_clf.fit(X_train_prep, y_train)\n",
        "# linsvc_clf.score(X_train_prep, y_train).round(2)\n",
        "cross_val_score(linsvc_clf, X_train_prep, y_train, cv=3, scoring=\"accuracy\").mean().round(2)"
      ],
      "metadata": {
        "colab": {
          "base_uri": "https://localhost:8080/"
        },
        "id": "YDflox-HO9-a",
        "outputId": "2ca754d2-8189-4f2b-addc-5f9bfca572f3"
      },
      "execution_count": null,
      "outputs": [
        {
          "output_type": "stream",
          "name": "stderr",
          "text": [
            "/usr/local/lib/python3.10/dist-packages/sklearn/svm/_base.py:1244: ConvergenceWarning: Liblinear failed to converge, increase the number of iterations.\n",
            "  warnings.warn(\n",
            "/usr/local/lib/python3.10/dist-packages/sklearn/svm/_base.py:1244: ConvergenceWarning: Liblinear failed to converge, increase the number of iterations.\n",
            "  warnings.warn(\n",
            "/usr/local/lib/python3.10/dist-packages/sklearn/svm/_base.py:1244: ConvergenceWarning: Liblinear failed to converge, increase the number of iterations.\n",
            "  warnings.warn(\n",
            "/usr/local/lib/python3.10/dist-packages/sklearn/svm/_base.py:1244: ConvergenceWarning: Liblinear failed to converge, increase the number of iterations.\n",
            "  warnings.warn(\n"
          ]
        },
        {
          "output_type": "execute_result",
          "data": {
            "text/plain": [
              "0.8"
            ]
          },
          "metadata": {},
          "execution_count": 162
        }
      ]
    },
    {
      "cell_type": "code",
      "source": [
        "param_grid_linsvc = {\n",
        "    'C': [0.1, 1, 10]\n",
        "}\n",
        "grid_search_linsvc = GridSearchCV(linsvc_clf, param_grid=param_grid_linsvc, scoring='accuracy', cv=3)\n",
        "grid_search_linsvc.fit(X_train_prep, y_train)\n",
        "best_params_linsvc = grid_search_linsvc.best_params_\n",
        "best_score_linsvc = grid_search_linsvc.best_score_"
      ],
      "metadata": {
        "colab": {
          "base_uri": "https://localhost:8080/"
        },
        "id": "7t25OcdBiyte",
        "outputId": "27ace784-3346-4b78-eba7-1436c0e8a677"
      },
      "execution_count": null,
      "outputs": [
        {
          "output_type": "stream",
          "name": "stderr",
          "text": [
            "/usr/local/lib/python3.10/dist-packages/sklearn/svm/_base.py:1244: ConvergenceWarning: Liblinear failed to converge, increase the number of iterations.\n",
            "  warnings.warn(\n",
            "/usr/local/lib/python3.10/dist-packages/sklearn/svm/_base.py:1244: ConvergenceWarning: Liblinear failed to converge, increase the number of iterations.\n",
            "  warnings.warn(\n",
            "/usr/local/lib/python3.10/dist-packages/sklearn/svm/_base.py:1244: ConvergenceWarning: Liblinear failed to converge, increase the number of iterations.\n",
            "  warnings.warn(\n",
            "/usr/local/lib/python3.10/dist-packages/sklearn/svm/_base.py:1244: ConvergenceWarning: Liblinear failed to converge, increase the number of iterations.\n",
            "  warnings.warn(\n",
            "/usr/local/lib/python3.10/dist-packages/sklearn/svm/_base.py:1244: ConvergenceWarning: Liblinear failed to converge, increase the number of iterations.\n",
            "  warnings.warn(\n",
            "/usr/local/lib/python3.10/dist-packages/sklearn/svm/_base.py:1244: ConvergenceWarning: Liblinear failed to converge, increase the number of iterations.\n",
            "  warnings.warn(\n"
          ]
        }
      ]
    },
    {
      "cell_type": "code",
      "source": [
        "from sklearn.linear_model import SGDClassifier\n",
        "# SGDClassifier(loss='hinge', *, penalty='l2', alpha=0.0001, l1_ratio=0.15, fit_intercept=True, max_iter=1000, tol=0.001, shuffle=True, verbose=0, epsilon=0.1, n_jobs=None, random_state=None, learning_rate='optimal', eta0=0.0, power_t=0.5, early_stopping=False, validation_fraction=0.1, n_iter_no_change=5, class_weight=None, warm_start=False, average=False)\n",
        "sgd_clf = SGDClassifier(loss='hinge', penalty='l2', alpha=0.0001)\n",
        "sgd_clf.fit(X_train_prep, y_train)\n",
        "# sgd_clf.score(X_train_prep, y_train).round(2)\n",
        "cross_val_score(sgd_clf, X_train_prep, y_train, cv=3, scoring=\"accuracy\").mean().round(2)"
      ],
      "metadata": {
        "colab": {
          "base_uri": "https://localhost:8080/"
        },
        "id": "8gMGWk_6PKtU",
        "outputId": "f7d98bad-1610-46bf-c470-93ef1b7c42f0"
      },
      "execution_count": null,
      "outputs": [
        {
          "output_type": "execute_result",
          "data": {
            "text/plain": [
              "0.73"
            ]
          },
          "metadata": {},
          "execution_count": 164
        }
      ]
    },
    {
      "cell_type": "code",
      "source": [
        "param_grid_sgd = {\n",
        "    'loss': ['hinge', 'log', 'modified_huber'],\n",
        "    'penalty': ['l1', 'l2', 'elasticnet'],\n",
        "    'alpha': [0.0001, 0.001, 0.01]\n",
        "}\n",
        "grid_search_sgd = GridSearchCV(sgd_clf, param_grid=param_grid_sgd, scoring='accuracy', cv=3)\n",
        "grid_search_sgd.fit(X_train_prep, y_train)\n",
        "best_params_sgd = grid_search_sgd.best_params_\n",
        "best_score_sgd = grid_search_sgd.best_score_"
      ],
      "metadata": {
        "colab": {
          "base_uri": "https://localhost:8080/"
        },
        "id": "POZVnzVBi8e1",
        "outputId": "81a337e1-169b-45c4-9299-a4158032a819"
      },
      "execution_count": null,
      "outputs": [
        {
          "output_type": "stream",
          "name": "stderr",
          "text": [
            "/usr/local/lib/python3.10/dist-packages/sklearn/linear_model/_stochastic_gradient.py:163: FutureWarning: The loss 'log' was deprecated in v1.1 and will be removed in version 1.3. Use `loss='log_loss'` which is equivalent.\n",
            "  warnings.warn(\n",
            "/usr/local/lib/python3.10/dist-packages/sklearn/linear_model/_stochastic_gradient.py:163: FutureWarning: The loss 'log' was deprecated in v1.1 and will be removed in version 1.3. Use `loss='log_loss'` which is equivalent.\n",
            "  warnings.warn(\n",
            "/usr/local/lib/python3.10/dist-packages/sklearn/linear_model/_stochastic_gradient.py:163: FutureWarning: The loss 'log' was deprecated in v1.1 and will be removed in version 1.3. Use `loss='log_loss'` which is equivalent.\n",
            "  warnings.warn(\n",
            "/usr/local/lib/python3.10/dist-packages/sklearn/linear_model/_stochastic_gradient.py:163: FutureWarning: The loss 'log' was deprecated in v1.1 and will be removed in version 1.3. Use `loss='log_loss'` which is equivalent.\n",
            "  warnings.warn(\n",
            "/usr/local/lib/python3.10/dist-packages/sklearn/linear_model/_stochastic_gradient.py:163: FutureWarning: The loss 'log' was deprecated in v1.1 and will be removed in version 1.3. Use `loss='log_loss'` which is equivalent.\n",
            "  warnings.warn(\n",
            "/usr/local/lib/python3.10/dist-packages/sklearn/linear_model/_stochastic_gradient.py:163: FutureWarning: The loss 'log' was deprecated in v1.1 and will be removed in version 1.3. Use `loss='log_loss'` which is equivalent.\n",
            "  warnings.warn(\n",
            "/usr/local/lib/python3.10/dist-packages/sklearn/linear_model/_stochastic_gradient.py:163: FutureWarning: The loss 'log' was deprecated in v1.1 and will be removed in version 1.3. Use `loss='log_loss'` which is equivalent.\n",
            "  warnings.warn(\n",
            "/usr/local/lib/python3.10/dist-packages/sklearn/linear_model/_stochastic_gradient.py:163: FutureWarning: The loss 'log' was deprecated in v1.1 and will be removed in version 1.3. Use `loss='log_loss'` which is equivalent.\n",
            "  warnings.warn(\n",
            "/usr/local/lib/python3.10/dist-packages/sklearn/linear_model/_stochastic_gradient.py:163: FutureWarning: The loss 'log' was deprecated in v1.1 and will be removed in version 1.3. Use `loss='log_loss'` which is equivalent.\n",
            "  warnings.warn(\n",
            "/usr/local/lib/python3.10/dist-packages/sklearn/linear_model/_stochastic_gradient.py:163: FutureWarning: The loss 'log' was deprecated in v1.1 and will be removed in version 1.3. Use `loss='log_loss'` which is equivalent.\n",
            "  warnings.warn(\n",
            "/usr/local/lib/python3.10/dist-packages/sklearn/linear_model/_stochastic_gradient.py:163: FutureWarning: The loss 'log' was deprecated in v1.1 and will be removed in version 1.3. Use `loss='log_loss'` which is equivalent.\n",
            "  warnings.warn(\n",
            "/usr/local/lib/python3.10/dist-packages/sklearn/linear_model/_stochastic_gradient.py:163: FutureWarning: The loss 'log' was deprecated in v1.1 and will be removed in version 1.3. Use `loss='log_loss'` which is equivalent.\n",
            "  warnings.warn(\n",
            "/usr/local/lib/python3.10/dist-packages/sklearn/linear_model/_stochastic_gradient.py:163: FutureWarning: The loss 'log' was deprecated in v1.1 and will be removed in version 1.3. Use `loss='log_loss'` which is equivalent.\n",
            "  warnings.warn(\n",
            "/usr/local/lib/python3.10/dist-packages/sklearn/linear_model/_stochastic_gradient.py:163: FutureWarning: The loss 'log' was deprecated in v1.1 and will be removed in version 1.3. Use `loss='log_loss'` which is equivalent.\n",
            "  warnings.warn(\n",
            "/usr/local/lib/python3.10/dist-packages/sklearn/linear_model/_stochastic_gradient.py:163: FutureWarning: The loss 'log' was deprecated in v1.1 and will be removed in version 1.3. Use `loss='log_loss'` which is equivalent.\n",
            "  warnings.warn(\n",
            "/usr/local/lib/python3.10/dist-packages/sklearn/linear_model/_stochastic_gradient.py:163: FutureWarning: The loss 'log' was deprecated in v1.1 and will be removed in version 1.3. Use `loss='log_loss'` which is equivalent.\n",
            "  warnings.warn(\n",
            "/usr/local/lib/python3.10/dist-packages/sklearn/linear_model/_stochastic_gradient.py:163: FutureWarning: The loss 'log' was deprecated in v1.1 and will be removed in version 1.3. Use `loss='log_loss'` which is equivalent.\n",
            "  warnings.warn(\n",
            "/usr/local/lib/python3.10/dist-packages/sklearn/linear_model/_stochastic_gradient.py:163: FutureWarning: The loss 'log' was deprecated in v1.1 and will be removed in version 1.3. Use `loss='log_loss'` which is equivalent.\n",
            "  warnings.warn(\n",
            "/usr/local/lib/python3.10/dist-packages/sklearn/linear_model/_stochastic_gradient.py:163: FutureWarning: The loss 'log' was deprecated in v1.1 and will be removed in version 1.3. Use `loss='log_loss'` which is equivalent.\n",
            "  warnings.warn(\n",
            "/usr/local/lib/python3.10/dist-packages/sklearn/linear_model/_stochastic_gradient.py:163: FutureWarning: The loss 'log' was deprecated in v1.1 and will be removed in version 1.3. Use `loss='log_loss'` which is equivalent.\n",
            "  warnings.warn(\n",
            "/usr/local/lib/python3.10/dist-packages/sklearn/linear_model/_stochastic_gradient.py:163: FutureWarning: The loss 'log' was deprecated in v1.1 and will be removed in version 1.3. Use `loss='log_loss'` which is equivalent.\n",
            "  warnings.warn(\n",
            "/usr/local/lib/python3.10/dist-packages/sklearn/linear_model/_stochastic_gradient.py:163: FutureWarning: The loss 'log' was deprecated in v1.1 and will be removed in version 1.3. Use `loss='log_loss'` which is equivalent.\n",
            "  warnings.warn(\n",
            "/usr/local/lib/python3.10/dist-packages/sklearn/linear_model/_stochastic_gradient.py:163: FutureWarning: The loss 'log' was deprecated in v1.1 and will be removed in version 1.3. Use `loss='log_loss'` which is equivalent.\n",
            "  warnings.warn(\n",
            "/usr/local/lib/python3.10/dist-packages/sklearn/linear_model/_stochastic_gradient.py:163: FutureWarning: The loss 'log' was deprecated in v1.1 and will be removed in version 1.3. Use `loss='log_loss'` which is equivalent.\n",
            "  warnings.warn(\n",
            "/usr/local/lib/python3.10/dist-packages/sklearn/linear_model/_stochastic_gradient.py:163: FutureWarning: The loss 'log' was deprecated in v1.1 and will be removed in version 1.3. Use `loss='log_loss'` which is equivalent.\n",
            "  warnings.warn(\n",
            "/usr/local/lib/python3.10/dist-packages/sklearn/linear_model/_stochastic_gradient.py:163: FutureWarning: The loss 'log' was deprecated in v1.1 and will be removed in version 1.3. Use `loss='log_loss'` which is equivalent.\n",
            "  warnings.warn(\n",
            "/usr/local/lib/python3.10/dist-packages/sklearn/linear_model/_stochastic_gradient.py:163: FutureWarning: The loss 'log' was deprecated in v1.1 and will be removed in version 1.3. Use `loss='log_loss'` which is equivalent.\n",
            "  warnings.warn(\n",
            "/usr/local/lib/python3.10/dist-packages/sklearn/linear_model/_stochastic_gradient.py:163: FutureWarning: The loss 'log' was deprecated in v1.1 and will be removed in version 1.3. Use `loss='log_loss'` which is equivalent.\n",
            "  warnings.warn(\n"
          ]
        }
      ]
    },
    {
      "cell_type": "code",
      "source": [
        "from sklearn.neighbors import KNeighborsClassifier\n",
        "# KNeighborsClassifier(n_neighbors=5, *, weights='uniform', algorithm='auto', leaf_size=30, p=2, metric='minkowski', metric_params=None, n_jobs=None)\n",
        "kn_clf = KNeighborsClassifier(n_neighbors=5, algorithm='auto')\n",
        "kn_clf.fit(X_train_prep, y_train)\n",
        "# kn_clf.score(X_train_prep, y_train).round(2)\n",
        "cross_val_score(kn_clf, X_train_prep, y_train, cv=3, scoring=\"accuracy\").mean().round(2)"
      ],
      "metadata": {
        "colab": {
          "base_uri": "https://localhost:8080/"
        },
        "id": "pJZ1xP9APzqP",
        "outputId": "b570ed56-432b-4c48-fe08-ee5ddac07b65"
      },
      "execution_count": null,
      "outputs": [
        {
          "output_type": "execute_result",
          "data": {
            "text/plain": [
              "0.8"
            ]
          },
          "metadata": {},
          "execution_count": 166
        }
      ]
    },
    {
      "cell_type": "code",
      "source": [
        "param_grid_kn = {\n",
        "    'n_neighbors': [3, 5, 7],\n",
        "    'algorithm': ['auto', 'ball_tree', 'kd_tree']\n",
        "}\n",
        "grid_search_kn = GridSearchCV(kn_clf, param_grid=param_grid_kn, scoring='accuracy', cv=3)\n",
        "grid_search_kn.fit(X_train_prep, y_train)\n",
        "best_params_kn = grid_search_kn.best_params_\n",
        "best_score_kn = grid_search_kn.best_score_"
      ],
      "metadata": {
        "id": "FbRshXx5jBf7"
      },
      "execution_count": null,
      "outputs": []
    },
    {
      "cell_type": "code",
      "source": [
        "from sklearn.neighbors import NearestCentroid\n",
        "# NearestCentroid(metric='euclidean', *, shrink_threshold=None)\n",
        "nc_clf = NearestCentroid()\n",
        "nc_clf.fit(X_train_prep, y_train)\n",
        "# nc_clf.score(X_train_prep, y_train).round(2)\n",
        "cross_val_score(nc_clf, X_train_prep, y_train, cv=3, scoring=\"accuracy\").mean().round(2)"
      ],
      "metadata": {
        "colab": {
          "base_uri": "https://localhost:8080/"
        },
        "id": "Cn5OVo8eQKn7",
        "outputId": "c08690c0-8afa-4c19-bc23-d69f7a115829"
      },
      "execution_count": null,
      "outputs": [
        {
          "output_type": "execute_result",
          "data": {
            "text/plain": [
              "0.78"
            ]
          },
          "metadata": {},
          "execution_count": 168
        }
      ]
    },
    {
      "cell_type": "code",
      "source": [
        "# NearestCentroid doesn't have hyperparameters to tune\n",
        "best_params_nc = {}  # There are no hyperparameters\n",
        "best_score_nc = cross_val_score(nc_clf, X_train_prep, y_train, cv=3, scoring=\"accuracy\").mean()"
      ],
      "metadata": {
        "id": "K8yA6bE9jozI"
      },
      "execution_count": null,
      "outputs": []
    },
    {
      "cell_type": "code",
      "source": [
        "from sklearn.gaussian_process import GaussianProcessClassifier\n",
        "# GaussianProcessClassifier(kernel=None, *, optimizer='fmin_l_bfgs_b', n_restarts_optimizer=0, max_iter_predict=100, warm_start=False, copy_X_train=True, random_state=None, multi_class='one_vs_rest', n_jobs=None)\n",
        "gp_clf = GaussianProcessClassifier(random_state = 7)\n",
        "gp_clf.fit(X_train_prep, y_train)\n",
        "# gp_clf.score(X_train_prep, y_train).round(2)\n",
        "cross_val_score(gp_clf, X_train_prep, y_train, cv=3, scoring=\"accuracy\").mean().round(2)"
      ],
      "metadata": {
        "colab": {
          "base_uri": "https://localhost:8080/"
        },
        "id": "mghR6ZMDQyTK",
        "outputId": "263ce0ec-1e85-4f12-8a5e-4a4ade886b82"
      },
      "execution_count": null,
      "outputs": [
        {
          "output_type": "execute_result",
          "data": {
            "text/plain": [
              "0.81"
            ]
          },
          "metadata": {},
          "execution_count": 170
        }
      ]
    },
    {
      "cell_type": "code",
      "source": [
        "# GaussianProcessClassifier has complex hyperparameters, consult documentation for tuning\n",
        "\n",
        "# Create GridSearchCV instance\n",
        "# It's important to specify the appropriate parameter ranges for GaussianProcessClassifier\n",
        "\n",
        "# Fit GridSearchCV to data\n",
        "\n",
        "# Get best parameters and best score\n",
        "# GaussianProcessClassifier hyperparameter tuning is more involved and requires custom handling\n",
        "# Please refer to the documentation and resources on how to properly tune this classifier"
      ],
      "metadata": {
        "id": "O9LFp8aKjvXO"
      },
      "execution_count": null,
      "outputs": []
    },
    {
      "cell_type": "code",
      "source": [
        "from sklearn.tree import DecisionTreeClassifier\n",
        "# DecisionTreeClassifier(*, criterion='gini', splitter='best', max_depth=None, min_samples_split=2, min_samples_leaf=1, min_weight_fraction_leaf=0.0, max_features=None, random_state=None, max_leaf_nodes=None, min_impurity_decrease=0.0, class_weight=None, ccp_alpha=0.0\n",
        "dt_clf = DecisionTreeClassifier(random_state=7)\n",
        "dt_clf.fit(X_train_prep, y_train)\n",
        "# dt_clf.score(X_train_prep, y_train).round(2) # beware overfitting and use cross-validation\n",
        "cross_val_score(dt_clf, X_train_prep, y_train, cv=10).mean().round(2)"
      ],
      "metadata": {
        "colab": {
          "base_uri": "https://localhost:8080/"
        },
        "id": "87WuXe9BROnH",
        "outputId": "46412a2f-5cbe-4317-8c29-2b26b059ff07"
      },
      "execution_count": null,
      "outputs": [
        {
          "output_type": "execute_result",
          "data": {
            "text/plain": [
              "0.76"
            ]
          },
          "metadata": {},
          "execution_count": 172
        }
      ]
    },
    {
      "cell_type": "code",
      "source": [
        "param_grid_dt = {\n",
        "    'max_depth': [None, 10, 20],\n",
        "    'min_samples_split': [2, 5, 10]\n",
        "}\n",
        "grid_search_dt = GridSearchCV(dt_clf, param_grid=param_grid_dt, scoring='accuracy', cv=3)\n",
        "grid_search_dt.fit(X_train_prep, y_train)\n",
        "best_params_dt = grid_search_dt.best_params_\n",
        "best_score_dt = grid_search_dt.best_score_"
      ],
      "metadata": {
        "id": "vP_ksC2bjyX6"
      },
      "execution_count": null,
      "outputs": []
    },
    {
      "cell_type": "code",
      "source": [
        "from sklearn.ensemble import RandomForestClassifier\n",
        "# RandomForestClassifier(n_estimators=100, *, criterion='gini', max_depth=None, min_samples_split=2, min_samples_leaf=1, min_weight_fraction_leaf=0.0, max_features='sqrt', max_leaf_nodes=None, min_impurity_decrease=0.0, bootstrap=True, oob_score=False, n_jobs=None, random_state=None, verbose=0, warm_start=False, class_weight=None, ccp_alpha=0.0, max_samples=None)\n",
        "forest_clf = RandomForestClassifier(n_estimators=100, random_state=7)\n",
        "forest_clf.fit(X_train_prep, y_train)\n",
        "# forest_clf.score(X_train_prep, y_train).round(2) # beware overfitting and use cross-validation\n",
        "cross_val_score(forest_clf, X_train_prep, y_train, cv=10).mean().round(2)"
      ],
      "metadata": {
        "colab": {
          "base_uri": "https://localhost:8080/"
        },
        "id": "F9CuoGuZSwuV",
        "outputId": "2fed8329-2573-4a6d-ae7d-d6f2a4d6bb90"
      },
      "execution_count": null,
      "outputs": [
        {
          "output_type": "execute_result",
          "data": {
            "text/plain": [
              "0.8"
            ]
          },
          "metadata": {},
          "execution_count": 174
        }
      ]
    },
    {
      "cell_type": "code",
      "source": [
        "param_grid_forest = {\n",
        "    'n_estimators': [50, 100, 200],\n",
        "    'max_depth': [None, 10, 20],\n",
        "    'min_samples_split': [2, 5, 10]\n",
        "}\n",
        "grid_search_forest = GridSearchCV(forest_clf, param_grid=param_grid_forest, scoring='accuracy', cv=3)\n",
        "grid_search_forest.fit(X_train_prep, y_train)\n",
        "best_params_forest = grid_search_forest.best_params_\n",
        "best_score_forest = grid_search_forest.best_score_"
      ],
      "metadata": {
        "id": "n0sjxze_Tgue"
      },
      "execution_count": null,
      "outputs": []
    },
    {
      "cell_type": "code",
      "source": [
        "import pandas as pd\n",
        "\n",
        "# Create a list of dictionaries containing classifier name, best parameters, and best score\n",
        "clf_data = [\n",
        "    {\"name\": \"Ridge\", \"best_params\": best_params_ridge, \"best_score\": best_score_ridge},\n",
        "    {\"name\": \"SVC\", \"best_params\": best_params_svc, \"best_score\": best_score_svc},\n",
        "    {\"name\": \"LinearSVC\", \"best_params\": best_params_linsvc, \"best_score\": best_score_linsvc},\n",
        "    {\"name\": \"SGDClassifier\", \"best_params\": best_params_sgd, \"best_score\": best_score_sgd},\n",
        "    {\"name\": \"KNeighborsClassifier\", \"best_params\": best_params_kn, \"best_score\": best_score_kn},\n",
        "    {\"name\": \"NearestCentroid\", \"best_params\": best_params_nc, \"best_score\": best_score_nc},\n",
        "    # GaussianProcessClassifier requires special handling\n",
        "    {\"name\": \"DecisionTreeClassifier\", \"best_params\": best_params_dt, \"best_score\": best_score_dt},\n",
        "    {\"name\": \"RandomForestClassifier\", \"best_params\": best_params_forest, \"best_score\": best_score_forest}\n",
        "]\n",
        "\n",
        "# Create a DataFrame from the list of dictionaries\n",
        "clf_df = pd.DataFrame(clf_data)\n",
        "clf_df = clf_df.sort_values(by = 'best_score', ascending = False)\n",
        "clf_df"
      ],
      "metadata": {
        "id": "ytmRcfqqTgsE",
        "colab": {
          "base_uri": "https://localhost:8080/",
          "height": 300
        },
        "outputId": "27f8f914-1ffb-4b40-e89c-c94a026a0cae"
      },
      "execution_count": null,
      "outputs": [
        {
          "output_type": "execute_result",
          "data": {
            "text/plain": [
              "                     name                                        best_params  \\\n",
              "7  RandomForestClassifier  {'max_depth': 10, 'min_samples_split': 10, 'n_...   \n",
              "1                     SVC        {'C': 1, 'gamma': 'scale', 'kernel': 'rbf'}   \n",
              "3           SGDClassifier    {'alpha': 0.01, 'loss': 'log', 'penalty': 'l2'}   \n",
              "4    KNeighborsClassifier            {'algorithm': 'auto', 'n_neighbors': 5}   \n",
              "2               LinearSVC                                         {'C': 0.1}   \n",
              "0                   Ridge  {'alphas': (0.01, 0.1, 1.0), 'fit_intercept': ...   \n",
              "6  DecisionTreeClassifier       {'max_depth': None, 'min_samples_split': 10}   \n",
              "5         NearestCentroid                                                 {}   \n",
              "\n",
              "   best_score  \n",
              "7    0.828665  \n",
              "1    0.825858  \n",
              "3    0.810404  \n",
              "4    0.797770  \n",
              "2    0.797764  \n",
              "0    0.792162  \n",
              "6    0.785123  \n",
              "5    0.775272  "
            ],
            "text/html": [
              "\n",
              "\n",
              "  <div id=\"df-a98983b2-c212-44ca-8bea-59217584a418\">\n",
              "    <div class=\"colab-df-container\">\n",
              "      <div>\n",
              "<style scoped>\n",
              "    .dataframe tbody tr th:only-of-type {\n",
              "        vertical-align: middle;\n",
              "    }\n",
              "\n",
              "    .dataframe tbody tr th {\n",
              "        vertical-align: top;\n",
              "    }\n",
              "\n",
              "    .dataframe thead th {\n",
              "        text-align: right;\n",
              "    }\n",
              "</style>\n",
              "<table border=\"1\" class=\"dataframe\">\n",
              "  <thead>\n",
              "    <tr style=\"text-align: right;\">\n",
              "      <th></th>\n",
              "      <th>name</th>\n",
              "      <th>best_params</th>\n",
              "      <th>best_score</th>\n",
              "    </tr>\n",
              "  </thead>\n",
              "  <tbody>\n",
              "    <tr>\n",
              "      <th>7</th>\n",
              "      <td>RandomForestClassifier</td>\n",
              "      <td>{'max_depth': 10, 'min_samples_split': 10, 'n_...</td>\n",
              "      <td>0.828665</td>\n",
              "    </tr>\n",
              "    <tr>\n",
              "      <th>1</th>\n",
              "      <td>SVC</td>\n",
              "      <td>{'C': 1, 'gamma': 'scale', 'kernel': 'rbf'}</td>\n",
              "      <td>0.825858</td>\n",
              "    </tr>\n",
              "    <tr>\n",
              "      <th>3</th>\n",
              "      <td>SGDClassifier</td>\n",
              "      <td>{'alpha': 0.01, 'loss': 'log', 'penalty': 'l2'}</td>\n",
              "      <td>0.810404</td>\n",
              "    </tr>\n",
              "    <tr>\n",
              "      <th>4</th>\n",
              "      <td>KNeighborsClassifier</td>\n",
              "      <td>{'algorithm': 'auto', 'n_neighbors': 5}</td>\n",
              "      <td>0.797770</td>\n",
              "    </tr>\n",
              "    <tr>\n",
              "      <th>2</th>\n",
              "      <td>LinearSVC</td>\n",
              "      <td>{'C': 0.1}</td>\n",
              "      <td>0.797764</td>\n",
              "    </tr>\n",
              "    <tr>\n",
              "      <th>0</th>\n",
              "      <td>Ridge</td>\n",
              "      <td>{'alphas': (0.01, 0.1, 1.0), 'fit_intercept': ...</td>\n",
              "      <td>0.792162</td>\n",
              "    </tr>\n",
              "    <tr>\n",
              "      <th>6</th>\n",
              "      <td>DecisionTreeClassifier</td>\n",
              "      <td>{'max_depth': None, 'min_samples_split': 10}</td>\n",
              "      <td>0.785123</td>\n",
              "    </tr>\n",
              "    <tr>\n",
              "      <th>5</th>\n",
              "      <td>NearestCentroid</td>\n",
              "      <td>{}</td>\n",
              "      <td>0.775272</td>\n",
              "    </tr>\n",
              "  </tbody>\n",
              "</table>\n",
              "</div>\n",
              "      <button class=\"colab-df-convert\" onclick=\"convertToInteractive('df-a98983b2-c212-44ca-8bea-59217584a418')\"\n",
              "              title=\"Convert this dataframe to an interactive table.\"\n",
              "              style=\"display:none;\">\n",
              "\n",
              "  <svg xmlns=\"http://www.w3.org/2000/svg\" height=\"24px\"viewBox=\"0 0 24 24\"\n",
              "       width=\"24px\">\n",
              "    <path d=\"M0 0h24v24H0V0z\" fill=\"none\"/>\n",
              "    <path d=\"M18.56 5.44l.94 2.06.94-2.06 2.06-.94-2.06-.94-.94-2.06-.94 2.06-2.06.94zm-11 1L8.5 8.5l.94-2.06 2.06-.94-2.06-.94L8.5 2.5l-.94 2.06-2.06.94zm10 10l.94 2.06.94-2.06 2.06-.94-2.06-.94-.94-2.06-.94 2.06-2.06.94z\"/><path d=\"M17.41 7.96l-1.37-1.37c-.4-.4-.92-.59-1.43-.59-.52 0-1.04.2-1.43.59L10.3 9.45l-7.72 7.72c-.78.78-.78 2.05 0 2.83L4 21.41c.39.39.9.59 1.41.59.51 0 1.02-.2 1.41-.59l7.78-7.78 2.81-2.81c.8-.78.8-2.07 0-2.86zM5.41 20L4 18.59l7.72-7.72 1.47 1.35L5.41 20z\"/>\n",
              "  </svg>\n",
              "      </button>\n",
              "\n",
              "\n",
              "\n",
              "    <div id=\"df-1098f036-8496-4d04-8643-b894e1f514eb\">\n",
              "      <button class=\"colab-df-quickchart\" onclick=\"quickchart('df-1098f036-8496-4d04-8643-b894e1f514eb')\"\n",
              "              title=\"Suggest charts.\"\n",
              "              style=\"display:none;\">\n",
              "\n",
              "<svg xmlns=\"http://www.w3.org/2000/svg\" height=\"24px\"viewBox=\"0 0 24 24\"\n",
              "     width=\"24px\">\n",
              "    <g>\n",
              "        <path d=\"M19 3H5c-1.1 0-2 .9-2 2v14c0 1.1.9 2 2 2h14c1.1 0 2-.9 2-2V5c0-1.1-.9-2-2-2zM9 17H7v-7h2v7zm4 0h-2V7h2v10zm4 0h-2v-4h2v4z\"/>\n",
              "    </g>\n",
              "</svg>\n",
              "      </button>\n",
              "    </div>\n",
              "\n",
              "<style>\n",
              "  .colab-df-quickchart {\n",
              "    background-color: #E8F0FE;\n",
              "    border: none;\n",
              "    border-radius: 50%;\n",
              "    cursor: pointer;\n",
              "    display: none;\n",
              "    fill: #1967D2;\n",
              "    height: 32px;\n",
              "    padding: 0 0 0 0;\n",
              "    width: 32px;\n",
              "  }\n",
              "\n",
              "  .colab-df-quickchart:hover {\n",
              "    background-color: #E2EBFA;\n",
              "    box-shadow: 0px 1px 2px rgba(60, 64, 67, 0.3), 0px 1px 3px 1px rgba(60, 64, 67, 0.15);\n",
              "    fill: #174EA6;\n",
              "  }\n",
              "\n",
              "  [theme=dark] .colab-df-quickchart {\n",
              "    background-color: #3B4455;\n",
              "    fill: #D2E3FC;\n",
              "  }\n",
              "\n",
              "  [theme=dark] .colab-df-quickchart:hover {\n",
              "    background-color: #434B5C;\n",
              "    box-shadow: 0px 1px 3px 1px rgba(0, 0, 0, 0.15);\n",
              "    filter: drop-shadow(0px 1px 2px rgba(0, 0, 0, 0.3));\n",
              "    fill: #FFFFFF;\n",
              "  }\n",
              "</style>\n",
              "\n",
              "    <script>\n",
              "      async function quickchart(key) {\n",
              "        const containerElement = document.querySelector('#' + key);\n",
              "        const charts = await google.colab.kernel.invokeFunction(\n",
              "            'suggestCharts', [key], {});\n",
              "      }\n",
              "    </script>\n",
              "\n",
              "      <script>\n",
              "\n",
              "function displayQuickchartButton(domScope) {\n",
              "  let quickchartButtonEl =\n",
              "    domScope.querySelector('#df-1098f036-8496-4d04-8643-b894e1f514eb button.colab-df-quickchart');\n",
              "  quickchartButtonEl.style.display =\n",
              "    google.colab.kernel.accessAllowed ? 'block' : 'none';\n",
              "}\n",
              "\n",
              "        displayQuickchartButton(document);\n",
              "      </script>\n",
              "      <style>\n",
              "    .colab-df-container {\n",
              "      display:flex;\n",
              "      flex-wrap:wrap;\n",
              "      gap: 12px;\n",
              "    }\n",
              "\n",
              "    .colab-df-convert {\n",
              "      background-color: #E8F0FE;\n",
              "      border: none;\n",
              "      border-radius: 50%;\n",
              "      cursor: pointer;\n",
              "      display: none;\n",
              "      fill: #1967D2;\n",
              "      height: 32px;\n",
              "      padding: 0 0 0 0;\n",
              "      width: 32px;\n",
              "    }\n",
              "\n",
              "    .colab-df-convert:hover {\n",
              "      background-color: #E2EBFA;\n",
              "      box-shadow: 0px 1px 2px rgba(60, 64, 67, 0.3), 0px 1px 3px 1px rgba(60, 64, 67, 0.15);\n",
              "      fill: #174EA6;\n",
              "    }\n",
              "\n",
              "    [theme=dark] .colab-df-convert {\n",
              "      background-color: #3B4455;\n",
              "      fill: #D2E3FC;\n",
              "    }\n",
              "\n",
              "    [theme=dark] .colab-df-convert:hover {\n",
              "      background-color: #434B5C;\n",
              "      box-shadow: 0px 1px 3px 1px rgba(0, 0, 0, 0.15);\n",
              "      filter: drop-shadow(0px 1px 2px rgba(0, 0, 0, 0.3));\n",
              "      fill: #FFFFFF;\n",
              "    }\n",
              "  </style>\n",
              "\n",
              "      <script>\n",
              "        const buttonEl =\n",
              "          document.querySelector('#df-a98983b2-c212-44ca-8bea-59217584a418 button.colab-df-convert');\n",
              "        buttonEl.style.display =\n",
              "          google.colab.kernel.accessAllowed ? 'block' : 'none';\n",
              "\n",
              "        async function convertToInteractive(key) {\n",
              "          const element = document.querySelector('#df-a98983b2-c212-44ca-8bea-59217584a418');\n",
              "          const dataTable =\n",
              "            await google.colab.kernel.invokeFunction('convertToInteractive',\n",
              "                                                     [key], {});\n",
              "          if (!dataTable) return;\n",
              "\n",
              "          const docLinkHtml = 'Like what you see? Visit the ' +\n",
              "            '<a target=\"_blank\" href=https://colab.research.google.com/notebooks/data_table.ipynb>data table notebook</a>'\n",
              "            + ' to learn more about interactive tables.';\n",
              "          element.innerHTML = '';\n",
              "          dataTable['output_type'] = 'display_data';\n",
              "          await google.colab.output.renderOutput(dataTable, element);\n",
              "          const docLink = document.createElement('div');\n",
              "          docLink.innerHTML = docLinkHtml;\n",
              "          element.appendChild(docLink);\n",
              "        }\n",
              "      </script>\n",
              "    </div>\n",
              "  </div>\n"
            ]
          },
          "metadata": {},
          "execution_count": 176
        }
      ]
    },
    {
      "cell_type": "markdown",
      "source": [
        "menjünk tovább SVC és RandomForestClassifier-ekkel"
      ],
      "metadata": {
        "id": "gTrp5r8TTgpo"
      }
    },
    {
      "cell_type": "code",
      "source": [
        "# legjobb parameterekkel lefuttatjuk azokat ujra és a cv_score-oknak kell egy boxplot"
      ],
      "metadata": {
        "id": "fpohM-bDxA48"
      },
      "execution_count": null,
      "outputs": []
    },
    {
      "cell_type": "code",
      "source": [
        "best_params_svc"
      ],
      "metadata": {
        "colab": {
          "base_uri": "https://localhost:8080/"
        },
        "id": "3s4ok9EG274A",
        "outputId": "94c63edd-5ea3-46b8-8ce0-bf9224112aca"
      },
      "execution_count": null,
      "outputs": [
        {
          "output_type": "execute_result",
          "data": {
            "text/plain": [
              "{'C': 1, 'gamma': 'scale', 'kernel': 'rbf'}"
            ]
          },
          "metadata": {},
          "execution_count": 178
        }
      ]
    },
    {
      "cell_type": "code",
      "source": [
        "svc_clf = SVC(C = 1, gamma = 'scale', kernel = 'rbf', random_state=7)\n",
        "svc_clf.fit(X_train_prep, y_train)\n",
        "svc_scores = cross_val_score(svc_clf, X_train_prep, y_train, cv=10, scoring=\"accuracy\")"
      ],
      "metadata": {
        "id": "Lk3bcyixxKSQ"
      },
      "execution_count": null,
      "outputs": []
    },
    {
      "cell_type": "code",
      "source": [
        "best_params_forest"
      ],
      "metadata": {
        "colab": {
          "base_uri": "https://localhost:8080/"
        },
        "id": "OLngURXn3tRi",
        "outputId": "c80cc1a1-d7f1-4de3-e37c-b3721ac01fad"
      },
      "execution_count": null,
      "outputs": [
        {
          "output_type": "execute_result",
          "data": {
            "text/plain": [
              "{'max_depth': 10, 'min_samples_split': 10, 'n_estimators': 100}"
            ]
          },
          "metadata": {},
          "execution_count": 180
        }
      ]
    },
    {
      "cell_type": "code",
      "source": [
        "forest_clf = RandomForestClassifier(n_estimators=200, max_depth = 20, min_samples_split=10, random_state=7)\n",
        "forest_clf.fit(X_train_prep, y_train)\n",
        "forest_scores = cross_val_score(forest_clf, X_train_prep, y_train, cv=10, scoring=\"accuracy\")"
      ],
      "metadata": {
        "id": "PUB3w7FK3tH8"
      },
      "execution_count": null,
      "outputs": []
    },
    {
      "cell_type": "code",
      "source": [
        "import matplotlib.pyplot as plt\n",
        "\n",
        "plt.boxplot([svc_scores, forest_scores], showfliers = True, labels = ['svc_scores','forest_scores'])\n",
        "plt.plot([1]*10, svc_scores, \".\")\n",
        "plt.plot([2]*10, forest_scores, \".\")\n",
        "plt.show()"
      ],
      "metadata": {
        "colab": {
          "base_uri": "https://localhost:8080/",
          "height": 430
        },
        "id": "LV1x4uoP4SlA",
        "outputId": "cf5f0a02-3c3b-4968-faa7-fedd80c770f2"
      },
      "execution_count": null,
      "outputs": [
        {
          "output_type": "display_data",
          "data": {
            "text/plain": [
              "<Figure size 640x480 with 1 Axes>"
            ],
            "image/png": "[encoded data removed]"
          },
          "metadata": {}
        }
      ]
    },
    {
      "cell_type": "markdown",
      "source": [
        "Feature engineering"
      ],
      "metadata": {
        "id": "sjSWCWcvsVvq"
      }
    },
    {
      "cell_type": "code",
      "source": [
        "# relatives\n",
        "X_train['Relatives'] = X_train['SibSp'] + X_train['Parch']"
      ],
      "metadata": {
        "id": "YlAUgwuyTgnI"
      },
      "execution_count": null,
      "outputs": []
    },
    {
      "cell_type": "code",
      "source": [
        "plt.hist(X_train.Age)\n",
        "plt.show()"
      ],
      "metadata": {
        "colab": {
          "base_uri": "https://localhost:8080/",
          "height": 430
        },
        "id": "hlKZE8xHuDNA",
        "outputId": "5bf72c7b-7d45-4bf3-f720-1cae42beacf8"
      },
      "execution_count": null,
      "outputs": [
        {
          "output_type": "display_data",
          "data": {
            "text/plain": [
              "<Figure size 640x480 with 1 Axes>"
            ],
            "image/png": "[encoded data removed]"
          },
          "metadata": {}
        }
      ]
    },
    {
      "cell_type": "code",
      "source": [
        "# age binning\n",
        "X_train['Age Cat'] = pd.cut(X_train['Age'],\n",
        "                                 bins=[0., 20, 40, 60, 80],\n",
        "                                 labels=['to20', 'to40', 'to60', 'to80'])\n",
        "\n",
        "# Ezt KBinsDiscretizer-rel fogjuk megoldani a pipeline-ban"
      ],
      "metadata": {
        "id": "EKYUimDFTgko"
      },
      "execution_count": null,
      "outputs": []
    },
    {
      "cell_type": "markdown",
      "source": [
        "most rakjuk össze az elejétől"
      ],
      "metadata": {
        "id": "ssXXjMsAbP8U"
      }
    },
    {
      "cell_type": "code",
      "source": [
        "from pathlib import Path\n",
        "import pandas as pd\n",
        "import tarfile\n",
        "import urllib.request\n",
        "\n",
        "def load_titanic_data():\n",
        "    tarball_path = Path(\"datasets/titanic.tgz\")\n",
        "    if not tarball_path.is_file():\n",
        "        Path(\"datasets\").mkdir(parents=True, exist_ok=True)\n",
        "        url = \"https://github.com/ageron/data/raw/main/titanic.tgz\"\n",
        "        urllib.request.urlretrieve(url, tarball_path)\n",
        "        with tarfile.open(tarball_path) as titanic_tarball:\n",
        "            titanic_tarball.extractall(path=\"datasets\")\n",
        "    return [pd.read_csv(Path(\"datasets/titanic\") / filename)\n",
        "            for filename in (\"train.csv\", \"test.csv\")]\n",
        "\n",
        "from sklearn.model_selection import train_test_split\n",
        "from sklearn.pipeline import Pipeline\n",
        "from sklearn import set_config\n",
        "set_config(display='diagram')\n",
        "from sklearn.preprocessing import StandardScaler\n",
        "from sklearn.impute import SimpleImputer\n",
        "from sklearn.preprocessing import OneHotEncoder\n",
        "from sklearn.compose import ColumnTransformer\n",
        "from sklearn.ensemble import RandomForestClassifier\n",
        "from sklearn.model_selection import cross_val_score\n",
        "from sklearn.svm import SVC\n",
        "import matplotlib.pyplot as plt"
      ],
      "metadata": {
        "id": "tfMvDWJufOCA"
      },
      "execution_count": null,
      "outputs": []
    },
    {
      "cell_type": "code",
      "source": [
        "train_data, test_data = load_titanic_data()\n",
        "\n",
        "# separate X and y from the original train set\n",
        "X = train_data.copy()\n",
        "y = train_data['Survived']\n",
        "X = X.drop('Survived', axis = 1)\n",
        "\n",
        "X = X.drop(['PassengerId', 'Name', 'Ticket', 'Cabin'], axis = 1)\n",
        "\n",
        "X_train, X_test, y_train, y_test = train_test_split(X, y, test_size=0.2, random_state=42)\n",
        "\n",
        "X_train.head()"
      ],
      "metadata": {
        "id": "i8oQdllasQmX",
        "colab": {
          "base_uri": "https://localhost:8080/",
          "height": 206
        },
        "outputId": "1b9a4056-90ab-4a6d-bc80-f7728c691809"
      },
      "execution_count": null,
      "outputs": [
        {
          "output_type": "execute_result",
          "data": {
            "text/plain": [
              "     Pclass     Sex   Age  SibSp  Parch     Fare Embarked\n",
              "331       1    male  45.5      0      0  28.5000        S\n",
              "733       2    male  23.0      0      0  13.0000        S\n",
              "382       3    male  32.0      0      0   7.9250        S\n",
              "704       3    male  26.0      1      0   7.8542        S\n",
              "813       3  female   6.0      4      2  31.2750        S"
            ],
            "text/html": [
              "\n",
              "\n",
              "  <div id=\"df-92a123ae-c2e1-4c27-a02e-b655851a0ef6\">\n",
              "    <div class=\"colab-df-container\">\n",
              "      <div>\n",
              "<style scoped>\n",
              "    .dataframe tbody tr th:only-of-type {\n",
              "        vertical-align: middle;\n",
              "    }\n",
              "\n",
              "    .dataframe tbody tr th {\n",
              "        vertical-align: top;\n",
              "    }\n",
              "\n",
              "    .dataframe thead th {\n",
              "        text-align: right;\n",
              "    }\n",
              "</style>\n",
              "<table border=\"1\" class=\"dataframe\">\n",
              "  <thead>\n",
              "    <tr style=\"text-align: right;\">\n",
              "      <th></th>\n",
              "      <th>Pclass</th>\n",
              "      <th>Sex</th>\n",
              "      <th>Age</th>\n",
              "      <th>SibSp</th>\n",
              "      <th>Parch</th>\n",
              "      <th>Fare</th>\n",
              "      <th>Embarked</th>\n",
              "    </tr>\n",
              "  </thead>\n",
              "  <tbody>\n",
              "    <tr>\n",
              "      <th>331</th>\n",
              "      <td>1</td>\n",
              "      <td>male</td>\n",
              "      <td>45.5</td>\n",
              "      <td>0</td>\n",
              "      <td>0</td>\n",
              "      <td>28.5000</td>\n",
              "      <td>S</td>\n",
              "    </tr>\n",
              "    <tr>\n",
              "      <th>733</th>\n",
              "      <td>2</td>\n",
              "      <td>male</td>\n",
              "      <td>23.0</td>\n",
              "      <td>0</td>\n",
              "      <td>0</td>\n",
              "      <td>13.0000</td>\n",
              "      <td>S</td>\n",
              "    </tr>\n",
              "    <tr>\n",
              "      <th>382</th>\n",
              "      <td>3</td>\n",
              "      <td>male</td>\n",
              "      <td>32.0</td>\n",
              "      <td>0</td>\n",
              "      <td>0</td>\n",
              "      <td>7.9250</td>\n",
              "      <td>S</td>\n",
              "    </tr>\n",
              "    <tr>\n",
              "      <th>704</th>\n",
              "      <td>3</td>\n",
              "      <td>male</td>\n",
              "      <td>26.0</td>\n",
              "      <td>1</td>\n",
              "      <td>0</td>\n",
              "      <td>7.8542</td>\n",
              "      <td>S</td>\n",
              "    </tr>\n",
              "    <tr>\n",
              "      <th>813</th>\n",
              "      <td>3</td>\n",
              "      <td>female</td>\n",
              "      <td>6.0</td>\n",
              "      <td>4</td>\n",
              "      <td>2</td>\n",
              "      <td>31.2750</td>\n",
              "      <td>S</td>\n",
              "    </tr>\n",
              "  </tbody>\n",
              "</table>\n",
              "</div>\n",
              "      <button class=\"colab-df-convert\" onclick=\"convertToInteractive('df-92a123ae-c2e1-4c27-a02e-b655851a0ef6')\"\n",
              "              title=\"Convert this dataframe to an interactive table.\"\n",
              "              style=\"display:none;\">\n",
              "\n",
              "  <svg xmlns=\"http://www.w3.org/2000/svg\" height=\"24px\"viewBox=\"0 0 24 24\"\n",
              "       width=\"24px\">\n",
              "    <path d=\"M0 0h24v24H0V0z\" fill=\"none\"/>\n",
              "    <path d=\"M18.56 5.44l.94 2.06.94-2.06 2.06-.94-2.06-.94-.94-2.06-.94 2.06-2.06.94zm-11 1L8.5 8.5l.94-2.06 2.06-.94-2.06-.94L8.5 2.5l-.94 2.06-2.06.94zm10 10l.94 2.06.94-2.06 2.06-.94-2.06-.94-.94-2.06-.94 2.06-2.06.94z\"/><path d=\"M17.41 7.96l-1.37-1.37c-.4-.4-.92-.59-1.43-.59-.52 0-1.04.2-1.43.59L10.3 9.45l-7.72 7.72c-.78.78-.78 2.05 0 2.83L4 21.41c.39.39.9.59 1.41.59.51 0 1.02-.2 1.41-.59l7.78-7.78 2.81-2.81c.8-.78.8-2.07 0-2.86zM5.41 20L4 18.59l7.72-7.72 1.47 1.35L5.41 20z\"/>\n",
              "  </svg>\n",
              "      </button>\n",
              "\n",
              "\n",
              "\n",
              "    <div id=\"df-cd4e6b38-230d-4b1d-9df7-12afaa13c6cc\">\n",
              "      <button class=\"colab-df-quickchart\" onclick=\"quickchart('df-cd4e6b38-230d-4b1d-9df7-12afaa13c6cc')\"\n",
              "              title=\"Suggest charts.\"\n",
              "              style=\"display:none;\">\n",
              "\n",
              "<svg xmlns=\"http://www.w3.org/2000/svg\" height=\"24px\"viewBox=\"0 0 24 24\"\n",
              "     width=\"24px\">\n",
              "    <g>\n",
              "        <path d=\"M19 3H5c-1.1 0-2 .9-2 2v14c0 1.1.9 2 2 2h14c1.1 0 2-.9 2-2V5c0-1.1-.9-2-2-2zM9 17H7v-7h2v7zm4 0h-2V7h2v10zm4 0h-2v-4h2v4z\"/>\n",
              "    </g>\n",
              "</svg>\n",
              "      </button>\n",
              "    </div>\n",
              "\n",
              "<style>\n",
              "  .colab-df-quickchart {\n",
              "    background-color: #E8F0FE;\n",
              "    border: none;\n",
              "    border-radius: 50%;\n",
              "    cursor: pointer;\n",
              "    display: none;\n",
              "    fill: #1967D2;\n",
              "    height: 32px;\n",
              "    padding: 0 0 0 0;\n",
              "    width: 32px;\n",
              "  }\n",
              "\n",
              "  .colab-df-quickchart:hover {\n",
              "    background-color: #E2EBFA;\n",
              "    box-shadow: 0px 1px 2px rgba(60, 64, 67, 0.3), 0px 1px 3px 1px rgba(60, 64, 67, 0.15);\n",
              "    fill: #174EA6;\n",
              "  }\n",
              "\n",
              "  [theme=dark] .colab-df-quickchart {\n",
              "    background-color: #3B4455;\n",
              "    fill: #D2E3FC;\n",
              "  }\n",
              "\n",
              "  [theme=dark] .colab-df-quickchart:hover {\n",
              "    background-color: #434B5C;\n",
              "    box-shadow: 0px 1px 3px 1px rgba(0, 0, 0, 0.15);\n",
              "    filter: drop-shadow(0px 1px 2px rgba(0, 0, 0, 0.3));\n",
              "    fill: #FFFFFF;\n",
              "  }\n",
              "</style>\n",
              "\n",
              "    <script>\n",
              "      async function quickchart(key) {\n",
              "        const containerElement = document.querySelector('#' + key);\n",
              "        const charts = await google.colab.kernel.invokeFunction(\n",
              "            'suggestCharts', [key], {});\n",
              "      }\n",
              "    </script>\n",
              "\n",
              "      <script>\n",
              "\n",
              "function displayQuickchartButton(domScope) {\n",
              "  let quickchartButtonEl =\n",
              "    domScope.querySelector('#df-cd4e6b38-230d-4b1d-9df7-12afaa13c6cc button.colab-df-quickchart');\n",
              "  quickchartButtonEl.style.display =\n",
              "    google.colab.kernel.accessAllowed ? 'block' : 'none';\n",
              "}\n",
              "\n",
              "        displayQuickchartButton(document);\n",
              "      </script>\n",
              "      <style>\n",
              "    .colab-df-container {\n",
              "      display:flex;\n",
              "      flex-wrap:wrap;\n",
              "      gap: 12px;\n",
              "    }\n",
              "\n",
              "    .colab-df-convert {\n",
              "      background-color: #E8F0FE;\n",
              "      border: none;\n",
              "      border-radius: 50%;\n",
              "      cursor: pointer;\n",
              "      display: none;\n",
              "      fill: #1967D2;\n",
              "      height: 32px;\n",
              "      padding: 0 0 0 0;\n",
              "      width: 32px;\n",
              "    }\n",
              "\n",
              "    .colab-df-convert:hover {\n",
              "      background-color: #E2EBFA;\n",
              "      box-shadow: 0px 1px 2px rgba(60, 64, 67, 0.3), 0px 1px 3px 1px rgba(60, 64, 67, 0.15);\n",
              "      fill: #174EA6;\n",
              "    }\n",
              "\n",
              "    [theme=dark] .colab-df-convert {\n",
              "      background-color: #3B4455;\n",
              "      fill: #D2E3FC;\n",
              "    }\n",
              "\n",
              "    [theme=dark] .colab-df-convert:hover {\n",
              "      background-color: #434B5C;\n",
              "      box-shadow: 0px 1px 3px 1px rgba(0, 0, 0, 0.15);\n",
              "      filter: drop-shadow(0px 1px 2px rgba(0, 0, 0, 0.3));\n",
              "      fill: #FFFFFF;\n",
              "    }\n",
              "  </style>\n",
              "\n",
              "      <script>\n",
              "        const buttonEl =\n",
              "          document.querySelector('#df-92a123ae-c2e1-4c27-a02e-b655851a0ef6 button.colab-df-convert');\n",
              "        buttonEl.style.display =\n",
              "          google.colab.kernel.accessAllowed ? 'block' : 'none';\n",
              "\n",
              "        async function convertToInteractive(key) {\n",
              "          const element = document.querySelector('#df-92a123ae-c2e1-4c27-a02e-b655851a0ef6');\n",
              "          const dataTable =\n",
              "            await google.colab.kernel.invokeFunction('convertToInteractive',\n",
              "                                                     [key], {});\n",
              "          if (!dataTable) return;\n",
              "\n",
              "          const docLinkHtml = 'Like what you see? Visit the ' +\n",
              "            '<a target=\"_blank\" href=https://colab.research.google.com/notebooks/data_table.ipynb>data table notebook</a>'\n",
              "            + ' to learn more about interactive tables.';\n",
              "          element.innerHTML = '';\n",
              "          dataTable['output_type'] = 'display_data';\n",
              "          await google.colab.output.renderOutput(dataTable, element);\n",
              "          const docLink = document.createElement('div');\n",
              "          docLink.innerHTML = docLinkHtml;\n",
              "          element.appendChild(docLink);\n",
              "        }\n",
              "      </script>\n",
              "    </div>\n",
              "  </div>\n"
            ]
          },
          "metadata": {},
          "execution_count": 187
        }
      ]
    },
    {
      "cell_type": "code",
      "source": [
        "from sklearn.preprocessing import FunctionTransformer\n",
        "\n",
        "def column_adder(X):\n",
        "    return X[:, [0]] + X[:, [1]]\n",
        "def column_adder_name(function_transformer, feature_names_in):\n",
        "    return [f\"{feature_names_in[0]}_{feature_names_in[1]}\"]\n",
        "def column_adder_pipeline():\n",
        "    return Pipeline([\n",
        "        ('imputer', SimpleImputer(strategy=\"median\")),\n",
        "        ('transformer', FunctionTransformer(column_adder, feature_names_out=column_adder_name)),\n",
        "        ('scaler', StandardScaler()),\n",
        "    ])"
      ],
      "metadata": {
        "id": "heQfi3oMcaIY"
      },
      "execution_count": null,
      "outputs": []
    },
    {
      "cell_type": "code",
      "source": [
        "from sklearn.preprocessing import OrdinalEncoder\n",
        "from sklearn.preprocessing import KBinsDiscretizer\n",
        "\n",
        "add_pipeline = Pipeline([\n",
        "    ('column_add',  column_adder_pipeline()),\n",
        "])\n",
        "\n",
        "age_bucketizing_pipeline = Pipeline([\n",
        "    ('imputer', SimpleImputer(strategy=\"median\")),\n",
        "    ('discretizer', KBinsDiscretizer(n_bins=4, encode='ordinal', strategy='uniform')),\n",
        "    ('scaler', StandardScaler()),\n",
        "])\n",
        "\n",
        "num_pipeline = Pipeline([\n",
        "    ('imputer', SimpleImputer(strategy = 'median')),\n",
        "    ('scaler',  StandardScaler())\n",
        "])\n",
        "\n",
        "cat_pipeline = Pipeline([\n",
        "    ('imputer', SimpleImputer(strategy = 'most_frequent')),\n",
        "    ('encoder', OneHotEncoder(sparse_output = False))\n",
        "])\n",
        "\n",
        "add_attribs = ['SibSp','Parch']\n",
        "age_attribs = ['Age']\n",
        "num_attribs = ['SibSp','Parch','Fare']\n",
        "cat_attribs = ['Pclass', 'Sex', 'Embarked']\n",
        "\n",
        "preprocessing = ColumnTransformer([\n",
        "    ('add', add_pipeline, add_attribs),\n",
        "    ('age', age_bucketizing_pipeline, age_attribs),\n",
        "    ('num', num_pipeline, num_attribs),\n",
        "    ('cat', cat_pipeline, cat_attribs),\n",
        "])\n",
        "\n",
        "X_train_prep = preprocessing.fit_transform(X_train)"
      ],
      "metadata": {
        "id": "SJzZ4is4sQj7"
      },
      "execution_count": null,
      "outputs": []
    },
    {
      "cell_type": "code",
      "source": [
        "# recover a dataframe:\n",
        "X_train_prep = pd.DataFrame(\n",
        "    X_train_prep,\n",
        "    columns=preprocessing.get_feature_names_out())\n",
        "\n",
        "X_train_prep.columns"
      ],
      "metadata": {
        "id": "k3qI3K-CsQhX",
        "colab": {
          "base_uri": "https://localhost:8080/"
        },
        "outputId": "acc05a33-8343-40ab-c98d-f3536cef67ca"
      },
      "execution_count": null,
      "outputs": [
        {
          "output_type": "execute_result",
          "data": {
            "text/plain": [
              "Index(['add__SibSp_Parch', 'age__Age', 'num__SibSp', 'num__Parch', 'num__Fare',\n",
              "       'cat__Pclass_1', 'cat__Pclass_2', 'cat__Pclass_3', 'cat__Sex_female',\n",
              "       'cat__Sex_male', 'cat__Embarked_C', 'cat__Embarked_Q',\n",
              "       'cat__Embarked_S'],\n",
              "      dtype='object')"
            ]
          },
          "metadata": {},
          "execution_count": 190
        }
      ]
    },
    {
      "cell_type": "code",
      "source": [
        "X_train_prep.hist()\n",
        "plt.tight_layout()\n",
        "plt.show()"
      ],
      "metadata": {
        "colab": {
          "base_uri": "https://localhost:8080/",
          "height": 487
        },
        "id": "codKjl6khy7R",
        "outputId": "b78c4bee-4cf7-459b-a3f9-b20591c812df"
      },
      "execution_count": null,
      "outputs": [
        {
          "output_type": "display_data",
          "data": {
            "text/plain": [
              "<Figure size 640x480 with 16 Axes>"
            ],
            "image/png": "[encoded data removed]"
          },
          "metadata": {}
        }
      ]
    },
    {
      "cell_type": "code",
      "source": [
        "svc_clf = SVC(C = 1, gamma = 'scale', kernel = 'rbf', random_state=7)\n",
        "forest_clf = RandomForestClassifier(n_estimators=200, max_depth = 20, min_samples_split=10, random_state=7)"
      ],
      "metadata": {
        "id": "sydm_5sNgN4p"
      },
      "execution_count": null,
      "outputs": []
    },
    {
      "cell_type": "code",
      "source": [
        "full_pipeline_svc = Pipeline([\n",
        "    ('preprocessing', preprocessing),\n",
        "    ('svc_clf_model', svc_clf)  # svc_clf = SVC(C = 1, gamma = 'scale', kernel = 'rbf', random_state=7)\n",
        "])\n",
        "\n",
        "full_pipeline_forest = Pipeline([\n",
        "    ('preprocessing', preprocessing),\n",
        "    ('forest_clf_model', forest_clf)  # forest_clf = RandomForestClassifier(n_estimators=200, max_depth = 20, min_samples_split=10, random_state=7)\n",
        "])"
      ],
      "metadata": {
        "id": "KO8ICfvOhy4i"
      },
      "execution_count": null,
      "outputs": []
    },
    {
      "cell_type": "code",
      "source": [
        "full_pipeline_svc"
      ],
      "metadata": {
        "colab": {
          "base_uri": "https://localhost:8080/",
          "height": 287
        },
        "id": "Hm63xMiFjVSq",
        "outputId": "77963622-2c15-4074-d5fd-89734f2f2f53"
      },
      "execution_count": null,
      "outputs": [
        {
          "output_type": "execute_result",
          "data": {
            "text/plain": [
              "Pipeline(steps=[('preprocessing',\n",
              "                 ColumnTransformer(transformers=[('add',\n",
              "                                                  Pipeline(steps=[('column_add',\n",
              "                                                                   Pipeline(steps=[('imputer',\n",
              "                                                                                    SimpleImputer(strategy='median')),\n",
              "                                                                                   ('transformer',\n",
              "                                                                                    FunctionTransformer(feature_names_out=<function column_adder_name at 0x7ab3b930ac20>,\n",
              "                                                                                                        func=<function column_adder at 0x7ab3b930ab90>)),\n",
              "                                                                                   ('scaler',\n",
              "                                                                                    StandardScaler())]))]),\n",
              "                                                  ['SibSp', 'P...\n",
              "                                                                   StandardScaler())]),\n",
              "                                                  ['Age']),\n",
              "                                                 ('num',\n",
              "                                                  Pipeline(steps=[('imputer',\n",
              "                                                                   SimpleImputer(strategy='median')),\n",
              "                                                                  ('scaler',\n",
              "                                                                   StandardScaler())]),\n",
              "                                                  ['SibSp', 'Parch', 'Fare']),\n",
              "                                                 ('cat',\n",
              "                                                  Pipeline(steps=[('imputer',\n",
              "                                                                   SimpleImputer(strategy='most_frequent')),\n",
              "                                                                  ('encoder',\n",
              "                                                                   OneHotEncoder(sparse_output=False))]),\n",
              "                                                  ['Pclass', 'Sex',\n",
              "                                                   'Embarked'])])),\n",
              "                ('svc_clf_model', SVC(C=1, random_state=7))])"
            ],
            "text/html": [
              "<style>#sk-container-id-22 {color: black;background-color: white;}#sk-container-id-22 pre{padding: 0;}#sk-container-id-22 div.sk-toggleable {background-color: white;}#sk-container-id-22 label.sk-toggleable__label {cursor: pointer;display: block;width: 100%;margin-bottom: 0;padding: 0.3em;box-sizing: border-box;text-align: center;}#sk-container-id-22 label.sk-toggleable__label-arrow:before {content: \"▸\";float: left;margin-right: 0.25em;color: #696969;}#sk-container-id-22 label.sk-toggleable__label-arrow:hover:before {color: black;}#sk-container-id-22 div.sk-estimator:hover label.sk-toggleable__label-arrow:before {color: black;}#sk-container-id-22 div.sk-toggleable__content {max-height: 0;max-width: 0;overflow: hidden;text-align: left;background-color: #f0f8ff;}#sk-container-id-22 div.sk-toggleable__content pre {margin: 0.2em;color: black;border-radius: 0.25em;background-color: #f0f8ff;}#sk-container-id-22 input.sk-toggleable__control:checked~div.sk-toggleable__content {max-height: 200px;max-width: 100%;overflow: auto;}#sk-container-id-22 input.sk-toggleable__control:checked~label.sk-toggleable__label-arrow:before {content: \"▾\";}#sk-container-id-22 div.sk-estimator input.sk-toggleable__control:checked~label.sk-toggleable__label {background-color: #d4ebff;}#sk-container-id-22 div.sk-label input.sk-toggleable__control:checked~label.sk-toggleable__label {background-color: #d4ebff;}#sk-container-id-22 input.sk-hidden--visually {border: 0;clip: rect(1px 1px 1px 1px);clip: rect(1px, 1px, 1px, 1px);height: 1px;margin: -1px;overflow: hidden;padding: 0;position: absolute;width: 1px;}#sk-container-id-22 div.sk-estimator {font-family: monospace;background-color: #f0f8ff;border: 1px dotted black;border-radius: 0.25em;box-sizing: border-box;margin-bottom: 0.5em;}#sk-container-id-22 div.sk-estimator:hover {background-color: #d4ebff;}#sk-container-id-22 div.sk-parallel-item::after {content: \"\";width: 100%;border-bottom: 1px solid gray;flex-grow: 1;}#sk-container-id-22 div.sk-label:hover label.sk-toggleable__label {background-color: #d4ebff;}#sk-container-id-22 div.sk-serial::before {content: \"\";position: absolute;border-left: 1px solid gray;box-sizing: border-box;top: 0;bottom: 0;left: 50%;z-index: 0;}#sk-container-id-22 div.sk-serial {display: flex;flex-direction: column;align-items: center;background-color: white;padding-right: 0.2em;padding-left: 0.2em;position: relative;}#sk-container-id-22 div.sk-item {position: relative;z-index: 1;}#sk-container-id-22 div.sk-parallel {display: flex;align-items: stretch;justify-content: center;background-color: white;position: relative;}#sk-container-id-22 div.sk-item::before, #sk-container-id-22 div.sk-parallel-item::before {content: \"\";position: absolute;border-left: 1px solid gray;box-sizing: border-box;top: 0;bottom: 0;left: 50%;z-index: -1;}#sk-container-id-22 div.sk-parallel-item {display: flex;flex-direction: column;z-index: 1;position: relative;background-color: white;}#sk-container-id-22 div.sk-parallel-item:first-child::after {align-self: flex-end;width: 50%;}#sk-container-id-22 div.sk-parallel-item:last-child::after {align-self: flex-start;width: 50%;}#sk-container-id-22 div.sk-parallel-item:only-child::after {width: 0;}#sk-container-id-22 div.sk-dashed-wrapped {border: 1px dashed gray;margin: 0 0.4em 0.5em 0.4em;box-sizing: border-box;padding-bottom: 0.4em;background-color: white;}#sk-container-id-22 div.sk-label label {font-family: monospace;font-weight: bold;display: inline-block;line-height: 1.2em;}#sk-container-id-22 div.sk-label-container {text-align: center;}#sk-container-id-22 div.sk-container {/* jupyter's `normalize.less` sets `[hidden] { display: none; }` but bootstrap.min.css set `[hidden] { display: none !important; }` so we also need the `!important` here to be able to override the default hidden behavior on the sphinx rendered scikit-learn.org. See: https://github.com/scikit-learn/scikit-learn/issues/21755 */display: inline-block !important;position: relative;}#sk-container-id-22 div.sk-text-repr-fallback {display: none;}</style><div id=\"sk-container-id-22\" class=\"sk-top-container\"><div class=\"sk-text-repr-fallback\"><pre>Pipeline(steps=[(&#x27;preprocessing&#x27;,\n",
              "                 ColumnTransformer(transformers=[(&#x27;add&#x27;,\n",
              "                                                  Pipeline(steps=[(&#x27;column_add&#x27;,\n",
              "                                                                   Pipeline(steps=[(&#x27;imputer&#x27;,\n",
              "                                                                                    SimpleImputer(strategy=&#x27;median&#x27;)),\n",
              "                                                                                   (&#x27;transformer&#x27;,\n",
              "                                                                                    FunctionTransformer(feature_names_out=&lt;function column_adder_name at 0x7ab3b930ac20&gt;,\n",
              "                                                                                                        func=&lt;function column_adder at 0x7ab3b930ab90&gt;)),\n",
              "                                                                                   (&#x27;scaler&#x27;,\n",
              "                                                                                    StandardScaler())]))]),\n",
              "                                                  [&#x27;SibSp&#x27;, &#x27;P...\n",
              "                                                                   StandardScaler())]),\n",
              "                                                  [&#x27;Age&#x27;]),\n",
              "                                                 (&#x27;num&#x27;,\n",
              "                                                  Pipeline(steps=[(&#x27;imputer&#x27;,\n",
              "                                                                   SimpleImputer(strategy=&#x27;median&#x27;)),\n",
              "                                                                  (&#x27;scaler&#x27;,\n",
              "                                                                   StandardScaler())]),\n",
              "                                                  [&#x27;SibSp&#x27;, &#x27;Parch&#x27;, &#x27;Fare&#x27;]),\n",
              "                                                 (&#x27;cat&#x27;,\n",
              "                                                  Pipeline(steps=[(&#x27;imputer&#x27;,\n",
              "                                                                   SimpleImputer(strategy=&#x27;most_frequent&#x27;)),\n",
              "                                                                  (&#x27;encoder&#x27;,\n",
              "                                                                   OneHotEncoder(sparse_output=False))]),\n",
              "                                                  [&#x27;Pclass&#x27;, &#x27;Sex&#x27;,\n",
              "                                                   &#x27;Embarked&#x27;])])),\n",
              "                (&#x27;svc_clf_model&#x27;, SVC(C=1, random_state=7))])</pre><b>In a Jupyter environment, please rerun this cell to show the HTML representation or trust the notebook. <br />On GitHub, the HTML representation is unable to render, please try loading this page with nbviewer.org.</b></div><div class=\"sk-container\" hidden><div class=\"sk-item sk-dashed-wrapped\"><div class=\"sk-label-container\"><div class=\"sk-label sk-toggleable\"><input class=\"sk-toggleable__control sk-hidden--visually\" id=\"sk-estimator-id-319\" type=\"checkbox\" ><label for=\"sk-estimator-id-319\" class=\"sk-toggleable__label sk-toggleable__label-arrow\">Pipeline</label><div class=\"sk-toggleable__content\"><pre>Pipeline(steps=[(&#x27;preprocessing&#x27;,\n",
              "                 ColumnTransformer(transformers=[(&#x27;add&#x27;,\n",
              "                                                  Pipeline(steps=[(&#x27;column_add&#x27;,\n",
              "                                                                   Pipeline(steps=[(&#x27;imputer&#x27;,\n",
              "                                                                                    SimpleImputer(strategy=&#x27;median&#x27;)),\n",
              "                                                                                   (&#x27;transformer&#x27;,\n",
              "                                                                                    FunctionTransformer(feature_names_out=&lt;function column_adder_name at 0x7ab3b930ac20&gt;,\n",
              "                                                                                                        func=&lt;function column_adder at 0x7ab3b930ab90&gt;)),\n",
              "                                                                                   (&#x27;scaler&#x27;,\n",
              "                                                                                    StandardScaler())]))]),\n",
              "                                                  [&#x27;SibSp&#x27;, &#x27;P...\n",
              "                                                                   StandardScaler())]),\n",
              "                                                  [&#x27;Age&#x27;]),\n",
              "                                                 (&#x27;num&#x27;,\n",
              "                                                  Pipeline(steps=[(&#x27;imputer&#x27;,\n",
              "                                                                   SimpleImputer(strategy=&#x27;median&#x27;)),\n",
              "                                                                  (&#x27;scaler&#x27;,\n",
              "                                                                   StandardScaler())]),\n",
              "                                                  [&#x27;SibSp&#x27;, &#x27;Parch&#x27;, &#x27;Fare&#x27;]),\n",
              "                                                 (&#x27;cat&#x27;,\n",
              "                                                  Pipeline(steps=[(&#x27;imputer&#x27;,\n",
              "                                                                   SimpleImputer(strategy=&#x27;most_frequent&#x27;)),\n",
              "                                                                  (&#x27;encoder&#x27;,\n",
              "                                                                   OneHotEncoder(sparse_output=False))]),\n",
              "                                                  [&#x27;Pclass&#x27;, &#x27;Sex&#x27;,\n",
              "                                                   &#x27;Embarked&#x27;])])),\n",
              "                (&#x27;svc_clf_model&#x27;, SVC(C=1, random_state=7))])</pre></div></div></div><div class=\"sk-serial\"><div class=\"sk-item sk-dashed-wrapped\"><div class=\"sk-label-container\"><div class=\"sk-label sk-toggleable\"><input class=\"sk-toggleable__control sk-hidden--visually\" id=\"sk-estimator-id-320\" type=\"checkbox\" ><label for=\"sk-estimator-id-320\" class=\"sk-toggleable__label sk-toggleable__label-arrow\">preprocessing: ColumnTransformer</label><div class=\"sk-toggleable__content\"><pre>ColumnTransformer(transformers=[(&#x27;add&#x27;,\n",
              "                                 Pipeline(steps=[(&#x27;column_add&#x27;,\n",
              "                                                  Pipeline(steps=[(&#x27;imputer&#x27;,\n",
              "                                                                   SimpleImputer(strategy=&#x27;median&#x27;)),\n",
              "                                                                  (&#x27;transformer&#x27;,\n",
              "                                                                   FunctionTransformer(feature_names_out=&lt;function column_adder_name at 0x7ab3b930ac20&gt;,\n",
              "                                                                                       func=&lt;function column_adder at 0x7ab3b930ab90&gt;)),\n",
              "                                                                  (&#x27;scaler&#x27;,\n",
              "                                                                   StandardScaler())]))]),\n",
              "                                 [&#x27;SibSp&#x27;, &#x27;Parch&#x27;]),\n",
              "                                (&#x27;age&#x27;,\n",
              "                                 Pipeline(steps=[(&#x27;...\n",
              "                                                  KBinsDiscretizer(encode=&#x27;ordinal&#x27;,\n",
              "                                                                   n_bins=4,\n",
              "                                                                   strategy=&#x27;uniform&#x27;)),\n",
              "                                                 (&#x27;scaler&#x27;, StandardScaler())]),\n",
              "                                 [&#x27;Age&#x27;]),\n",
              "                                (&#x27;num&#x27;,\n",
              "                                 Pipeline(steps=[(&#x27;imputer&#x27;,\n",
              "                                                  SimpleImputer(strategy=&#x27;median&#x27;)),\n",
              "                                                 (&#x27;scaler&#x27;, StandardScaler())]),\n",
              "                                 [&#x27;SibSp&#x27;, &#x27;Parch&#x27;, &#x27;Fare&#x27;]),\n",
              "                                (&#x27;cat&#x27;,\n",
              "                                 Pipeline(steps=[(&#x27;imputer&#x27;,\n",
              "                                                  SimpleImputer(strategy=&#x27;most_frequent&#x27;)),\n",
              "                                                 (&#x27;encoder&#x27;,\n",
              "                                                  OneHotEncoder(sparse_output=False))]),\n",
              "                                 [&#x27;Pclass&#x27;, &#x27;Sex&#x27;, &#x27;Embarked&#x27;])])</pre></div></div></div><div class=\"sk-parallel\"><div class=\"sk-parallel-item\"><div class=\"sk-item\"><div class=\"sk-label-container\"><div class=\"sk-label sk-toggleable\"><input class=\"sk-toggleable__control sk-hidden--visually\" id=\"sk-estimator-id-321\" type=\"checkbox\" ><label for=\"sk-estimator-id-321\" class=\"sk-toggleable__label sk-toggleable__label-arrow\">add</label><div class=\"sk-toggleable__content\"><pre>[&#x27;SibSp&#x27;, &#x27;Parch&#x27;]</pre></div></div></div><div class=\"sk-serial\"><div class=\"sk-item\"><div class=\"sk-serial\"><div class=\"sk-item\"><div class=\"sk-label-container\"><div class=\"sk-label sk-toggleable\"><input class=\"sk-toggleable__control sk-hidden--visually\" id=\"sk-estimator-id-322\" type=\"checkbox\" ><label for=\"sk-estimator-id-322\" class=\"sk-toggleable__label sk-toggleable__label-arrow\">column_add: Pipeline</label><div class=\"sk-toggleable__content\"><pre>Pipeline(steps=[(&#x27;imputer&#x27;, SimpleImputer(strategy=&#x27;median&#x27;)),\n",
              "                (&#x27;transformer&#x27;,\n",
              "                 FunctionTransformer(feature_names_out=&lt;function column_adder_name at 0x7ab3b930ac20&gt;,\n",
              "                                     func=&lt;function column_adder at 0x7ab3b930ab90&gt;)),\n",
              "                (&#x27;scaler&#x27;, StandardScaler())])</pre></div></div></div><div class=\"sk-serial\"><div class=\"sk-item\"><div class=\"sk-estimator sk-toggleable\"><input class=\"sk-toggleable__control sk-hidden--visually\" id=\"sk-estimator-id-323\" type=\"checkbox\" ><label for=\"sk-estimator-id-323\" class=\"sk-toggleable__label sk-toggleable__label-arrow\">SimpleImputer</label><div class=\"sk-toggleable__content\"><pre>SimpleImputer(strategy=&#x27;median&#x27;)</pre></div></div></div><div class=\"sk-item\"><div class=\"sk-estimator sk-toggleable\"><input class=\"sk-toggleable__control sk-hidden--visually\" id=\"sk-estimator-id-324\" type=\"checkbox\" ><label for=\"sk-estimator-id-324\" class=\"sk-toggleable__label sk-toggleable__label-arrow\">FunctionTransformer</label><div class=\"sk-toggleable__content\"><pre>FunctionTransformer(feature_names_out=&lt;function column_adder_name at 0x7ab3b930ac20&gt;,\n",
              "                    func=&lt;function column_adder at 0x7ab3b930ab90&gt;)</pre></div></div></div><div class=\"sk-item\"><div class=\"sk-estimator sk-toggleable\"><input class=\"sk-toggleable__control sk-hidden--visually\" id=\"sk-estimator-id-325\" type=\"checkbox\" ><label for=\"sk-estimator-id-325\" class=\"sk-toggleable__label sk-toggleable__label-arrow\">StandardScaler</label><div class=\"sk-toggleable__content\"><pre>StandardScaler()</pre></div></div></div></div></div></div></div></div></div></div><div class=\"sk-parallel-item\"><div class=\"sk-item\"><div class=\"sk-label-container\"><div class=\"sk-label sk-toggleable\"><input class=\"sk-toggleable__control sk-hidden--visually\" id=\"sk-estimator-id-326\" type=\"checkbox\" ><label for=\"sk-estimator-id-326\" class=\"sk-toggleable__label sk-toggleable__label-arrow\">age</label><div class=\"sk-toggleable__content\"><pre>[&#x27;Age&#x27;]</pre></div></div></div><div class=\"sk-serial\"><div class=\"sk-item\"><div class=\"sk-serial\"><div class=\"sk-item\"><div class=\"sk-estimator sk-toggleable\"><input class=\"sk-toggleable__control sk-hidden--visually\" id=\"sk-estimator-id-327\" type=\"checkbox\" ><label for=\"sk-estimator-id-327\" class=\"sk-toggleable__label sk-toggleable__label-arrow\">SimpleImputer</label><div class=\"sk-toggleable__content\"><pre>SimpleImputer(strategy=&#x27;median&#x27;)</pre></div></div></div><div class=\"sk-item\"><div class=\"sk-estimator sk-toggleable\"><input class=\"sk-toggleable__control sk-hidden--visually\" id=\"sk-estimator-id-328\" type=\"checkbox\" ><label for=\"sk-estimator-id-328\" class=\"sk-toggleable__label sk-toggleable__label-arrow\">KBinsDiscretizer</label><div class=\"sk-toggleable__content\"><pre>KBinsDiscretizer(encode=&#x27;ordinal&#x27;, n_bins=4, strategy=&#x27;uniform&#x27;)</pre></div></div></div><div class=\"sk-item\"><div class=\"sk-estimator sk-toggleable\"><input class=\"sk-toggleable__control sk-hidden--visually\" id=\"sk-estimator-id-329\" type=\"checkbox\" ><label for=\"sk-estimator-id-329\" class=\"sk-toggleable__label sk-toggleable__label-arrow\">StandardScaler</label><div class=\"sk-toggleable__content\"><pre>StandardScaler()</pre></div></div></div></div></div></div></div></div><div class=\"sk-parallel-item\"><div class=\"sk-item\"><div class=\"sk-label-container\"><div class=\"sk-label sk-toggleable\"><input class=\"sk-toggleable__control sk-hidden--visually\" id=\"sk-estimator-id-330\" type=\"checkbox\" ><label for=\"sk-estimator-id-330\" class=\"sk-toggleable__label sk-toggleable__label-arrow\">num</label><div class=\"sk-toggleable__content\"><pre>[&#x27;SibSp&#x27;, &#x27;Parch&#x27;, &#x27;Fare&#x27;]</pre></div></div></div><div class=\"sk-serial\"><div class=\"sk-item\"><div class=\"sk-serial\"><div class=\"sk-item\"><div class=\"sk-estimator sk-toggleable\"><input class=\"sk-toggleable__control sk-hidden--visually\" id=\"sk-estimator-id-331\" type=\"checkbox\" ><label for=\"sk-estimator-id-331\" class=\"sk-toggleable__label sk-toggleable__label-arrow\">SimpleImputer</label><div class=\"sk-toggleable__content\"><pre>SimpleImputer(strategy=&#x27;median&#x27;)</pre></div></div></div><div class=\"sk-item\"><div class=\"sk-estimator sk-toggleable\"><input class=\"sk-toggleable__control sk-hidden--visually\" id=\"sk-estimator-id-332\" type=\"checkbox\" ><label for=\"sk-estimator-id-332\" class=\"sk-toggleable__label sk-toggleable__label-arrow\">StandardScaler</label><div class=\"sk-toggleable__content\"><pre>StandardScaler()</pre></div></div></div></div></div></div></div></div><div class=\"sk-parallel-item\"><div class=\"sk-item\"><div class=\"sk-label-container\"><div class=\"sk-label sk-toggleable\"><input class=\"sk-toggleable__control sk-hidden--visually\" id=\"sk-estimator-id-333\" type=\"checkbox\" ><label for=\"sk-estimator-id-333\" class=\"sk-toggleable__label sk-toggleable__label-arrow\">cat</label><div class=\"sk-toggleable__content\"><pre>[&#x27;Pclass&#x27;, &#x27;Sex&#x27;, &#x27;Embarked&#x27;]</pre></div></div></div><div class=\"sk-serial\"><div class=\"sk-item\"><div class=\"sk-serial\"><div class=\"sk-item\"><div class=\"sk-estimator sk-toggleable\"><input class=\"sk-toggleable__control sk-hidden--visually\" id=\"sk-estimator-id-334\" type=\"checkbox\" ><label for=\"sk-estimator-id-334\" class=\"sk-toggleable__label sk-toggleable__label-arrow\">SimpleImputer</label><div class=\"sk-toggleable__content\"><pre>SimpleImputer(strategy=&#x27;most_frequent&#x27;)</pre></div></div></div><div class=\"sk-item\"><div class=\"sk-estimator sk-toggleable\"><input class=\"sk-toggleable__control sk-hidden--visually\" id=\"sk-estimator-id-335\" type=\"checkbox\" ><label for=\"sk-estimator-id-335\" class=\"sk-toggleable__label sk-toggleable__label-arrow\">OneHotEncoder</label><div class=\"sk-toggleable__content\"><pre>OneHotEncoder(sparse_output=False)</pre></div></div></div></div></div></div></div></div></div></div><div class=\"sk-item\"><div class=\"sk-estimator sk-toggleable\"><input class=\"sk-toggleable__control sk-hidden--visually\" id=\"sk-estimator-id-336\" type=\"checkbox\" ><label for=\"sk-estimator-id-336\" class=\"sk-toggleable__label sk-toggleable__label-arrow\">SVC</label><div class=\"sk-toggleable__content\"><pre>SVC(C=1, random_state=7)</pre></div></div></div></div></div></div></div>"
            ]
          },
          "metadata": {},
          "execution_count": 194
        }
      ]
    },
    {
      "cell_type": "code",
      "source": [
        "full_pipeline_svc.fit(X_train, y_train)  # svc_clf.fit(X_train_prep, y_train)\n",
        "svc_scores = cross_val_score(full_pipeline_svc, X_train, y_train, cv=10, scoring=\"accuracy\")"
      ],
      "metadata": {
        "id": "E4f30aV5i31V"
      },
      "execution_count": null,
      "outputs": []
    },
    {
      "cell_type": "code",
      "source": [
        "full_pipeline_forest.fit(X_train, y_train)  # svc_clf.fit(X_train_prep, y_train)\n",
        "forest_scores = cross_val_score(full_pipeline_forest, X_train, y_train, cv=10, scoring=\"accuracy\")"
      ],
      "metadata": {
        "id": "hM-hdIZfWjSR"
      },
      "execution_count": null,
      "outputs": []
    },
    {
      "cell_type": "code",
      "source": [
        "import matplotlib.pyplot as plt\n",
        "\n",
        "plt.boxplot([svc_scores, forest_scores], showfliers = True,  meanline='red', showmeans=True, labels = ['svc_scores','forest_scores'])\n",
        "plt.plot([1]*10, svc_scores, \".\")\n",
        "plt.text(1,svc_scores.mean().round(3),str(svc_scores.mean().round(3)))\n",
        "plt.plot([2]*10, forest_scores, \".\")\n",
        "plt.text(2,forest_scores.mean().round(3),str(forest_scores.mean().round(3)))\n",
        "plt.show()"
      ],
      "metadata": {
        "colab": {
          "base_uri": "https://localhost:8080/",
          "height": 430
        },
        "id": "v04INd6_kIyC",
        "outputId": "7f613ff5-2c45-4686-e7e1-0ee9a6821e6d"
      },
      "execution_count": null,
      "outputs": [
        {
          "output_type": "display_data",
          "data": {
            "text/plain": [
              "<Figure size 640x480 with 1 Axes>"
            ],
            "image/png": "[encoded data removed]"
          },
          "metadata": {}
        }
      ]
    },
    {
      "cell_type": "markdown",
      "source": [
        "menjünk tivább a forest-tel, mert az konzekvensebb"
      ],
      "metadata": {
        "id": "-Thp8mzboHHe"
      }
    },
    {
      "cell_type": "markdown",
      "source": [
        "    RandomForestClassifier\n",
        "        n_estimators=100, *,\n",
        "        criterion='gini',\n",
        "        max_depth=None,\n",
        "        min_samples_split=2,\n",
        "        min_samples_leaf=1,\n",
        "        min_weight_fraction_leaf=0.0,\n",
        "        max_features='sqrt',\n",
        "        max_leaf_nodes=None,\n",
        "        min_impurity_decrease=0.0,\n",
        "        bootstrap=True,\n",
        "        oob_score=False,\n",
        "        n_jobs=None,\n",
        "        random_state=None,\n",
        "        verbose=0,\n",
        "        warm_start=False,\n",
        "        class_weight=None,\n",
        "        ccp_alpha=0.0,\n",
        "        max_samples=None)"
      ],
      "metadata": {
        "id": "B1SGYFMVoF5D"
      }
    },
    {
      "cell_type": "code",
      "source": [
        "from sklearn.model_selection import GridSearchCV\n",
        "\n",
        "# # worth to make pipeline for fine-tuning\n",
        "# full_pipeline_forest = Pipeline([\n",
        "#     ('preprocessing', preprocessing),\n",
        "#     ('forest_clf_model', forest_clf)  # forest_clf = RandomForestClassifier(n_estimators=200, max_depth = 20, min_samples_split=10, random_state=7)\n",
        "# ])\n",
        "\n",
        "# hyperparameters\n",
        "param_grid = {\n",
        "    'forest_clf_model__n_estimators': [100, 200, 300],\n",
        "    'forest_clf_model__max_depth': [3, 5, 7],\n",
        "    'forest_clf_model__min_samples_split': [2, 5, 10],\n",
        "    'forest_clf_model__min_samples_leaf': [1, 2, 4]\n",
        "}\n",
        "\n",
        "# construct\n",
        "grid_search = GridSearchCV(full_pipeline_forest,\n",
        "                           param_grid,\n",
        "                           scoring = 'accuracy',\n",
        "                           cv = 5)  # 5-fold cross validation\n",
        "\n",
        "# search\n",
        "grid_search.fit(X_train, y_train)"
      ],
      "metadata": {
        "colab": {
          "base_uri": "https://localhost:8080/",
          "height": 313
        },
        "id": "yaojwK06pTlf",
        "outputId": "15288340-04ec-438b-973e-c76524762468"
      },
      "execution_count": null,
      "outputs": [
        {
          "output_type": "execute_result",
          "data": {
            "text/plain": [
              "GridSearchCV(cv=5,\n",
              "             estimator=Pipeline(steps=[('preprocessing',\n",
              "                                        ColumnTransformer(transformers=[('add',\n",
              "                                                                         Pipeline(steps=[('column_add',\n",
              "                                                                                          Pipeline(steps=[('imputer',\n",
              "                                                                                                           SimpleImputer(strategy='median')),\n",
              "                                                                                                          ('transformer',\n",
              "                                                                                                           FunctionTransformer(feature_names_out=<function column_adder_name at 0x7ab3b930ac20>,\n",
              "                                                                                                                               func=<function column_adder at 0x7ab3b930ab90>)),\n",
              "                                                                                                          ('scaler',\n",
              "                                                                                                           Standa...\n",
              "                                                                         ['Pclass',\n",
              "                                                                          'Sex',\n",
              "                                                                          'Embarked'])])),\n",
              "                                       ('forest_clf_model',\n",
              "                                        RandomForestClassifier(max_depth=20,\n",
              "                                                               min_samples_split=10,\n",
              "                                                               n_estimators=200,\n",
              "                                                               random_state=7))]),\n",
              "             param_grid={'forest_clf_model__max_depth': [3, 5, 7],\n",
              "                         'forest_clf_model__min_samples_leaf': [1, 2, 4],\n",
              "                         'forest_clf_model__min_samples_split': [2, 5, 10],\n",
              "                         'forest_clf_model__n_estimators': [100, 200, 300]},\n",
              "             scoring='accuracy')"
            ],
            "text/html": [
              "<style>#sk-container-id-23 {color: black;background-color: white;}#sk-container-id-23 pre{padding: 0;}#sk-container-id-23 div.sk-toggleable {background-color: white;}#sk-container-id-23 label.sk-toggleable__label {cursor: pointer;display: block;width: 100%;margin-bottom: 0;padding: 0.3em;box-sizing: border-box;text-align: center;}#sk-container-id-23 label.sk-toggleable__label-arrow:before {content: \"▸\";float: left;margin-right: 0.25em;color: #696969;}#sk-container-id-23 label.sk-toggleable__label-arrow:hover:before {color: black;}#sk-container-id-23 div.sk-estimator:hover label.sk-toggleable__label-arrow:before {color: black;}#sk-container-id-23 div.sk-toggleable__content {max-height: 0;max-width: 0;overflow: hidden;text-align: left;background-color: #f0f8ff;}#sk-container-id-23 div.sk-toggleable__content pre {margin: 0.2em;color: black;border-radius: 0.25em;background-color: #f0f8ff;}#sk-container-id-23 input.sk-toggleable__control:checked~div.sk-toggleable__content {max-height: 200px;max-width: 100%;overflow: auto;}#sk-container-id-23 input.sk-toggleable__control:checked~label.sk-toggleable__label-arrow:before {content: \"▾\";}#sk-container-id-23 div.sk-estimator input.sk-toggleable__control:checked~label.sk-toggleable__label {background-color: #d4ebff;}#sk-container-id-23 div.sk-label input.sk-toggleable__control:checked~label.sk-toggleable__label {background-color: #d4ebff;}#sk-container-id-23 input.sk-hidden--visually {border: 0;clip: rect(1px 1px 1px 1px);clip: rect(1px, 1px, 1px, 1px);height: 1px;margin: -1px;overflow: hidden;padding: 0;position: absolute;width: 1px;}#sk-container-id-23 div.sk-estimator {font-family: monospace;background-color: #f0f8ff;border: 1px dotted black;border-radius: 0.25em;box-sizing: border-box;margin-bottom: 0.5em;}#sk-container-id-23 div.sk-estimator:hover {background-color: #d4ebff;}#sk-container-id-23 div.sk-parallel-item::after {content: \"\";width: 100%;border-bottom: 1px solid gray;flex-grow: 1;}#sk-container-id-23 div.sk-label:hover label.sk-toggleable__label {background-color: #d4ebff;}#sk-container-id-23 div.sk-serial::before {content: \"\";position: absolute;border-left: 1px solid gray;box-sizing: border-box;top: 0;bottom: 0;left: 50%;z-index: 0;}#sk-container-id-23 div.sk-serial {display: flex;flex-direction: column;align-items: center;background-color: white;padding-right: 0.2em;padding-left: 0.2em;position: relative;}#sk-container-id-23 div.sk-item {position: relative;z-index: 1;}#sk-container-id-23 div.sk-parallel {display: flex;align-items: stretch;justify-content: center;background-color: white;position: relative;}#sk-container-id-23 div.sk-item::before, #sk-container-id-23 div.sk-parallel-item::before {content: \"\";position: absolute;border-left: 1px solid gray;box-sizing: border-box;top: 0;bottom: 0;left: 50%;z-index: -1;}#sk-container-id-23 div.sk-parallel-item {display: flex;flex-direction: column;z-index: 1;position: relative;background-color: white;}#sk-container-id-23 div.sk-parallel-item:first-child::after {align-self: flex-end;width: 50%;}#sk-container-id-23 div.sk-parallel-item:last-child::after {align-self: flex-start;width: 50%;}#sk-container-id-23 div.sk-parallel-item:only-child::after {width: 0;}#sk-container-id-23 div.sk-dashed-wrapped {border: 1px dashed gray;margin: 0 0.4em 0.5em 0.4em;box-sizing: border-box;padding-bottom: 0.4em;background-color: white;}#sk-container-id-23 div.sk-label label {font-family: monospace;font-weight: bold;display: inline-block;line-height: 1.2em;}#sk-container-id-23 div.sk-label-container {text-align: center;}#sk-container-id-23 div.sk-container {/* jupyter's `normalize.less` sets `[hidden] { display: none; }` but bootstrap.min.css set `[hidden] { display: none !important; }` so we also need the `!important` here to be able to override the default hidden behavior on the sphinx rendered scikit-learn.org. See: https://github.com/scikit-learn/scikit-learn/issues/21755 */display: inline-block !important;position: relative;}#sk-container-id-23 div.sk-text-repr-fallback {display: none;}</style><div id=\"sk-container-id-23\" class=\"sk-top-container\"><div class=\"sk-text-repr-fallback\"><pre>GridSearchCV(cv=5,\n",
              "             estimator=Pipeline(steps=[(&#x27;preprocessing&#x27;,\n",
              "                                        ColumnTransformer(transformers=[(&#x27;add&#x27;,\n",
              "                                                                         Pipeline(steps=[(&#x27;column_add&#x27;,\n",
              "                                                                                          Pipeline(steps=[(&#x27;imputer&#x27;,\n",
              "                                                                                                           SimpleImputer(strategy=&#x27;median&#x27;)),\n",
              "                                                                                                          (&#x27;transformer&#x27;,\n",
              "                                                                                                           FunctionTransformer(feature_names_out=&lt;function column_adder_name at 0x7ab3b930ac20&gt;,\n",
              "                                                                                                                               func=&lt;function column_adder at 0x7ab3b930ab90&gt;)),\n",
              "                                                                                                          (&#x27;scaler&#x27;,\n",
              "                                                                                                           Standa...\n",
              "                                                                         [&#x27;Pclass&#x27;,\n",
              "                                                                          &#x27;Sex&#x27;,\n",
              "                                                                          &#x27;Embarked&#x27;])])),\n",
              "                                       (&#x27;forest_clf_model&#x27;,\n",
              "                                        RandomForestClassifier(max_depth=20,\n",
              "                                                               min_samples_split=10,\n",
              "                                                               n_estimators=200,\n",
              "                                                               random_state=7))]),\n",
              "             param_grid={&#x27;forest_clf_model__max_depth&#x27;: [3, 5, 7],\n",
              "                         &#x27;forest_clf_model__min_samples_leaf&#x27;: [1, 2, 4],\n",
              "                         &#x27;forest_clf_model__min_samples_split&#x27;: [2, 5, 10],\n",
              "                         &#x27;forest_clf_model__n_estimators&#x27;: [100, 200, 300]},\n",
              "             scoring=&#x27;accuracy&#x27;)</pre><b>In a Jupyter environment, please rerun this cell to show the HTML representation or trust the notebook. <br />On GitHub, the HTML representation is unable to render, please try loading this page with nbviewer.org.</b></div><div class=\"sk-container\" hidden><div class=\"sk-item sk-dashed-wrapped\"><div class=\"sk-label-container\"><div class=\"sk-label sk-toggleable\"><input class=\"sk-toggleable__control sk-hidden--visually\" id=\"sk-estimator-id-337\" type=\"checkbox\" ><label for=\"sk-estimator-id-337\" class=\"sk-toggleable__label sk-toggleable__label-arrow\">GridSearchCV</label><div class=\"sk-toggleable__content\"><pre>GridSearchCV(cv=5,\n",
              "             estimator=Pipeline(steps=[(&#x27;preprocessing&#x27;,\n",
              "                                        ColumnTransformer(transformers=[(&#x27;add&#x27;,\n",
              "                                                                         Pipeline(steps=[(&#x27;column_add&#x27;,\n",
              "                                                                                          Pipeline(steps=[(&#x27;imputer&#x27;,\n",
              "                                                                                                           SimpleImputer(strategy=&#x27;median&#x27;)),\n",
              "                                                                                                          (&#x27;transformer&#x27;,\n",
              "                                                                                                           FunctionTransformer(feature_names_out=&lt;function column_adder_name at 0x7ab3b930ac20&gt;,\n",
              "                                                                                                                               func=&lt;function column_adder at 0x7ab3b930ab90&gt;)),\n",
              "                                                                                                          (&#x27;scaler&#x27;,\n",
              "                                                                                                           Standa...\n",
              "                                                                         [&#x27;Pclass&#x27;,\n",
              "                                                                          &#x27;Sex&#x27;,\n",
              "                                                                          &#x27;Embarked&#x27;])])),\n",
              "                                       (&#x27;forest_clf_model&#x27;,\n",
              "                                        RandomForestClassifier(max_depth=20,\n",
              "                                                               min_samples_split=10,\n",
              "                                                               n_estimators=200,\n",
              "                                                               random_state=7))]),\n",
              "             param_grid={&#x27;forest_clf_model__max_depth&#x27;: [3, 5, 7],\n",
              "                         &#x27;forest_clf_model__min_samples_leaf&#x27;: [1, 2, 4],\n",
              "                         &#x27;forest_clf_model__min_samples_split&#x27;: [2, 5, 10],\n",
              "                         &#x27;forest_clf_model__n_estimators&#x27;: [100, 200, 300]},\n",
              "             scoring=&#x27;accuracy&#x27;)</pre></div></div></div><div class=\"sk-parallel\"><div class=\"sk-parallel-item\"><div class=\"sk-item\"><div class=\"sk-label-container\"><div class=\"sk-label sk-toggleable\"><input class=\"sk-toggleable__control sk-hidden--visually\" id=\"sk-estimator-id-338\" type=\"checkbox\" ><label for=\"sk-estimator-id-338\" class=\"sk-toggleable__label sk-toggleable__label-arrow\">estimator: Pipeline</label><div class=\"sk-toggleable__content\"><pre>Pipeline(steps=[(&#x27;preprocessing&#x27;,\n",
              "                 ColumnTransformer(transformers=[(&#x27;add&#x27;,\n",
              "                                                  Pipeline(steps=[(&#x27;column_add&#x27;,\n",
              "                                                                   Pipeline(steps=[(&#x27;imputer&#x27;,\n",
              "                                                                                    SimpleImputer(strategy=&#x27;median&#x27;)),\n",
              "                                                                                   (&#x27;transformer&#x27;,\n",
              "                                                                                    FunctionTransformer(feature_names_out=&lt;function column_adder_name at 0x7ab3b930ac20&gt;,\n",
              "                                                                                                        func=&lt;function column_adder at 0x7ab3b930ab90&gt;)),\n",
              "                                                                                   (&#x27;scaler&#x27;,\n",
              "                                                                                    StandardScaler())]))]),\n",
              "                                                  [&#x27;SibSp&#x27;, &#x27;P...\n",
              "                                                                   SimpleImputer(strategy=&#x27;median&#x27;)),\n",
              "                                                                  (&#x27;scaler&#x27;,\n",
              "                                                                   StandardScaler())]),\n",
              "                                                  [&#x27;SibSp&#x27;, &#x27;Parch&#x27;, &#x27;Fare&#x27;]),\n",
              "                                                 (&#x27;cat&#x27;,\n",
              "                                                  Pipeline(steps=[(&#x27;imputer&#x27;,\n",
              "                                                                   SimpleImputer(strategy=&#x27;most_frequent&#x27;)),\n",
              "                                                                  (&#x27;encoder&#x27;,\n",
              "                                                                   OneHotEncoder(sparse_output=False))]),\n",
              "                                                  [&#x27;Pclass&#x27;, &#x27;Sex&#x27;,\n",
              "                                                   &#x27;Embarked&#x27;])])),\n",
              "                (&#x27;forest_clf_model&#x27;,\n",
              "                 RandomForestClassifier(max_depth=20, min_samples_split=10,\n",
              "                                        n_estimators=200, random_state=7))])</pre></div></div></div><div class=\"sk-serial\"><div class=\"sk-item\"><div class=\"sk-serial\"><div class=\"sk-item sk-dashed-wrapped\"><div class=\"sk-label-container\"><div class=\"sk-label sk-toggleable\"><input class=\"sk-toggleable__control sk-hidden--visually\" id=\"sk-estimator-id-339\" type=\"checkbox\" ><label for=\"sk-estimator-id-339\" class=\"sk-toggleable__label sk-toggleable__label-arrow\">preprocessing: ColumnTransformer</label><div class=\"sk-toggleable__content\"><pre>ColumnTransformer(transformers=[(&#x27;add&#x27;,\n",
              "                                 Pipeline(steps=[(&#x27;column_add&#x27;,\n",
              "                                                  Pipeline(steps=[(&#x27;imputer&#x27;,\n",
              "                                                                   SimpleImputer(strategy=&#x27;median&#x27;)),\n",
              "                                                                  (&#x27;transformer&#x27;,\n",
              "                                                                   FunctionTransformer(feature_names_out=&lt;function column_adder_name at 0x7ab3b930ac20&gt;,\n",
              "                                                                                       func=&lt;function column_adder at 0x7ab3b930ab90&gt;)),\n",
              "                                                                  (&#x27;scaler&#x27;,\n",
              "                                                                   StandardScaler())]))]),\n",
              "                                 [&#x27;SibSp&#x27;, &#x27;Parch&#x27;]),\n",
              "                                (&#x27;age&#x27;,\n",
              "                                 Pipeline(steps=[(&#x27;...\n",
              "                                                  KBinsDiscretizer(encode=&#x27;ordinal&#x27;,\n",
              "                                                                   n_bins=4,\n",
              "                                                                   strategy=&#x27;uniform&#x27;)),\n",
              "                                                 (&#x27;scaler&#x27;, StandardScaler())]),\n",
              "                                 [&#x27;Age&#x27;]),\n",
              "                                (&#x27;num&#x27;,\n",
              "                                 Pipeline(steps=[(&#x27;imputer&#x27;,\n",
              "                                                  SimpleImputer(strategy=&#x27;median&#x27;)),\n",
              "                                                 (&#x27;scaler&#x27;, StandardScaler())]),\n",
              "                                 [&#x27;SibSp&#x27;, &#x27;Parch&#x27;, &#x27;Fare&#x27;]),\n",
              "                                (&#x27;cat&#x27;,\n",
              "                                 Pipeline(steps=[(&#x27;imputer&#x27;,\n",
              "                                                  SimpleImputer(strategy=&#x27;most_frequent&#x27;)),\n",
              "                                                 (&#x27;encoder&#x27;,\n",
              "                                                  OneHotEncoder(sparse_output=False))]),\n",
              "                                 [&#x27;Pclass&#x27;, &#x27;Sex&#x27;, &#x27;Embarked&#x27;])])</pre></div></div></div><div class=\"sk-parallel\"><div class=\"sk-parallel-item\"><div class=\"sk-item\"><div class=\"sk-label-container\"><div class=\"sk-label sk-toggleable\"><input class=\"sk-toggleable__control sk-hidden--visually\" id=\"sk-estimator-id-340\" type=\"checkbox\" ><label for=\"sk-estimator-id-340\" class=\"sk-toggleable__label sk-toggleable__label-arrow\">add</label><div class=\"sk-toggleable__content\"><pre>[&#x27;SibSp&#x27;, &#x27;Parch&#x27;]</pre></div></div></div><div class=\"sk-serial\"><div class=\"sk-item\"><div class=\"sk-serial\"><div class=\"sk-item\"><div class=\"sk-label-container\"><div class=\"sk-label sk-toggleable\"><input class=\"sk-toggleable__control sk-hidden--visually\" id=\"sk-estimator-id-341\" type=\"checkbox\" ><label for=\"sk-estimator-id-341\" class=\"sk-toggleable__label sk-toggleable__label-arrow\">column_add: Pipeline</label><div class=\"sk-toggleable__content\"><pre>Pipeline(steps=[(&#x27;imputer&#x27;, SimpleImputer(strategy=&#x27;median&#x27;)),\n",
              "                (&#x27;transformer&#x27;,\n",
              "                 FunctionTransformer(feature_names_out=&lt;function column_adder_name at 0x7ab3b930ac20&gt;,\n",
              "                                     func=&lt;function column_adder at 0x7ab3b930ab90&gt;)),\n",
              "                (&#x27;scaler&#x27;, StandardScaler())])</pre></div></div></div><div class=\"sk-serial\"><div class=\"sk-item\"><div class=\"sk-estimator sk-toggleable\"><input class=\"sk-toggleable__control sk-hidden--visually\" id=\"sk-estimator-id-342\" type=\"checkbox\" ><label for=\"sk-estimator-id-342\" class=\"sk-toggleable__label sk-toggleable__label-arrow\">SimpleImputer</label><div class=\"sk-toggleable__content\"><pre>SimpleImputer(strategy=&#x27;median&#x27;)</pre></div></div></div><div class=\"sk-item\"><div class=\"sk-estimator sk-toggleable\"><input class=\"sk-toggleable__control sk-hidden--visually\" id=\"sk-estimator-id-343\" type=\"checkbox\" ><label for=\"sk-estimator-id-343\" class=\"sk-toggleable__label sk-toggleable__label-arrow\">FunctionTransformer</label><div class=\"sk-toggleable__content\"><pre>FunctionTransformer(feature_names_out=&lt;function column_adder_name at 0x7ab3b930ac20&gt;,\n",
              "                    func=&lt;function column_adder at 0x7ab3b930ab90&gt;)</pre></div></div></div><div class=\"sk-item\"><div class=\"sk-estimator sk-toggleable\"><input class=\"sk-toggleable__control sk-hidden--visually\" id=\"sk-estimator-id-344\" type=\"checkbox\" ><label for=\"sk-estimator-id-344\" class=\"sk-toggleable__label sk-toggleable__label-arrow\">StandardScaler</label><div class=\"sk-toggleable__content\"><pre>StandardScaler()</pre></div></div></div></div></div></div></div></div></div></div><div class=\"sk-parallel-item\"><div class=\"sk-item\"><div class=\"sk-label-container\"><div class=\"sk-label sk-toggleable\"><input class=\"sk-toggleable__control sk-hidden--visually\" id=\"sk-estimator-id-345\" type=\"checkbox\" ><label for=\"sk-estimator-id-345\" class=\"sk-toggleable__label sk-toggleable__label-arrow\">age</label><div class=\"sk-toggleable__content\"><pre>[&#x27;Age&#x27;]</pre></div></div></div><div class=\"sk-serial\"><div class=\"sk-item\"><div class=\"sk-serial\"><div class=\"sk-item\"><div class=\"sk-estimator sk-toggleable\"><input class=\"sk-toggleable__control sk-hidden--visually\" id=\"sk-estimator-id-346\" type=\"checkbox\" ><label for=\"sk-estimator-id-346\" class=\"sk-toggleable__label sk-toggleable__label-arrow\">SimpleImputer</label><div class=\"sk-toggleable__content\"><pre>SimpleImputer(strategy=&#x27;median&#x27;)</pre></div></div></div><div class=\"sk-item\"><div class=\"sk-estimator sk-toggleable\"><input class=\"sk-toggleable__control sk-hidden--visually\" id=\"sk-estimator-id-347\" type=\"checkbox\" ><label for=\"sk-estimator-id-347\" class=\"sk-toggleable__label sk-toggleable__label-arrow\">KBinsDiscretizer</label><div class=\"sk-toggleable__content\"><pre>KBinsDiscretizer(encode=&#x27;ordinal&#x27;, n_bins=4, strategy=&#x27;uniform&#x27;)</pre></div></div></div><div class=\"sk-item\"><div class=\"sk-estimator sk-toggleable\"><input class=\"sk-toggleable__control sk-hidden--visually\" id=\"sk-estimator-id-348\" type=\"checkbox\" ><label for=\"sk-estimator-id-348\" class=\"sk-toggleable__label sk-toggleable__label-arrow\">StandardScaler</label><div class=\"sk-toggleable__content\"><pre>StandardScaler()</pre></div></div></div></div></div></div></div></div><div class=\"sk-parallel-item\"><div class=\"sk-item\"><div class=\"sk-label-container\"><div class=\"sk-label sk-toggleable\"><input class=\"sk-toggleable__control sk-hidden--visually\" id=\"sk-estimator-id-349\" type=\"checkbox\" ><label for=\"sk-estimator-id-349\" class=\"sk-toggleable__label sk-toggleable__label-arrow\">num</label><div class=\"sk-toggleable__content\"><pre>[&#x27;SibSp&#x27;, &#x27;Parch&#x27;, &#x27;Fare&#x27;]</pre></div></div></div><div class=\"sk-serial\"><div class=\"sk-item\"><div class=\"sk-serial\"><div class=\"sk-item\"><div class=\"sk-estimator sk-toggleable\"><input class=\"sk-toggleable__control sk-hidden--visually\" id=\"sk-estimator-id-350\" type=\"checkbox\" ><label for=\"sk-estimator-id-350\" class=\"sk-toggleable__label sk-toggleable__label-arrow\">SimpleImputer</label><div class=\"sk-toggleable__content\"><pre>SimpleImputer(strategy=&#x27;median&#x27;)</pre></div></div></div><div class=\"sk-item\"><div class=\"sk-estimator sk-toggleable\"><input class=\"sk-toggleable__control sk-hidden--visually\" id=\"sk-estimator-id-351\" type=\"checkbox\" ><label for=\"sk-estimator-id-351\" class=\"sk-toggleable__label sk-toggleable__label-arrow\">StandardScaler</label><div class=\"sk-toggleable__content\"><pre>StandardScaler()</pre></div></div></div></div></div></div></div></div><div class=\"sk-parallel-item\"><div class=\"sk-item\"><div class=\"sk-label-container\"><div class=\"sk-label sk-toggleable\"><input class=\"sk-toggleable__control sk-hidden--visually\" id=\"sk-estimator-id-352\" type=\"checkbox\" ><label for=\"sk-estimator-id-352\" class=\"sk-toggleable__label sk-toggleable__label-arrow\">cat</label><div class=\"sk-toggleable__content\"><pre>[&#x27;Pclass&#x27;, &#x27;Sex&#x27;, &#x27;Embarked&#x27;]</pre></div></div></div><div class=\"sk-serial\"><div class=\"sk-item\"><div class=\"sk-serial\"><div class=\"sk-item\"><div class=\"sk-estimator sk-toggleable\"><input class=\"sk-toggleable__control sk-hidden--visually\" id=\"sk-estimator-id-353\" type=\"checkbox\" ><label for=\"sk-estimator-id-353\" class=\"sk-toggleable__label sk-toggleable__label-arrow\">SimpleImputer</label><div class=\"sk-toggleable__content\"><pre>SimpleImputer(strategy=&#x27;most_frequent&#x27;)</pre></div></div></div><div class=\"sk-item\"><div class=\"sk-estimator sk-toggleable\"><input class=\"sk-toggleable__control sk-hidden--visually\" id=\"sk-estimator-id-354\" type=\"checkbox\" ><label for=\"sk-estimator-id-354\" class=\"sk-toggleable__label sk-toggleable__label-arrow\">OneHotEncoder</label><div class=\"sk-toggleable__content\"><pre>OneHotEncoder(sparse_output=False)</pre></div></div></div></div></div></div></div></div></div></div><div class=\"sk-item\"><div class=\"sk-estimator sk-toggleable\"><input class=\"sk-toggleable__control sk-hidden--visually\" id=\"sk-estimator-id-355\" type=\"checkbox\" ><label for=\"sk-estimator-id-355\" class=\"sk-toggleable__label sk-toggleable__label-arrow\">RandomForestClassifier</label><div class=\"sk-toggleable__content\"><pre>RandomForestClassifier(max_depth=20, min_samples_split=10, n_estimators=200,\n",
              "                       random_state=7)</pre></div></div></div></div></div></div></div></div></div></div></div></div>"
            ]
          },
          "metadata": {},
          "execution_count": 198
        }
      ]
    },
    {
      "cell_type": "code",
      "source": [
        "cv_results = pd.DataFrame(grid_search.cv_results_)\n",
        "cv_results.sort_values(by=\"mean_test_score\", ascending=False, inplace=True)\n",
        "cv_results.head()"
      ],
      "metadata": {
        "colab": {
          "base_uri": "https://localhost:8080/",
          "height": 357
        },
        "id": "mWL3IQc9rE74",
        "outputId": "bb21959f-2c84-47a7-cb64-de6362b2243f"
      },
      "execution_count": null,
      "outputs": [
        {
          "output_type": "execute_result",
          "data": {
            "text/plain": [
              "    mean_fit_time  std_fit_time  mean_score_time  std_score_time  \\\n",
              "49       0.333421      0.006513         0.024760        0.000871   \n",
              "46       0.357895      0.036937         0.024514        0.001466   \n",
              "36       0.340926      0.234582         0.029624        0.023341   \n",
              "30       0.185747      0.004117         0.018588        0.001531   \n",
              "78       0.184772      0.004538         0.017825        0.000557   \n",
              "\n",
              "   param_forest_clf_model__max_depth param_forest_clf_model__min_samples_leaf  \\\n",
              "49                                 5                                        4   \n",
              "46                                 5                                        4   \n",
              "36                                 5                                        2   \n",
              "30                                 5                                        1   \n",
              "78                                 7                                        4   \n",
              "\n",
              "   param_forest_clf_model__min_samples_split  \\\n",
              "49                                         5   \n",
              "46                                         2   \n",
              "36                                         2   \n",
              "30                                         5   \n",
              "78                                        10   \n",
              "\n",
              "   param_forest_clf_model__n_estimators  \\\n",
              "49                                  200   \n",
              "46                                  200   \n",
              "36                                  100   \n",
              "30                                  100   \n",
              "78                                  100   \n",
              "\n",
              "                                               params  split0_test_score  \\\n",
              "49  {'forest_clf_model__max_depth': 5, 'forest_clf...           0.804196   \n",
              "46  {'forest_clf_model__max_depth': 5, 'forest_clf...           0.804196   \n",
              "36  {'forest_clf_model__max_depth': 5, 'forest_clf...           0.811189   \n",
              "30  {'forest_clf_model__max_depth': 5, 'forest_clf...           0.804196   \n",
              "78  {'forest_clf_model__max_depth': 7, 'forest_clf...           0.811189   \n",
              "\n",
              "    split1_test_score  split2_test_score  split3_test_score  \\\n",
              "49           0.846154           0.816901           0.788732   \n",
              "46           0.846154           0.816901           0.788732   \n",
              "36           0.846154           0.809859           0.795775   \n",
              "30           0.853147           0.809859           0.795775   \n",
              "78           0.853147           0.830986           0.781690   \n",
              "\n",
              "    split4_test_score  mean_test_score  std_test_score  rank_test_score  \n",
              "49           0.845070         0.820211        0.022580                1  \n",
              "46           0.845070         0.820211        0.022580                1  \n",
              "36           0.838028         0.820201        0.018848                3  \n",
              "30           0.838028         0.820201        0.021739                3  \n",
              "78           0.823944         0.820191        0.023580                5  "
            ],
            "text/html": [
              "\n",
              "\n",
              "  <div id=\"df-3db2903c-ab5b-4392-b873-f703b67d2476\">\n",
              "    <div class=\"colab-df-container\">\n",
              "      <div>\n",
              "<style scoped>\n",
              "    .dataframe tbody tr th:only-of-type {\n",
              "        vertical-align: middle;\n",
              "    }\n",
              "\n",
              "    .dataframe tbody tr th {\n",
              "        vertical-align: top;\n",
              "    }\n",
              "\n",
              "    .dataframe thead th {\n",
              "        text-align: right;\n",
              "    }\n",
              "</style>\n",
              "<table border=\"1\" class=\"dataframe\">\n",
              "  <thead>\n",
              "    <tr style=\"text-align: right;\">\n",
              "      <th></th>\n",
              "      <th>mean_fit_time</th>\n",
              "      <th>std_fit_time</th>\n",
              "      <th>mean_score_time</th>\n",
              "      <th>std_score_time</th>\n",
              "      <th>param_forest_clf_model__max_depth</th>\n",
              "      <th>param_forest_clf_model__min_samples_leaf</th>\n",
              "      <th>param_forest_clf_model__min_samples_split</th>\n",
              "      <th>param_forest_clf_model__n_estimators</th>\n",
              "      <th>params</th>\n",
              "      <th>split0_test_score</th>\n",
              "      <th>split1_test_score</th>\n",
              "      <th>split2_test_score</th>\n",
              "      <th>split3_test_score</th>\n",
              "      <th>split4_test_score</th>\n",
              "      <th>mean_test_score</th>\n",
              "      <th>std_test_score</th>\n",
              "      <th>rank_test_score</th>\n",
              "    </tr>\n",
              "  </thead>\n",
              "  <tbody>\n",
              "    <tr>\n",
              "      <th>49</th>\n",
              "      <td>0.333421</td>\n",
              "      <td>0.006513</td>\n",
              "      <td>0.024760</td>\n",
              "      <td>0.000871</td>\n",
              "      <td>5</td>\n",
              "      <td>4</td>\n",
              "      <td>5</td>\n",
              "      <td>200</td>\n",
              "      <td>{'forest_clf_model__max_depth': 5, 'forest_clf...</td>\n",
              "      <td>0.804196</td>\n",
              "      <td>0.846154</td>\n",
              "      <td>0.816901</td>\n",
              "      <td>0.788732</td>\n",
              "      <td>0.845070</td>\n",
              "      <td>0.820211</td>\n",
              "      <td>0.022580</td>\n",
              "      <td>1</td>\n",
              "    </tr>\n",
              "    <tr>\n",
              "      <th>46</th>\n",
              "      <td>0.357895</td>\n",
              "      <td>0.036937</td>\n",
              "      <td>0.024514</td>\n",
              "      <td>0.001466</td>\n",
              "      <td>5</td>\n",
              "      <td>4</td>\n",
              "      <td>2</td>\n",
              "      <td>200</td>\n",
              "      <td>{'forest_clf_model__max_depth': 5, 'forest_clf...</td>\n",
              "      <td>0.804196</td>\n",
              "      <td>0.846154</td>\n",
              "      <td>0.816901</td>\n",
              "      <td>0.788732</td>\n",
              "      <td>0.845070</td>\n",
              "      <td>0.820211</td>\n",
              "      <td>0.022580</td>\n",
              "      <td>1</td>\n",
              "    </tr>\n",
              "    <tr>\n",
              "      <th>36</th>\n",
              "      <td>0.340926</td>\n",
              "      <td>0.234582</td>\n",
              "      <td>0.029624</td>\n",
              "      <td>0.023341</td>\n",
              "      <td>5</td>\n",
              "      <td>2</td>\n",
              "      <td>2</td>\n",
              "      <td>100</td>\n",
              "      <td>{'forest_clf_model__max_depth': 5, 'forest_clf...</td>\n",
              "      <td>0.811189</td>\n",
              "      <td>0.846154</td>\n",
              "      <td>0.809859</td>\n",
              "      <td>0.795775</td>\n",
              "      <td>0.838028</td>\n",
              "      <td>0.820201</td>\n",
              "      <td>0.018848</td>\n",
              "      <td>3</td>\n",
              "    </tr>\n",
              "    <tr>\n",
              "      <th>30</th>\n",
              "      <td>0.185747</td>\n",
              "      <td>0.004117</td>\n",
              "      <td>0.018588</td>\n",
              "      <td>0.001531</td>\n",
              "      <td>5</td>\n",
              "      <td>1</td>\n",
              "      <td>5</td>\n",
              "      <td>100</td>\n",
              "      <td>{'forest_clf_model__max_depth': 5, 'forest_clf...</td>\n",
              "      <td>0.804196</td>\n",
              "      <td>0.853147</td>\n",
              "      <td>0.809859</td>\n",
              "      <td>0.795775</td>\n",
              "      <td>0.838028</td>\n",
              "      <td>0.820201</td>\n",
              "      <td>0.021739</td>\n",
              "      <td>3</td>\n",
              "    </tr>\n",
              "    <tr>\n",
              "      <th>78</th>\n",
              "      <td>0.184772</td>\n",
              "      <td>0.004538</td>\n",
              "      <td>0.017825</td>\n",
              "      <td>0.000557</td>\n",
              "      <td>7</td>\n",
              "      <td>4</td>\n",
              "      <td>10</td>\n",
              "      <td>100</td>\n",
              "      <td>{'forest_clf_model__max_depth': 7, 'forest_clf...</td>\n",
              "      <td>0.811189</td>\n",
              "      <td>0.853147</td>\n",
              "      <td>0.830986</td>\n",
              "      <td>0.781690</td>\n",
              "      <td>0.823944</td>\n",
              "      <td>0.820191</td>\n",
              "      <td>0.023580</td>\n",
              "      <td>5</td>\n",
              "    </tr>\n",
              "  </tbody>\n",
              "</table>\n",
              "</div>\n",
              "      <button class=\"colab-df-convert\" onclick=\"convertToInteractive('df-3db2903c-ab5b-4392-b873-f703b67d2476')\"\n",
              "              title=\"Convert this dataframe to an interactive table.\"\n",
              "              style=\"display:none;\">\n",
              "\n",
              "  <svg xmlns=\"http://www.w3.org/2000/svg\" height=\"24px\"viewBox=\"0 0 24 24\"\n",
              "       width=\"24px\">\n",
              "    <path d=\"M0 0h24v24H0V0z\" fill=\"none\"/>\n",
              "    <path d=\"M18.56 5.44l.94 2.06.94-2.06 2.06-.94-2.06-.94-.94-2.06-.94 2.06-2.06.94zm-11 1L8.5 8.5l.94-2.06 2.06-.94-2.06-.94L8.5 2.5l-.94 2.06-2.06.94zm10 10l.94 2.06.94-2.06 2.06-.94-2.06-.94-.94-2.06-.94 2.06-2.06.94z\"/><path d=\"M17.41 7.96l-1.37-1.37c-.4-.4-.92-.59-1.43-.59-.52 0-1.04.2-1.43.59L10.3 9.45l-7.72 7.72c-.78.78-.78 2.05 0 2.83L4 21.41c.39.39.9.59 1.41.59.51 0 1.02-.2 1.41-.59l7.78-7.78 2.81-2.81c.8-.78.8-2.07 0-2.86zM5.41 20L4 18.59l7.72-7.72 1.47 1.35L5.41 20z\"/>\n",
              "  </svg>\n",
              "      </button>\n",
              "\n",
              "\n",
              "\n",
              "    <div id=\"df-9813b592-adf6-4a7b-a8d1-9ee4b8948446\">\n",
              "      <button class=\"colab-df-quickchart\" onclick=\"quickchart('df-9813b592-adf6-4a7b-a8d1-9ee4b8948446')\"\n",
              "              title=\"Suggest charts.\"\n",
              "              style=\"display:none;\">\n",
              "\n",
              "<svg xmlns=\"http://www.w3.org/2000/svg\" height=\"24px\"viewBox=\"0 0 24 24\"\n",
              "     width=\"24px\">\n",
              "    <g>\n",
              "        <path d=\"M19 3H5c-1.1 0-2 .9-2 2v14c0 1.1.9 2 2 2h14c1.1 0 2-.9 2-2V5c0-1.1-.9-2-2-2zM9 17H7v-7h2v7zm4 0h-2V7h2v10zm4 0h-2v-4h2v4z\"/>\n",
              "    </g>\n",
              "</svg>\n",
              "      </button>\n",
              "    </div>\n",
              "\n",
              "<style>\n",
              "  .colab-df-quickchart {\n",
              "    background-color: #E8F0FE;\n",
              "    border: none;\n",
              "    border-radius: 50%;\n",
              "    cursor: pointer;\n",
              "    display: none;\n",
              "    fill: #1967D2;\n",
              "    height: 32px;\n",
              "    padding: 0 0 0 0;\n",
              "    width: 32px;\n",
              "  }\n",
              "\n",
              "  .colab-df-quickchart:hover {\n",
              "    background-color: #E2EBFA;\n",
              "    box-shadow: 0px 1px 2px rgba(60, 64, 67, 0.3), 0px 1px 3px 1px rgba(60, 64, 67, 0.15);\n",
              "    fill: #174EA6;\n",
              "  }\n",
              "\n",
              "  [theme=dark] .colab-df-quickchart {\n",
              "    background-color: #3B4455;\n",
              "    fill: #D2E3FC;\n",
              "  }\n",
              "\n",
              "  [theme=dark] .colab-df-quickchart:hover {\n",
              "    background-color: #434B5C;\n",
              "    box-shadow: 0px 1px 3px 1px rgba(0, 0, 0, 0.15);\n",
              "    filter: drop-shadow(0px 1px 2px rgba(0, 0, 0, 0.3));\n",
              "    fill: #FFFFFF;\n",
              "  }\n",
              "</style>\n",
              "\n",
              "    <script>\n",
              "      async function quickchart(key) {\n",
              "        const containerElement = document.querySelector('#' + key);\n",
              "        const charts = await google.colab.kernel.invokeFunction(\n",
              "            'suggestCharts', [key], {});\n",
              "      }\n",
              "    </script>\n",
              "\n",
              "      <script>\n",
              "\n",
              "function displayQuickchartButton(domScope) {\n",
              "  let quickchartButtonEl =\n",
              "    domScope.querySelector('#df-9813b592-adf6-4a7b-a8d1-9ee4b8948446 button.colab-df-quickchart');\n",
              "  quickchartButtonEl.style.display =\n",
              "    google.colab.kernel.accessAllowed ? 'block' : 'none';\n",
              "}\n",
              "\n",
              "        displayQuickchartButton(document);\n",
              "      </script>\n",
              "      <style>\n",
              "    .colab-df-container {\n",
              "      display:flex;\n",
              "      flex-wrap:wrap;\n",
              "      gap: 12px;\n",
              "    }\n",
              "\n",
              "    .colab-df-convert {\n",
              "      background-color: #E8F0FE;\n",
              "      border: none;\n",
              "      border-radius: 50%;\n",
              "      cursor: pointer;\n",
              "      display: none;\n",
              "      fill: #1967D2;\n",
              "      height: 32px;\n",
              "      padding: 0 0 0 0;\n",
              "      width: 32px;\n",
              "    }\n",
              "\n",
              "    .colab-df-convert:hover {\n",
              "      background-color: #E2EBFA;\n",
              "      box-shadow: 0px 1px 2px rgba(60, 64, 67, 0.3), 0px 1px 3px 1px rgba(60, 64, 67, 0.15);\n",
              "      fill: #174EA6;\n",
              "    }\n",
              "\n",
              "    [theme=dark] .colab-df-convert {\n",
              "      background-color: #3B4455;\n",
              "      fill: #D2E3FC;\n",
              "    }\n",
              "\n",
              "    [theme=dark] .colab-df-convert:hover {\n",
              "      background-color: #434B5C;\n",
              "      box-shadow: 0px 1px 3px 1px rgba(0, 0, 0, 0.15);\n",
              "      filter: drop-shadow(0px 1px 2px rgba(0, 0, 0, 0.3));\n",
              "      fill: #FFFFFF;\n",
              "    }\n",
              "  </style>\n",
              "\n",
              "      <script>\n",
              "        const buttonEl =\n",
              "          document.querySelector('#df-3db2903c-ab5b-4392-b873-f703b67d2476 button.colab-df-convert');\n",
              "        buttonEl.style.display =\n",
              "          google.colab.kernel.accessAllowed ? 'block' : 'none';\n",
              "\n",
              "        async function convertToInteractive(key) {\n",
              "          const element = document.querySelector('#df-3db2903c-ab5b-4392-b873-f703b67d2476');\n",
              "          const dataTable =\n",
              "            await google.colab.kernel.invokeFunction('convertToInteractive',\n",
              "                                                     [key], {});\n",
              "          if (!dataTable) return;\n",
              "\n",
              "          const docLinkHtml = 'Like what you see? Visit the ' +\n",
              "            '<a target=\"_blank\" href=https://colab.research.google.com/notebooks/data_table.ipynb>data table notebook</a>'\n",
              "            + ' to learn more about interactive tables.';\n",
              "          element.innerHTML = '';\n",
              "          dataTable['output_type'] = 'display_data';\n",
              "          await google.colab.output.renderOutput(dataTable, element);\n",
              "          const docLink = document.createElement('div');\n",
              "          docLink.innerHTML = docLinkHtml;\n",
              "          element.appendChild(docLink);\n",
              "        }\n",
              "      </script>\n",
              "    </div>\n",
              "  </div>\n"
            ]
          },
          "metadata": {},
          "execution_count": 199
        }
      ]
    },
    {
      "cell_type": "code",
      "source": [],
      "metadata": {
        "id": "PahdN4zzr-Jn"
      },
      "execution_count": null,
      "outputs": []
    }
  ]
}